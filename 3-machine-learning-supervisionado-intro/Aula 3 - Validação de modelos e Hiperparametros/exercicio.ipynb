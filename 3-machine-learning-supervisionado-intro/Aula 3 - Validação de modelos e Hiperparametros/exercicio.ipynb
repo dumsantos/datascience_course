{
 "cells": [
  {
   "cell_type": "markdown",
   "metadata": {},
   "source": [
    "# Exercicios\n",
    "\n",
    "<br>\n",
    "<img src=\"img\\imdb.png\" >\n",
    "<br>\n",
    "\n",
    "Utilize o dataset train.csv para os exercicios."
   ]
  },
  {
   "cell_type": "markdown",
   "metadata": {},
   "source": [
    "#### Estamos em 2015 e você trabalha em uma empresa que compra filmes para passar no cinema. Bons filmes custam caro, assim como filmes ruins barato, mas Bons filmes atraem mais público. Seu chefe sabe que você está aprendendo Machine Learning e te propõe a seguinte tarefa:  - Precisamos achar uma boa oportunidade que nos faça aumentar o lucro da empresa!\n",
    "\n",
    "Você conseguirá aumentar o lucro da empresa quando comprar um filme que é subvalorizado mas que as features dele indicam que será um bom filme.\n",
    "\n",
    "Se pudessemos descobrir quais filmes que as pessoas acham que seriam ruins mas na verdade são bons, poderiamos investir apenas nestes e ganhar a diferença já que foi mal precificado.\n",
    "\n",
    "\n",
    "Vamos partir dos seguintes pressupostos:\n",
    "- Um filme bom ou ruim do ponto de vista de quem está precificando será o tamanho do seu orçamento (budget).\n",
    "\n",
    "- Um filme Bom/Ruim do ponto de vista do público serão filmes com altas notas (imdb_score).\n",
    "\n",
    "Então vamos procurar os filmes que tenham uma boa relação entre budget e score.\n",
    "(é como se quisessemos comprar scores pois isso que o público quer ver mas os donos dos filmes vendem baseado no budget do filme).\n",
    "\n",
    "O primeiro passo é entendermos bem o problema e os dados disponíveis.\n",
    "\n",
    "Por exemplo, se vamos comprar um filme, algumas features não estarão disponiveis antes da compra (elas são criadas apenas após a compra) para predizer o rating como as vendas de ingresso, faturamento, etc.\n",
    "\n",
    "Depois separamos nos nossos dados quais serão nossas variáveis explicativas (Os X) e qual é nossa variável target (nosso Y).\n",
    "\n",
    "Caso algumas das nossas variáveis explicativas sejam categórias, precisamos transforma-las em numéricas para que o modelo consiga entende-la.\n",
    "\n",
    "Podemos utilizar uma função do pandas dessa forma:\n",
    "\n",
    "``` df = pd.get_dummies(df) ```\n",
    "\n",
    "O último passo antes de rodar um modelo é dividir nossos dados em duas partes, uma para treinar o modelo e outra para testa-lo, podemos fazer uma amostra aleatória ou usar a função do sklearn que nos ajuda com isso:\n",
    "\n",
    "```\n",
    "from sklearn.model_selection import train_test_split\n",
    "\n",
    " X_train, X_test, y_train, y_test = train_test_split(df[X], df[y], test_size=0.33, random_state=42)\n",
    "```\n",
    "Para isso Treine um Modelo de Machine Learning supervisionado que aprenda a predizer as notas dos filmes.\n",
    "\n",
    "Utilize os 4 passos visto na primeira aula de machine learning:\n",
    "```from sklearn.linear_model import LinearRegression```\n",
    "\n",
    "Após treinar o modelo vamos ver como estão as [métricas](http://scikit-learn.org/stable/modules/classes.html#module-sklearn.metrics) de assertividade.\n",
    "\n",
    "Analisar o R2, RMSE, MSE. Qual é o melhor nesse caso?\n",
    "\n",
    "Exemplo do MSE\n",
    "```\n",
    "from sklearn.metrics import mean_squared_error\n",
    "\n",
    "mean_squared_error(y_true, y_pred)\n",
    "```\n",
    "\n",
    "Como poderiamos melhorar esse modelo? Será que existe algum método para colocar todas as variáveis ao quadrado, cubo, etc para que possamos capturar efeitos não lineares? Óbviamente existe e já foi implementado no sklearn, podemos usar a função:\n",
    "\n",
    "```\n",
    "from sklearn.preprocessing import PolynomialFeatures\n",
    "\n",
    "poly = PolynomialFeatures(degree=3)\n",
    "\n",
    "df = poly.fit_transform(df)\n",
    "```\n",
    "\n",
    "Aparentemente sempre que aumentamos o grau do polinomio nosso modelo fica melhor, porque não podemos botar um número alto como 10?\n",
    "\n",
    "Rode o algoritmo com um grau = 10 e compare as métricas de treino contra as métricas de teste. O que está acontecendo?\n",
    "\n",
    "Parece que estamos chegando perto de um modelo bom para nosso objetivo de identificar oportunidade nos filmes. Será que poderiamos utilizar outro método de regressão mais robusto? Vamos tentar utilizar um dos melhores métodos que utiliza arvores aleatórias (usado geralmente em classificação e as estudaremos mais profundamente no módulo 4) como modelo:\n",
    "\n",
    "Treine agora o mesmo modelo utilizando um modelo não-linear (não exige que as correlações sejam lineares) e compare as métricas.\n",
    "\n",
    "```from sklearn.ensemble import RandomForestRegressor```\n",
    "\n",
    "\n",
    "\n",
    "Agora estamos em 2016. Use seu modelo treinado com todos os filmes até 2015 para responder a pergunta do seu chefe com os filmes que apareceram em 2016: Quais são os filmes que são realmente oportunidades de ganhar dinheiro (altos ratings, baixo custo)."
   ]
  },
  {
   "cell_type": "markdown",
   "metadata": {},
   "source": [
    "# Passo 1 - Entender o problema"
   ]
  },
  {
   "cell_type": "markdown",
   "metadata": {},
   "source": [
    "O problema está descrito no tutorial acima. O que não está escrito é qual abordagem deveriamos ter para resolve-lo.\n",
    "\n",
    "Vamos pensar em uma possibilidade de solução aqui e escreveremos todo o restante do código pensando em como alcançar esse resultado.\n",
    "\n",
    "Não existe um só caminho para resolver esse problema, mas a solução que eu pensei em aplicar é a seguinte:\n",
    "\n",
    "    1) de um lado os donos dos filmes precificam seus produtos com base em quanto gastaram.\n",
    "\n",
    "    2) Seguindo o pressuposto do problema, o sucesso de bilheteria do filme depende apenas das notas que as pessoas vão dar a ele.\n",
    "\n",
    "Com isso chegamos a conclusão que o melhor filme para apostarmos são aqueles que a relação entre o preço (1-custo) e o (2-receita) é a mais vantajoso para nós.\n",
    "\n",
    "Uma forma de pensar é que temos que \"comprar\" scores então procuraremos os scores mais baratos que será dado por (1)/(2) -> custo do filme / beneficio do filme.\n",
    "\n",
    "Então precisamos treinar um modelo de machine learning que quando chegar um filme novo, prediga com o máximo de acurácia a nota média que as pessoas darão para ele ( o quociente na nossa equação) já que o númerador (o custo do filme) já saberemos."
   ]
  },
  {
   "cell_type": "code",
   "execution_count": 2,
   "metadata": {},
   "outputs": [],
   "source": [
    "import pandas as pd\n",
    "import numpy as np"
   ]
  },
  {
   "cell_type": "code",
   "execution_count": 3,
   "metadata": {},
   "outputs": [],
   "source": [
    "df_raw = pd.read_csv(\"imdb_train.zip\")"
   ]
  },
  {
   "cell_type": "code",
   "execution_count": 4,
   "metadata": {},
   "outputs": [],
   "source": [
    "# agora vamos fazer uma cópia do nosso dataframe.\n",
    "# Note que usamos a função deep=True pois só assim garantimos que o \n",
    "# dado está duplicado e não é apenas um \"atalho\" para o dataset original\n",
    "df = df_raw.copy(deep=True)"
   ]
  },
  {
   "cell_type": "markdown",
   "metadata": {},
   "source": [
    "# Passo 2 - Escolher as variáveis.\n",
    "\n",
    "\n",
    "Definido claramente o que vamos fazer, vamos olhar as variáveis disponiveis e ver o que faz ou não sentido incluir.\n",
    "\n",
    "Diferentemente de modelagem estatistica, em machine learning não estamos preocupados com as variáveis serem correlacionadas, então não há um bom motivo (por hora) para retirarmos variáveis do modelo, portanto, meu primeiro modelo de 'benchmark' terá o máximo de variáveis/features possível.\n",
    "\n",
    "Algumas são facilmente excluidas, pois mesmo que sejam boas preditoras como o tamanho da bilheteria, ela só estará disponível após o filme ser lançado. Parte bastante importante da definição de um modelo de machine learning é pensar nesses pontos, de quais variáveis estarão disponiveis em um modelo de produção e isso, muitas vezes, pode ser bastante complicado por conta do carater temporal das variáveis tornando-se um \"leakage\" ou seja, um vazamento de dados.\n",
    "\n",
    "\n",
    "Variáveis como gross sabemos que não estará disponivel antes do lançamento então não vamos usa-la para treinar nosso modelo.\n",
    "\n",
    "Outra variável que não faz sentido para um modelo de machine é aquela que identifica o filme como um id, index ou o nome do filme."
   ]
  },
  {
   "cell_type": "code",
   "execution_count": 5,
   "metadata": {},
   "outputs": [
    {
     "data": {
      "text/plain": [
       "['Unnamed: 0',\n",
       " 'color',\n",
       " 'director_name',\n",
       " 'num_critic_for_reviews',\n",
       " 'duration',\n",
       " 'director_facebook_likes',\n",
       " 'actor_3_facebook_likes',\n",
       " 'actor_2_name',\n",
       " 'actor_1_facebook_likes',\n",
       " 'gross',\n",
       " 'genres',\n",
       " 'actor_1_name',\n",
       " 'movie_title',\n",
       " 'num_voted_users',\n",
       " 'cast_total_facebook_likes',\n",
       " 'actor_3_name',\n",
       " 'facenumber_in_poster',\n",
       " 'plot_keywords',\n",
       " 'movie_imdb_link',\n",
       " 'num_user_for_reviews',\n",
       " 'language',\n",
       " 'country',\n",
       " 'content_rating',\n",
       " 'budget',\n",
       " 'title_year',\n",
       " 'actor_2_facebook_likes',\n",
       " 'imdb_score',\n",
       " 'aspect_ratio',\n",
       " 'movie_facebook_likes']"
      ]
     },
     "execution_count": 5,
     "metadata": {},
     "output_type": "execute_result"
    }
   ],
   "source": [
    "list(df_raw)"
   ]
  },
  {
   "cell_type": "code",
   "execution_count": 6,
   "metadata": {},
   "outputs": [],
   "source": [
    "columns_to_drop = ['Unnamed: 0', 'gross', 'movie_title', 'plot_keywords']"
   ]
  },
  {
   "cell_type": "code",
   "execution_count": 7,
   "metadata": {},
   "outputs": [],
   "source": [
    "df = df_raw.drop(columns_to_drop, axis=1)"
   ]
  },
  {
   "cell_type": "code",
   "execution_count": 8,
   "metadata": {},
   "outputs": [
    {
     "data": {
      "text/plain": [
       "['color',\n",
       " 'director_name',\n",
       " 'num_critic_for_reviews',\n",
       " 'duration',\n",
       " 'director_facebook_likes',\n",
       " 'actor_3_facebook_likes',\n",
       " 'actor_2_name',\n",
       " 'actor_1_facebook_likes',\n",
       " 'genres',\n",
       " 'actor_1_name',\n",
       " 'num_voted_users',\n",
       " 'cast_total_facebook_likes',\n",
       " 'actor_3_name',\n",
       " 'facenumber_in_poster',\n",
       " 'movie_imdb_link',\n",
       " 'num_user_for_reviews',\n",
       " 'language',\n",
       " 'country',\n",
       " 'content_rating',\n",
       " 'budget',\n",
       " 'title_year',\n",
       " 'actor_2_facebook_likes',\n",
       " 'imdb_score',\n",
       " 'aspect_ratio',\n",
       " 'movie_facebook_likes']"
      ]
     },
     "execution_count": 8,
     "metadata": {},
     "output_type": "execute_result"
    }
   ],
   "source": [
    "list(df)"
   ]
  },
  {
   "cell_type": "markdown",
   "metadata": {},
   "source": [
    "# Passo 3 - Tratando as variáveis."
   ]
  },
  {
   "cell_type": "markdown",
   "metadata": {},
   "source": [
    "**Essa é a etapa mais longa, mais importante e mais dificil de um problema de machine learning.** (falaremos mais sobre essas técnicas nas próximas aulas)\n",
    "\n",
    "Essa etapa podemos usar todos os tratamentos de variáveis que aprendemos na modelagem estatistica quando estavamos rodando regressões simples. Não vou repetir os tratamentos mas todos podem ser utilizados.\n",
    "\n",
    "\n",
    "#### Campos nulos.\n",
    "\n",
    "Quando rodamos um dff.describe() percebemos muitos campos nulos e há diversas formas de trata-los.\n",
    "\n",
    "Alternativas para tratar nulos.\n",
    "\n",
    "1) Deleter todos os nulos.\n",
    "\n",
    "```\n",
    "df = df.dropna()\n",
    "```\n",
    "\n",
    "2) Substituir os nans pelas médias (nas numéricas) ou modas (nas categóricas).\n",
    "\n",
    "df['numericas'] = df['numericas'].fillna(df.mean())\n",
    "\n",
    "\n",
    "3) rodar um \"pré-ML\" que prevê os valores faltantes.\n",
    "\n",
    "\n",
    "\n",
    "4) Usar um algoritmo robusto para campos nulos.\n",
    "\n",
    "ex:\n",
    "\n",
    "```\n",
    "import xgboost as xgb\n",
    "```"
   ]
  },
  {
   "cell_type": "markdown",
   "metadata": {},
   "source": [
    "Vamos usar uma abordagem mista. Nas variáveis numéricas vamos substituir pela média e nas variáveis categóricas vamos excluir as linhas com campos nulos para aprender as duas metodologias. \n",
    "\n",
    "(conforme vimos em estatistica, excluir linhas que não são aleatórias enviesam nosso modelo e não deve ser feito a menos que você tenha certeza que aqueles nulos são por alguma falha aleatória o que é bastante raro. Não sendo aleatório devemos tratar com uma das outras metodologias, principalmente a número 4)."
   ]
  },
  {
   "cell_type": "code",
   "execution_count": 9,
   "metadata": {},
   "outputs": [
    {
     "data": {
      "text/plain": [
       "color                         object\n",
       "director_name                 object\n",
       "num_critic_for_reviews       float64\n",
       "duration                     float64\n",
       "director_facebook_likes      float64\n",
       "actor_3_facebook_likes       float64\n",
       "actor_2_name                  object\n",
       "actor_1_facebook_likes       float64\n",
       "genres                        object\n",
       "actor_1_name                  object\n",
       "num_voted_users                int64\n",
       "cast_total_facebook_likes      int64\n",
       "actor_3_name                  object\n",
       "facenumber_in_poster         float64\n",
       "movie_imdb_link               object\n",
       "num_user_for_reviews         float64\n",
       "language                      object\n",
       "country                       object\n",
       "content_rating                object\n",
       "budget                       float64\n",
       "title_year                   float64\n",
       "actor_2_facebook_likes       float64\n",
       "imdb_score                   float64\n",
       "aspect_ratio                 float64\n",
       "movie_facebook_likes         float64\n",
       "dtype: object"
      ]
     },
     "execution_count": 9,
     "metadata": {},
     "output_type": "execute_result"
    }
   ],
   "source": [
    "df.dtypes"
   ]
  },
  {
   "cell_type": "code",
   "execution_count": 10,
   "metadata": {},
   "outputs": [],
   "source": [
    "df_numeric = df.select_dtypes(include=[np.number]) # dataset apenas com colunas numéricas.\n",
    "numericas = list(df_numeric)"
   ]
  },
  {
   "cell_type": "code",
   "execution_count": 11,
   "metadata": {},
   "outputs": [],
   "source": [
    "# Nessa função selecionamos todas as colunas númericas e substituimos seus \n",
    "# valores pelas médias das colunas. A função fillna retorna todos os campos \n",
    "# nulos e a função df.mean retorna as médias de cada coluna.\n",
    "df[numericas] = df[numericas].fillna(df.mean())"
   ]
  },
  {
   "cell_type": "code",
   "execution_count": 12,
   "metadata": {},
   "outputs": [
    {
     "data": {
      "text/plain": [
       "(4937, 25)"
      ]
     },
     "execution_count": 12,
     "metadata": {},
     "output_type": "execute_result"
    }
   ],
   "source": [
    "# já nas variáveis categóricas (que contém texto ao invés de números)\n",
    "# vamos substituir os campos nulos por uma nova string que representa que aquele campo é faltante.\n",
    "df = df.fillna('na') # substitui os dados faltantes por 'na'\n",
    "df = df.dropna() # se sobrar alguma linha (nao deveria), dropamos essas linhas.\n",
    "df.shape"
   ]
  },
  {
   "cell_type": "code",
   "execution_count": 13,
   "metadata": {},
   "outputs": [
    {
     "data": {
      "text/plain": [
       "(4937, 25)"
      ]
     },
     "execution_count": 13,
     "metadata": {},
     "output_type": "execute_result"
    }
   ],
   "source": [
    "df.shape"
   ]
  },
  {
   "cell_type": "markdown",
   "metadata": {},
   "source": [
    "Nossa segunda etapa de tratamento das variáveis consiste em transformar as variáveis em funções lineares (se estivermos rodando modelos lineares) através da aplicação de log nas variáveis \"explosivas\" tornando-a linear. Não faremos essa etapa pois nosso objetivo é rodar um algoritmo não linear em seguida."
   ]
  },
  {
   "cell_type": "markdown",
   "metadata": {},
   "source": [
    "A terceira etapa de preparação dos dados é criar variáveis dummies para nossas features categóricas.\n",
    "\n",
    "Basicamente os algoritmos de machine learning não conseguem interpretar textos como o genêro de um filme ou os atores que participaram então precisamos transformar essas colunas categóricas em colunas numéricas para que o algoritmo possa capturar seus efeitos e predizer nosso target.\n",
    "\n",
    "Substituir as categorias por números dessa forma: COluna genêro de filme com valores [Terror=1, Comédia=2, Ação=3] embora faça o algoritmo rodar, não funcionará bem como variável explicativa pois elas não representam uma sequencia numérica. A forma mais simples de fazermos isso virar uma variável explicativa é pegar cada uma das categorias possíveis e transformar em uma coluna forma única que recebe apenas dois valores, 0 e 1. 0 se o valor não estiver presente e 1 caso esteja presente. Dessa forma nossa  representação ficará da seguinte forma. \n",
    "\n",
    "- Coluna 1 = genero_terror\n",
    "- Coluna 2 = genero_comédia\n",
    "- Coluna 3 = genero_ação\n",
    "\n",
    "Assumindo 1 ou 0 dependendo do filme.\n",
    "\n",
    "Uma observação sobre essa técnica é que não é necessário colocar todas as possibilidades, uma delas se torna redundante e ao modelar esse caso podemos excluir uma delas.\n",
    "\n",
    "Essa técninca chamamos de one_hot (sklearn) e no pandas temos a função get_dummies que faz o mesmo processo."
   ]
  },
  {
   "cell_type": "code",
   "execution_count": 14,
   "metadata": {},
   "outputs": [],
   "source": [
    "# df = pd.get_dummies(df, drop_first=True)"
   ]
  },
  {
   "cell_type": "code",
   "execution_count": 15,
   "metadata": {},
   "outputs": [
    {
     "data": {
      "text/plain": [
       "(4937, 25)"
      ]
     },
     "execution_count": 15,
     "metadata": {},
     "output_type": "execute_result"
    }
   ],
   "source": [
    "df.shape"
   ]
  },
  {
   "cell_type": "markdown",
   "metadata": {},
   "source": [
    "Aumentamos das 26 colunas originais para mais de 15mil colunas!"
   ]
  },
  {
   "cell_type": "markdown",
   "metadata": {},
   "source": [
    "# Passo 4 - Treinando o modelo de Machine Learning\n",
    "\n",
    "Essa é a etapa mais simples mas que exige mais experiência.\n",
    "\n",
    "1) qual algoritmos escolher?\n",
    "\n",
    "Sabemos que nosso problema se trata de prever uma variável continua (uma nota) e como temos diversas notas para treina-lo podemos usar uma abordagem supervisionado.\n",
    "\n",
    "(obs: poderiamos tentar transformar cada intervalo de notas em uma categoria, ex: [0,1] -> 1, [1,2] -> 2 .... [9,10] -> 10 e prever usando um algoritmo de classificação, mas como as notas fazem sentido como uma variável numérica, ou seja, a nota seguinte é a nota anterior + 1, um algoritmo de classificação dificilmente superaria um de regressão já que as probabilidades de cada classe prevista em uma classificação é independente, é como se uma nota não tivesse nenhuma relação com a outra e isso não é verdade no nosso caso).\n",
    "\n",
    "Então:\n",
    "\n",
    "    Supervisionado -> Regressão\n",
    "    \n",
    "    \n",
    "Mas há dezenas de algoritmos de regressão (ver todos os disponiveis no sklearn nesse link: http://scikit-learn.org/stable/supervised_learning.html )\n",
    "\n",
    "Alguns deles:\n",
    "- MQO (o mais simples que estudamos em estatistica e abrimos o código na aula2 de machine learning).\n",
    "- Ridge -> Método de Shrinkage. Conrola sobreajuste com L1\n",
    "\n",
    "    $L = ∑( Ŷi– Yi)^2 + λ∑ β^2$\n",
    "\n",
    "\n",
    "- lasso -> Também método de Shrinkage. controle sobreajuste com L2\n",
    "\n",
    "   $ L = ∑( Ŷi– Yi)^2 + λ∑ |β|$\n",
    "\n",
    "\n",
    "- elasticnet -> combinação de Lasso + Ridge\n",
    "- Regressão Bayesiana -> Retorna distribuições de probabilidade ao invés de simples valores.\n",
    "\n",
    "    Ex: https://towardsdatascience.com/introduction-to-bayesian-linear-regression-e66e60791ea7?gi=392eaf9ea3b \n",
    "    \n",
    "- Arvores aleatórias -> insere não lineariedades\n",
    "- Redes neurais -> também insere não lineariedades.\n",
    "- Ensambles -> Combinação de diferentes modelos.\n",
    "- Etc\n",
    "\n",
    "\n",
    "Qual usar ?\n",
    "\n",
    "No nosso exemplo vamos usar o mais simples MQO para usar de comparativo e um extremamente poderoso que são as arvores aleatórias (que ainda não vimos seu funcionamento).\n",
    "\n",
    "Na prática, quando colocamos um modelo em produção, podemos rodar diferentes algoritmos (que tem suas próprias vantagens e desvantagens) e pegar uma combinação desses diferentes algoritmos como o resultado final. A essa combinação de modelos damos o nome de **ensamble**.\n",
    "\n",
    "Para rodar qualquer modelo de machine learning desses, vamos passar pelos mesmos passos:\n",
    "\n",
    "    1) Importar o modelo desejado.\n",
    "    2) Instanciar em uma variável com os parâmetros desejados (ainda não vimos os parâmetros).\n",
    "    3) Separar nossos dados em variáveis explicativas (X) e explicadas/target (Y)\n",
    "    4) Separar nossos dados em Treino e Teste\n",
    "    5) Treinar o Modelo com o .fit()\n",
    "    6) Analisar as métricas, se não estiver boas, voltamos aos passos anteriores de trabalhar com as variáveis.\n",
    "    7) Estando tudo ok, rodamos previsões"
   ]
  },
  {
   "cell_type": "markdown",
   "metadata": {},
   "source": [
    "**1) Importar modelos**"
   ]
  },
  {
   "cell_type": "code",
   "execution_count": 16,
   "metadata": {},
   "outputs": [],
   "source": [
    "from sklearn.ensemble import RandomForestRegressor\n",
    "from sklearn.linear_model import LinearRegression"
   ]
  },
  {
   "cell_type": "markdown",
   "metadata": {},
   "source": [
    "**2) Instanciar os modelos em variáveis**"
   ]
  },
  {
   "cell_type": "code",
   "execution_count": 17,
   "metadata": {},
   "outputs": [],
   "source": [
    "modelo_MQO = LinearRegression()\n",
    "modelo_RF = RandomForestRegressor()"
   ]
  },
  {
   "cell_type": "markdown",
   "metadata": {},
   "source": [
    "**3) Separar os dados em X e Y**"
   ]
  },
  {
   "cell_type": "code",
   "execution_count": 18,
   "metadata": {},
   "outputs": [
    {
     "data": {
      "text/plain": [
       "['num_critic_for_reviews',\n",
       " 'duration',\n",
       " 'director_facebook_likes',\n",
       " 'actor_3_facebook_likes',\n",
       " 'actor_1_facebook_likes',\n",
       " 'num_voted_users',\n",
       " 'cast_total_facebook_likes',\n",
       " 'facenumber_in_poster',\n",
       " 'num_user_for_reviews',\n",
       " 'budget',\n",
       " 'title_year',\n",
       " 'actor_2_facebook_likes',\n",
       " 'imdb_score',\n",
       " 'aspect_ratio',\n",
       " 'movie_facebook_likes']"
      ]
     },
     "execution_count": 18,
     "metadata": {},
     "output_type": "execute_result"
    }
   ],
   "source": [
    "numericas"
   ]
  },
  {
   "cell_type": "code",
   "execution_count": 19,
   "metadata": {},
   "outputs": [],
   "source": [
    "df_raw[numericas] = df_raw[numericas].fillna(df_raw[numericas].mean())"
   ]
  },
  {
   "cell_type": "code",
   "execution_count": 20,
   "metadata": {},
   "outputs": [
    {
     "data": {
      "text/plain": [
       "num_critic_for_reviews       0.303987\n",
       "duration                     0.261837\n",
       "director_facebook_likes      0.168952\n",
       "actor_3_facebook_likes       0.052178\n",
       "actor_1_facebook_likes       0.069684\n",
       "num_voted_users              0.414215\n",
       "cast_total_facebook_likes    0.079983\n",
       "facenumber_in_poster        -0.058702\n",
       "num_user_for_reviews         0.294641\n",
       "budget                       0.027775\n",
       "title_year                  -0.209660\n",
       "actor_2_facebook_likes       0.082535\n",
       "imdb_score                   1.000000\n",
       "aspect_ratio                 0.059623\n",
       "movie_facebook_likes         0.249753\n",
       "Name: imdb_score, dtype: float64"
      ]
     },
     "execution_count": 20,
     "metadata": {},
     "output_type": "execute_result"
    }
   ],
   "source": [
    "df.corr()['imdb_score']"
   ]
  },
  {
   "cell_type": "code",
   "execution_count": 21,
   "metadata": {},
   "outputs": [],
   "source": [
    "X = df[numericas].drop(['imdb_score'], axis = 1)\n",
    "y = df['imdb_score']"
   ]
  },
  {
   "cell_type": "code",
   "execution_count": 22,
   "metadata": {},
   "outputs": [],
   "source": [
    "from sklearn.linear_model import LinearRegression\n",
    "from sklearn.ensemble import GradientBoostingRegressor"
   ]
  },
  {
   "cell_type": "code",
   "execution_count": 23,
   "metadata": {},
   "outputs": [],
   "source": [
    "model_regressao_linear = LinearRegression()"
   ]
  },
  {
   "cell_type": "code",
   "execution_count": 24,
   "metadata": {},
   "outputs": [
    {
     "data": {
      "text/plain": [
       "LinearRegression(copy_X=True, fit_intercept=True, n_jobs=None,\n",
       "         normalize=False)"
      ]
     },
     "execution_count": 24,
     "metadata": {},
     "output_type": "execute_result"
    }
   ],
   "source": [
    "model_regressao_linear.fit(X, y)"
   ]
  },
  {
   "cell_type": "code",
   "execution_count": 25,
   "metadata": {},
   "outputs": [
    {
     "data": {
      "text/plain": [
       "0.285021028993076"
      ]
     },
     "execution_count": 25,
     "metadata": {},
     "output_type": "execute_result"
    }
   ],
   "source": [
    "model_regressao_linear.score(X, y)"
   ]
  },
  {
   "cell_type": "code",
   "execution_count": 26,
   "metadata": {},
   "outputs": [],
   "source": [
    "novo_X = X.sample(100)"
   ]
  },
  {
   "cell_type": "code",
   "execution_count": 27,
   "metadata": {},
   "outputs": [],
   "source": [
    "from sklearn.model_selection import train_test_split\n",
    "\n",
    "X_train, X_test, y_train, y_test = train_test_split(X,y,test_size=0.25)"
   ]
  },
  {
   "cell_type": "code",
   "execution_count": 28,
   "metadata": {},
   "outputs": [
    {
     "data": {
      "text/plain": [
       "(3702, 14)"
      ]
     },
     "execution_count": 28,
     "metadata": {},
     "output_type": "execute_result"
    }
   ],
   "source": [
    "X_train.shape"
   ]
  },
  {
   "cell_type": "code",
   "execution_count": 29,
   "metadata": {},
   "outputs": [
    {
     "data": {
      "text/plain": [
       "(3702,)"
      ]
     },
     "execution_count": 29,
     "metadata": {},
     "output_type": "execute_result"
    }
   ],
   "source": [
    "y_train.shape"
   ]
  },
  {
   "cell_type": "code",
   "execution_count": 30,
   "metadata": {},
   "outputs": [
    {
     "data": {
      "text/plain": [
       "LinearRegression(copy_X=True, fit_intercept=True, n_jobs=None,\n",
       "         normalize=False)"
      ]
     },
     "execution_count": 30,
     "metadata": {},
     "output_type": "execute_result"
    }
   ],
   "source": [
    "model_regressao_linear.fit(X_train, y_train)"
   ]
  },
  {
   "cell_type": "code",
   "execution_count": 31,
   "metadata": {},
   "outputs": [
    {
     "data": {
      "text/plain": [
       "0.2900537966880087"
      ]
     },
     "execution_count": 31,
     "metadata": {},
     "output_type": "execute_result"
    }
   ],
   "source": [
    "model_regressao_linear.score(X_train, y_train)"
   ]
  },
  {
   "cell_type": "code",
   "execution_count": 32,
   "metadata": {},
   "outputs": [
    {
     "data": {
      "text/plain": [
       "0.26628653516061807"
      ]
     },
     "execution_count": 32,
     "metadata": {},
     "output_type": "execute_result"
    }
   ],
   "source": [
    "model_regressao_linear.score(X_test, y_test)"
   ]
  },
  {
   "cell_type": "code",
   "execution_count": 33,
   "metadata": {},
   "outputs": [],
   "source": [
    "model_megazord = GradientBoostingRegressor(max_depth=3)"
   ]
  },
  {
   "cell_type": "code",
   "execution_count": 34,
   "metadata": {},
   "outputs": [
    {
     "data": {
      "text/plain": [
       "0.6005191415089501"
      ]
     },
     "execution_count": 34,
     "metadata": {},
     "output_type": "execute_result"
    }
   ],
   "source": [
    "model_megazord.fit(X_train, y_train)\n",
    "\n",
    "model_megazord.score(X_train, y_train)"
   ]
  },
  {
   "cell_type": "code",
   "execution_count": 35,
   "metadata": {},
   "outputs": [
    {
     "data": {
      "text/plain": [
       "0.4905963870825214"
      ]
     },
     "execution_count": 35,
     "metadata": {},
     "output_type": "execute_result"
    }
   ],
   "source": [
    "model_megazord.score(X_test, y_test)"
   ]
  },
  {
   "cell_type": "code",
   "execution_count": 38,
   "metadata": {},
   "outputs": [
    {
     "name": "stdout",
     "output_type": "stream",
     "text": [
      "Complexidade: 1, Score de Treino: 0.3691, Score de Teste: 0.3715\n",
      "Complexidade: 2, Score de Treino: 0.4974, Score de Teste: 0.4592\n",
      "Complexidade: 3, Score de Treino: 0.6005, Score de Teste: 0.4921\n",
      "Complexidade: 4, Score de Treino: 0.6957, Score de Teste: 0.523\n",
      "Complexidade: 5, Score de Treino: 0.7932, Score de Teste: 0.5411\n",
      "Complexidade: 6, Score de Treino: 0.8725, Score de Teste: 0.5207\n",
      "Complexidade: 7, Score de Treino: 0.9366, Score de Teste: 0.5341\n",
      "Complexidade: 8, Score de Treino: 0.9743, Score de Teste: 0.5271\n"
     ]
    }
   ],
   "source": [
    "for complexidade in range(1,9):\n",
    "    \n",
    "    model_megazord = GradientBoostingRegressor(max_depth=complexidade)\n",
    "    model_megazord.fit(X_train, y_train)\n",
    "\n",
    "    print(f'Complexidade: {complexidade}, Score de Treino: {round(model_megazord.score(X_train, y_train),4)}, Score de Teste: {round(model_megazord.score(X_test, y_test), 4)}')"
   ]
  },
  {
   "cell_type": "code",
   "execution_count": 39,
   "metadata": {},
   "outputs": [],
   "source": [
    "import xgboost as xgb"
   ]
  },
  {
   "cell_type": "code",
   "execution_count": 40,
   "metadata": {},
   "outputs": [],
   "source": [
    "model = xgb.XGBRegressor()"
   ]
  },
  {
   "cell_type": "code",
   "execution_count": 43,
   "metadata": {},
   "outputs": [],
   "source": [
    "numericas.append('director_name')"
   ]
  },
  {
   "cell_type": "code",
   "execution_count": 44,
   "metadata": {},
   "outputs": [
    {
     "data": {
      "text/plain": [
       "['num_critic_for_reviews',\n",
       " 'duration',\n",
       " 'director_facebook_likes',\n",
       " 'actor_3_facebook_likes',\n",
       " 'actor_1_facebook_likes',\n",
       " 'num_voted_users',\n",
       " 'cast_total_facebook_likes',\n",
       " 'facenumber_in_poster',\n",
       " 'num_user_for_reviews',\n",
       " 'budget',\n",
       " 'title_year',\n",
       " 'actor_2_facebook_likes',\n",
       " 'imdb_score',\n",
       " 'aspect_ratio',\n",
       " 'movie_facebook_likes',\n",
       " 'director_name']"
      ]
     },
     "execution_count": 44,
     "metadata": {},
     "output_type": "execute_result"
    }
   ],
   "source": [
    "numericas"
   ]
  },
  {
   "cell_type": "code",
   "execution_count": 46,
   "metadata": {},
   "outputs": [],
   "source": [
    "df_with_dummies=pd.get_dummies(df[numericas])"
   ]
  },
  {
   "cell_type": "code",
   "execution_count": 49,
   "metadata": {},
   "outputs": [],
   "source": [
    "y = df_with_dummies['imdb_score']\n",
    "X = df_with_dummies.drop(['imdb_score'], axis=1)"
   ]
  },
  {
   "cell_type": "code",
   "execution_count": 50,
   "metadata": {},
   "outputs": [],
   "source": [
    "X_train, X_test, y_train, y_test = train_test_split(X, y, test_size=0.25)"
   ]
  },
  {
   "cell_type": "code",
   "execution_count": null,
   "metadata": {},
   "outputs": [],
   "source": []
  },
  {
   "cell_type": "code",
   "execution_count": 51,
   "metadata": {},
   "outputs": [
    {
     "name": "stderr",
     "output_type": "stream",
     "text": [
      "C:\\Users\\marcos.silva\\AppData\\Local\\Continuum\\anaconda3\\lib\\site-packages\\xgboost\\core.py:587: FutureWarning: Series.base is deprecated and will be removed in a future version\n",
      "  if getattr(data, 'base', None) is not None and \\\n"
     ]
    },
    {
     "name": "stdout",
     "output_type": "stream",
     "text": [
      "0.5876295962407942\n",
      "0.44101166160735744\n"
     ]
    }
   ],
   "source": [
    "model.fit(X_train, y_train)\n",
    "\n",
    "print(model.score(X_train, y_train))\n",
    "print(model.score(X_test, y_test))"
   ]
  },
  {
   "cell_type": "code",
   "execution_count": 53,
   "metadata": {},
   "outputs": [],
   "source": [
    "del numericas[-1]"
   ]
  },
  {
   "cell_type": "code",
   "execution_count": 55,
   "metadata": {},
   "outputs": [],
   "source": [
    "df_with_dummies=pd.get_dummies(df[numericas])"
   ]
  },
  {
   "cell_type": "code",
   "execution_count": 56,
   "metadata": {},
   "outputs": [
    {
     "data": {
      "text/plain": [
       "True"
      ]
     },
     "execution_count": 56,
     "metadata": {},
     "output_type": "execute_result"
    }
   ],
   "source": [
    "df_with_dummies.shape[1] == df[numericas].shape[1]"
   ]
  },
  {
   "cell_type": "code",
   "execution_count": 64,
   "metadata": {},
   "outputs": [
    {
     "name": "stderr",
     "output_type": "stream",
     "text": [
      "C:\\Users\\marcos.silva\\AppData\\Local\\Continuum\\anaconda3\\lib\\site-packages\\xgboost\\core.py:587: FutureWarning: Series.base is deprecated and will be removed in a future version\n",
      "  if getattr(data, 'base', None) is not None and \\\n"
     ]
    },
    {
     "name": "stdout",
     "output_type": "stream",
     "text": [
      "0.5940020208443673\n",
      "0.5124956444743923\n"
     ]
    }
   ],
   "source": [
    "y = df_with_dummies['imdb_score']\n",
    "X = df_with_dummies.drop(['imdb_score'], axis=1)\n",
    "\n",
    "X_train, X_test, y_train, y_test = train_test_split(X, y, test_size=0.25)\n",
    "\n",
    "model.fit(X_train, y_train)\n",
    "\n",
    "print(model.score(X_train, y_train))\n",
    "print(model.score(X_test, y_test))"
   ]
  },
  {
   "cell_type": "code",
   "execution_count": 65,
   "metadata": {},
   "outputs": [],
   "source": [
    "from sklearn.model_selection import cross_val_score"
   ]
  },
  {
   "cell_type": "code",
   "execution_count": 67,
   "metadata": {},
   "outputs": [
    {
     "name": "stderr",
     "output_type": "stream",
     "text": [
      "C:\\Users\\marcos.silva\\AppData\\Local\\Continuum\\anaconda3\\lib\\site-packages\\xgboost\\core.py:587: FutureWarning: Series.base is deprecated and will be removed in a future version\n",
      "  if getattr(data, 'base', None) is not None and \\\n",
      "C:\\Users\\marcos.silva\\AppData\\Local\\Continuum\\anaconda3\\lib\\site-packages\\xgboost\\core.py:587: FutureWarning: Series.base is deprecated and will be removed in a future version\n",
      "  if getattr(data, 'base', None) is not None and \\\n",
      "C:\\Users\\marcos.silva\\AppData\\Local\\Continuum\\anaconda3\\lib\\site-packages\\xgboost\\core.py:587: FutureWarning: Series.base is deprecated and will be removed in a future version\n",
      "  if getattr(data, 'base', None) is not None and \\\n",
      "C:\\Users\\marcos.silva\\AppData\\Local\\Continuum\\anaconda3\\lib\\site-packages\\xgboost\\core.py:587: FutureWarning: Series.base is deprecated and will be removed in a future version\n",
      "  if getattr(data, 'base', None) is not None and \\\n",
      "C:\\Users\\marcos.silva\\AppData\\Local\\Continuum\\anaconda3\\lib\\site-packages\\xgboost\\core.py:587: FutureWarning: Series.base is deprecated and will be removed in a future version\n",
      "  if getattr(data, 'base', None) is not None and \\\n",
      "C:\\Users\\marcos.silva\\AppData\\Local\\Continuum\\anaconda3\\lib\\site-packages\\xgboost\\core.py:587: FutureWarning: Series.base is deprecated and will be removed in a future version\n",
      "  if getattr(data, 'base', None) is not None and \\\n",
      "C:\\Users\\marcos.silva\\AppData\\Local\\Continuum\\anaconda3\\lib\\site-packages\\xgboost\\core.py:587: FutureWarning: Series.base is deprecated and will be removed in a future version\n",
      "  if getattr(data, 'base', None) is not None and \\\n",
      "C:\\Users\\marcos.silva\\AppData\\Local\\Continuum\\anaconda3\\lib\\site-packages\\xgboost\\core.py:587: FutureWarning: Series.base is deprecated and will be removed in a future version\n",
      "  if getattr(data, 'base', None) is not None and \\\n",
      "C:\\Users\\marcos.silva\\AppData\\Local\\Continuum\\anaconda3\\lib\\site-packages\\xgboost\\core.py:587: FutureWarning: Series.base is deprecated and will be removed in a future version\n",
      "  if getattr(data, 'base', None) is not None and \\\n",
      "C:\\Users\\marcos.silva\\AppData\\Local\\Continuum\\anaconda3\\lib\\site-packages\\xgboost\\core.py:587: FutureWarning: Series.base is deprecated and will be removed in a future version\n",
      "  if getattr(data, 'base', None) is not None and \\\n"
     ]
    },
    {
     "data": {
      "text/plain": [
       "array([0.48753444, 0.57315798, 0.53658225, 0.600453  , 0.46794305,\n",
       "       0.52922209, 0.4648742 , 0.47493767, 0.47678152, 0.07438226])"
      ]
     },
     "execution_count": 67,
     "metadata": {},
     "output_type": "execute_result"
    }
   ],
   "source": [
    "cross_val_score(model, X, y, cv=10)"
   ]
  },
  {
   "cell_type": "code",
   "execution_count": 69,
   "metadata": {
    "scrolled": true
   },
   "outputs": [
    {
     "data": {
      "text/plain": [
       "0.4685868460000001"
      ]
     },
     "execution_count": 69,
     "metadata": {},
     "output_type": "execute_result"
    }
   ],
   "source": [
    "np.array([0.48753444, 0.57315798, 0.53658225, 0.600453  , 0.46794305,\n",
    "       0.52922209, 0.4648742 , 0.47493767, 0.47678152, 0.07438226]).mean()"
   ]
  },
  {
   "cell_type": "markdown",
   "metadata": {},
   "source": [
    "**4) Separar os dados em Treino e Teste** \n",
    "\n",
    "Esse ponto é crucial em machine learning e falaremos mais vezes sobre diferentes técnicas em \"splitar\" os dados."
   ]
  },
  {
   "cell_type": "code",
   "execution_count": null,
   "metadata": {},
   "outputs": [],
   "source": []
  },
  {
   "cell_type": "code",
   "execution_count": null,
   "metadata": {},
   "outputs": [],
   "source": []
  },
  {
   "cell_type": "code",
   "execution_count": null,
   "metadata": {},
   "outputs": [],
   "source": []
  },
  {
   "cell_type": "markdown",
   "metadata": {},
   "source": [
    "**5) Treinar o Modelo para que o algoritmo descrubra os melhores betas (que produzem os menores erros)**"
   ]
  },
  {
   "cell_type": "code",
   "execution_count": null,
   "metadata": {},
   "outputs": [],
   "source": []
  },
  {
   "cell_type": "code",
   "execution_count": null,
   "metadata": {},
   "outputs": [],
   "source": []
  },
  {
   "cell_type": "markdown",
   "metadata": {},
   "source": [
    "**6) Após treinar o modelo podemos analisar suas métricas e aqui é uma parte sensivel, vamos entender algumas métricas.**"
   ]
  },
  {
   "cell_type": "code",
   "execution_count": null,
   "metadata": {},
   "outputs": [],
   "source": []
  },
  {
   "cell_type": "code",
   "execution_count": null,
   "metadata": {},
   "outputs": [],
   "source": []
  },
  {
   "cell_type": "markdown",
   "metadata": {},
   "source": [
    "Vamos entender primeiro as métricas e em seguida entender a diferença entre os números de treino e de teste.\n",
    "\n",
    "**O que é o MSE e o MAE**\n",
    "MSE: Erros médios quadraticos.\n",
    "MAE: Erros médios absolutos.\n",
    "\n",
    "Qual a diferença entre eles?\n",
    "\n",
    "Pensemos no caso de um dataset com muitos outlinears, qual das duas métricas será mais prejudica (ou seja, qual métrica é mais sensivel a dados muito fora do padrão?). Nosso métrica ao quadrado é mais sensivel pois pegamos a diferença entre o valor predito e o realizado e elevamos ao quadrado tornando a diferença ainda maior. Já o MAE não é tão sensivel aos valores extremos pois consideramos apenas a distância absoluta que da o mesmo peso a distâncias grandes e pequenas.\n",
    "Ex: Valor predito = 8, Valor Real = 5.\n",
    "MAE= 8-5 = 3\n",
    "MSE= (8-5)^2 = 9 -> Penaliza erros maiores.\n",
    "\n",
    "\n",
    "Já o R2 é a mesma intepretação que demos em modelagem estatistica (% da variação de Y explicada por todas as variáveis explicativas X). Só que agora nosso objetivo é aumentar ao máximo nosso R2.\n",
    "\n",
    "\n",
    "\n",
    "** Métricas de Treino e Métricas de Teste **\n",
    "\n",
    "O grande objetivo de um modelo de aprendizado de maquina (ML) é termos um modelo que é preditivo para novos dados, ou seja, precisamos de um modelo que seja bastante genérico, que depois de treinado pode pegar dados que não estavam na amostra e consiga prever seu target com uma boa precisão.\n",
    "\n",
    "Então ter boas métricas nos dados de treino não significam necessariamente que o modelo é um bom preditor. Para isso ele precisa ter boas métricas nos dados de teste! (aquela parte dos dados que separamos e não participaram do treino). Se nosso algoritmo é capaz de prever de maneira satisfatória nossos dados de teste (que são dados novos para ele já que não participaram do treino) esse é um bom modelo.\n",
    "\n",
    "Quando as métricas dos dados de treino estão muito superiores aos dados de teste (como no nosso exemplo) significa que estamos fazendo um superajuste/sobreajuste ou como gostamos de chamar o modelo está com overfiting. Significa basicamente que nosso modelo se tornou especialista em prever nossos dados de treino mas não necessariamente é um bom modelo para prever dados fora do treinamento. Há muitas formas de contornar isso que veremos nas próximas aulas, mas a mais importante que faremos aqui é tentar equilibrar a complexidade do modelo, basicamente colocamos mais variáveis do que seria necessario.\n",
    "\n",
    "É aqui que voltamos ao passo de escolher e tratar variaveis e rodamos tudo novamente.\n",
    "Vamos fazer todos os processos na próxima linha e colocar um modelo um pouco mais simples:\n",
    "\n",
    "\n",
    "<img src=\"img\\overfit.png\" style=\"height:250px\">"
   ]
  },
  {
   "cell_type": "code",
   "execution_count": 28,
   "metadata": {},
   "outputs": [],
   "source": [
    "# Vamos remover algumas colunas que podem estar causando um superajuste/overfiting no nosso modelo"
   ]
  },
  {
   "cell_type": "code",
   "execution_count": null,
   "metadata": {},
   "outputs": [],
   "source": []
  },
  {
   "cell_type": "code",
   "execution_count": null,
   "metadata": {},
   "outputs": [],
   "source": []
  },
  {
   "cell_type": "code",
   "execution_count": null,
   "metadata": {},
   "outputs": [],
   "source": []
  },
  {
   "cell_type": "markdown",
   "metadata": {},
   "source": [
    "Parece bem melhor agora, tanto o R2 aumentou como ficou mais parecido entre treino e teste sugerindo que não estou dando overfiting no modelo."
   ]
  },
  {
   "cell_type": "markdown",
   "metadata": {},
   "source": [
    "Podemos ainda criar modelos um pouco mais complexos inserindo formas quadraticas, cubicas, etc para tentar capturar algum efeito não linear nos dados.\n",
    "\n",
    "Idealmente plotariamos as variáveis e escolheriamos as que fazem mais sentido colocar variaveis quadraticas, etc. Mas na prática rodamos um algoritmo para passar um polinomio em todas as nossas variáveis como no código abaixo:\n",
    "\n",
    "Obs: Colocamos todos os passos da regressão em uma função para não termos que ficar repetindo mais códigos."
   ]
  },
  {
   "cell_type": "code",
   "execution_count": null,
   "metadata": {},
   "outputs": [],
   "source": []
  },
  {
   "cell_type": "code",
   "execution_count": null,
   "metadata": {},
   "outputs": [],
   "source": []
  },
  {
   "cell_type": "code",
   "execution_count": null,
   "metadata": {},
   "outputs": [],
   "source": []
  },
  {
   "cell_type": "markdown",
   "metadata": {},
   "source": [
    "7) Após estarmos convictos que o modelo treinado tem uma boa relação entre o viés e variância (parametrizado pela complexidade do nosso modelo. Novamente, quanto mais complexo mais ele consegue capturar efeitos não previsto pelo modelo como comportamentos não lineares e interação das variáveis, mas tornando o modelo menos genérico, ou seja, diminuindo os scores dos dados de teste) vamos treinar o modelo final com os parâmetros que conseguiram os melhores resultados nos dados de teste."
   ]
  },
  {
   "cell_type": "code",
   "execution_count": null,
   "metadata": {},
   "outputs": [],
   "source": []
  },
  {
   "cell_type": "code",
   "execution_count": null,
   "metadata": {},
   "outputs": [],
   "source": []
  },
  {
   "cell_type": "code",
   "execution_count": null,
   "metadata": {},
   "outputs": [],
   "source": []
  },
  {
   "cell_type": "code",
   "execution_count": null,
   "metadata": {},
   "outputs": [],
   "source": []
  },
  {
   "cell_type": "code",
   "execution_count": null,
   "metadata": {},
   "outputs": [],
   "source": []
  },
  {
   "cell_type": "markdown",
   "metadata": {},
   "source": [
    "# Passo 5 - Fazer Predições."
   ]
  },
  {
   "cell_type": "code",
   "execution_count": 43,
   "metadata": {},
   "outputs": [
    {
     "data": {
      "text/html": [
       "<div>\n",
       "<style scoped>\n",
       "    .dataframe tbody tr th:only-of-type {\n",
       "        vertical-align: middle;\n",
       "    }\n",
       "\n",
       "    .dataframe tbody tr th {\n",
       "        vertical-align: top;\n",
       "    }\n",
       "\n",
       "    .dataframe thead th {\n",
       "        text-align: right;\n",
       "    }\n",
       "</style>\n",
       "<table border=\"1\" class=\"dataframe\">\n",
       "  <thead>\n",
       "    <tr style=\"text-align: right;\">\n",
       "      <th></th>\n",
       "      <th>Unnamed: 0</th>\n",
       "      <th>color</th>\n",
       "      <th>director_name</th>\n",
       "      <th>num_critic_for_reviews</th>\n",
       "      <th>duration</th>\n",
       "      <th>director_facebook_likes</th>\n",
       "      <th>actor_3_facebook_likes</th>\n",
       "      <th>actor_2_name</th>\n",
       "      <th>actor_1_facebook_likes</th>\n",
       "      <th>gross</th>\n",
       "      <th>...</th>\n",
       "      <th>num_user_for_reviews</th>\n",
       "      <th>language</th>\n",
       "      <th>country</th>\n",
       "      <th>content_rating</th>\n",
       "      <th>budget</th>\n",
       "      <th>title_year</th>\n",
       "      <th>actor_2_facebook_likes</th>\n",
       "      <th>imdb_score</th>\n",
       "      <th>aspect_ratio</th>\n",
       "      <th>movie_facebook_likes</th>\n",
       "    </tr>\n",
       "  </thead>\n",
       "  <tbody>\n",
       "    <tr>\n",
       "      <th>0</th>\n",
       "      <td>10</td>\n",
       "      <td>Color</td>\n",
       "      <td>Zack Snyder</td>\n",
       "      <td>673.0</td>\n",
       "      <td>183.0</td>\n",
       "      <td>0.0</td>\n",
       "      <td>2000.0</td>\n",
       "      <td>Lauren Cohan</td>\n",
       "      <td>15000.0</td>\n",
       "      <td>330249062.0</td>\n",
       "      <td>...</td>\n",
       "      <td>3018.0</td>\n",
       "      <td>English</td>\n",
       "      <td>USA</td>\n",
       "      <td>PG-13</td>\n",
       "      <td>250000000.0</td>\n",
       "      <td>2016.0</td>\n",
       "      <td>4000.0</td>\n",
       "      <td>6.9</td>\n",
       "      <td>2.35</td>\n",
       "      <td>197000.0</td>\n",
       "    </tr>\n",
       "    <tr>\n",
       "      <th>1</th>\n",
       "      <td>27</td>\n",
       "      <td>Color</td>\n",
       "      <td>Anthony Russo</td>\n",
       "      <td>516.0</td>\n",
       "      <td>147.0</td>\n",
       "      <td>94.0</td>\n",
       "      <td>11000.0</td>\n",
       "      <td>Scarlett Johansson</td>\n",
       "      <td>21000.0</td>\n",
       "      <td>407197282.0</td>\n",
       "      <td>...</td>\n",
       "      <td>1022.0</td>\n",
       "      <td>English</td>\n",
       "      <td>USA</td>\n",
       "      <td>PG-13</td>\n",
       "      <td>250000000.0</td>\n",
       "      <td>2016.0</td>\n",
       "      <td>19000.0</td>\n",
       "      <td>8.2</td>\n",
       "      <td>2.35</td>\n",
       "      <td>72000.0</td>\n",
       "    </tr>\n",
       "    <tr>\n",
       "      <th>2</th>\n",
       "      <td>57</td>\n",
       "      <td>Color</td>\n",
       "      <td>Justin Lin</td>\n",
       "      <td>322.0</td>\n",
       "      <td>122.0</td>\n",
       "      <td>681.0</td>\n",
       "      <td>105.0</td>\n",
       "      <td>Melissa Roxburgh</td>\n",
       "      <td>998.0</td>\n",
       "      <td>130468626.0</td>\n",
       "      <td>...</td>\n",
       "      <td>432.0</td>\n",
       "      <td>English</td>\n",
       "      <td>USA</td>\n",
       "      <td>PG-13</td>\n",
       "      <td>185000000.0</td>\n",
       "      <td>2016.0</td>\n",
       "      <td>119.0</td>\n",
       "      <td>7.5</td>\n",
       "      <td>2.35</td>\n",
       "      <td>30000.0</td>\n",
       "    </tr>\n",
       "    <tr>\n",
       "      <th>3</th>\n",
       "      <td>63</td>\n",
       "      <td>Color</td>\n",
       "      <td>David Yates</td>\n",
       "      <td>248.0</td>\n",
       "      <td>110.0</td>\n",
       "      <td>282.0</td>\n",
       "      <td>103.0</td>\n",
       "      <td>Alexander Skarsgård</td>\n",
       "      <td>11000.0</td>\n",
       "      <td>124051759.0</td>\n",
       "      <td>...</td>\n",
       "      <td>239.0</td>\n",
       "      <td>English</td>\n",
       "      <td>USA</td>\n",
       "      <td>PG-13</td>\n",
       "      <td>180000000.0</td>\n",
       "      <td>2016.0</td>\n",
       "      <td>10000.0</td>\n",
       "      <td>6.6</td>\n",
       "      <td>2.35</td>\n",
       "      <td>29000.0</td>\n",
       "    </tr>\n",
       "    <tr>\n",
       "      <th>4</th>\n",
       "      <td>65</td>\n",
       "      <td>Color</td>\n",
       "      <td>Bryan Singer</td>\n",
       "      <td>396.0</td>\n",
       "      <td>144.0</td>\n",
       "      <td>0.0</td>\n",
       "      <td>1000.0</td>\n",
       "      <td>Michael Fassbender</td>\n",
       "      <td>34000.0</td>\n",
       "      <td>154985087.0</td>\n",
       "      <td>...</td>\n",
       "      <td>622.0</td>\n",
       "      <td>English</td>\n",
       "      <td>USA</td>\n",
       "      <td>PG-13</td>\n",
       "      <td>178000000.0</td>\n",
       "      <td>2016.0</td>\n",
       "      <td>13000.0</td>\n",
       "      <td>7.3</td>\n",
       "      <td>2.35</td>\n",
       "      <td>54000.0</td>\n",
       "    </tr>\n",
       "  </tbody>\n",
       "</table>\n",
       "<p>5 rows × 29 columns</p>\n",
       "</div>"
      ],
      "text/plain": [
       "   Unnamed: 0  color  director_name  num_critic_for_reviews  duration  \\\n",
       "0          10  Color    Zack Snyder                   673.0     183.0   \n",
       "1          27  Color  Anthony Russo                   516.0     147.0   \n",
       "2          57  Color     Justin Lin                   322.0     122.0   \n",
       "3          63  Color    David Yates                   248.0     110.0   \n",
       "4          65  Color   Bryan Singer                   396.0     144.0   \n",
       "\n",
       "   director_facebook_likes  actor_3_facebook_likes         actor_2_name  \\\n",
       "0                      0.0                  2000.0         Lauren Cohan   \n",
       "1                     94.0                 11000.0   Scarlett Johansson   \n",
       "2                    681.0                   105.0     Melissa Roxburgh   \n",
       "3                    282.0                   103.0  Alexander Skarsgård   \n",
       "4                      0.0                  1000.0   Michael Fassbender   \n",
       "\n",
       "   actor_1_facebook_likes        gross          ...           \\\n",
       "0                 15000.0  330249062.0          ...            \n",
       "1                 21000.0  407197282.0          ...            \n",
       "2                   998.0  130468626.0          ...            \n",
       "3                 11000.0  124051759.0          ...            \n",
       "4                 34000.0  154985087.0          ...            \n",
       "\n",
       "  num_user_for_reviews language country  content_rating       budget  \\\n",
       "0               3018.0  English     USA           PG-13  250000000.0   \n",
       "1               1022.0  English     USA           PG-13  250000000.0   \n",
       "2                432.0  English     USA           PG-13  185000000.0   \n",
       "3                239.0  English     USA           PG-13  180000000.0   \n",
       "4                622.0  English     USA           PG-13  178000000.0   \n",
       "\n",
       "  title_year  actor_2_facebook_likes imdb_score aspect_ratio  \\\n",
       "0     2016.0                  4000.0        6.9         2.35   \n",
       "1     2016.0                 19000.0        8.2         2.35   \n",
       "2     2016.0                   119.0        7.5         2.35   \n",
       "3     2016.0                 10000.0        6.6         2.35   \n",
       "4     2016.0                 13000.0        7.3         2.35   \n",
       "\n",
       "   movie_facebook_likes  \n",
       "0              197000.0  \n",
       "1               72000.0  \n",
       "2               30000.0  \n",
       "3               29000.0  \n",
       "4               54000.0  \n",
       "\n",
       "[5 rows x 29 columns]"
      ]
     },
     "execution_count": 43,
     "metadata": {},
     "output_type": "execute_result"
    }
   ],
   "source": [
    "# Depois que temos o melhor modelo treinado vamos pegar os dados do mundo real e fazer previsão.\n",
    "\n",
    "df2016_raw = pd.read_csv('../../99 Datasets/imdb_test.zip')\n",
    "df2016 = df2016_raw.copy(deep=True)\n",
    "df2016.head()\n",
    "\n",
    "# nesse nosso caso, temos o target nos dados \"reais\", geralmente não o teriamos, \n",
    "# aqui poderemos saber a perfomance do nosso algoritmo"
   ]
  },
  {
   "cell_type": "code",
   "execution_count": 44,
   "metadata": {},
   "outputs": [],
   "source": [
    "# Todos os tratamentos de dados que fizemos no dataset original precisamos refazer aqui:\n",
    "\n",
    "df2016 = df2016.drop(columns_to_drop, axis=1)\n",
    "\n",
    "df2016[list(df_numeric)] = df2016[list(df_numeric)].fillna(df2016.mean())\n",
    "\n",
    "df2016 = df2016.fillna('na')\n",
    "\n",
    "df2016 = pd.get_dummies(df2016)\n",
    "\n",
    "Y2016 = df2016['imdb_score']"
   ]
  },
  {
   "cell_type": "code",
   "execution_count": 45,
   "metadata": {},
   "outputs": [
    {
     "data": {
      "text/plain": [
       "1041"
      ]
     },
     "execution_count": 45,
     "metadata": {},
     "output_type": "execute_result"
    }
   ],
   "source": [
    "len(list(X))"
   ]
  },
  {
   "cell_type": "code",
   "execution_count": 46,
   "metadata": {},
   "outputs": [
    {
     "data": {
      "text/plain": [
       "587"
      ]
     },
     "execution_count": 46,
     "metadata": {},
     "output_type": "execute_result"
    }
   ],
   "source": [
    "len(list(df2016))"
   ]
  },
  {
   "cell_type": "code",
   "execution_count": 47,
   "metadata": {},
   "outputs": [
    {
     "name": "stdout",
     "output_type": "stream",
     "text": [
      "dummies adicionadas:1040\n"
     ]
    }
   ],
   "source": [
    "for i, dummy in enumerate(list(X)):\n",
    "    if dummy not in list(df2016):\n",
    "        df2016[dummy] = 0\n",
    "\n",
    "print(f'dummies adicionadas:{i}')"
   ]
  },
  {
   "cell_type": "code",
   "execution_count": 48,
   "metadata": {},
   "outputs": [],
   "source": [
    "X2016 = df2016[list(X)]"
   ]
  },
  {
   "cell_type": "code",
   "execution_count": 49,
   "metadata": {},
   "outputs": [],
   "source": [
    "yhat = final_model.predict(X2016)"
   ]
  },
  {
   "cell_type": "code",
   "execution_count": 50,
   "metadata": {},
   "outputs": [
    {
     "data": {
      "text/plain": [
       "array([ 6.64,  6.63,  5.98,  5.93,  6.1 ,  5.89,  5.71,  4.51,  5.02,\n",
       "        5.86,  5.34,  5.93,  4.03,  6.47,  5.95,  5.69,  5.02,  5.81,\n",
       "        5.74,  5.42,  5.55,  5.55,  6.08,  5.48,  5.82,  6.08,  6.31,\n",
       "        5.74,  8.03,  5.68,  5.57,  6.39,  5.77,  6.61,  6.86,  5.86,\n",
       "        6.48,  6.16,  5.85,  6.56,  4.15,  5.75,  5.58,  5.63,  4.34,\n",
       "        5.71,  5.62,  6.74,  6.18,  6.74,  5.69,  6.13,  6.38,  5.91,\n",
       "        6.72,  5.67,  6.33,  6.  ,  4.42,  5.73,  5.36,  6.66,  5.24,\n",
       "        5.44,  6.12,  5.91,  5.67,  5.71,  6.56,  5.3 ,  5.89,  6.69,\n",
       "        6.21,  6.8 ,  5.67,  5.27,  6.31,  5.41,  4.98,  5.94,  5.45,\n",
       "        6.66,  4.95,  6.93,  5.22,  6.25,  5.38,  5.18,  5.29,  7.38,\n",
       "        5.53,  5.67,  5.08,  5.01,  5.09,  6.9 ,  5.94,  6.11,  5.52,\n",
       "        6.4 ,  6.4 ,  5.41,  5.17,  4.98,  6.33,  5.68])"
      ]
     },
     "execution_count": 50,
     "metadata": {},
     "output_type": "execute_result"
    }
   ],
   "source": [
    "# Perfeito! Temos um array com os valores previstos\n",
    "yhat"
   ]
  },
  {
   "cell_type": "code",
   "execution_count": 51,
   "metadata": {},
   "outputs": [
    {
     "data": {
      "text/html": [
       "<div>\n",
       "<style scoped>\n",
       "    .dataframe tbody tr th:only-of-type {\n",
       "        vertical-align: middle;\n",
       "    }\n",
       "\n",
       "    .dataframe tbody tr th {\n",
       "        vertical-align: top;\n",
       "    }\n",
       "\n",
       "    .dataframe thead th {\n",
       "        text-align: right;\n",
       "    }\n",
       "</style>\n",
       "<table border=\"1\" class=\"dataframe\">\n",
       "  <thead>\n",
       "    <tr style=\"text-align: right;\">\n",
       "      <th></th>\n",
       "      <th>Unnamed: 0</th>\n",
       "      <th>color</th>\n",
       "      <th>director_name</th>\n",
       "      <th>num_critic_for_reviews</th>\n",
       "      <th>duration</th>\n",
       "      <th>director_facebook_likes</th>\n",
       "      <th>actor_3_facebook_likes</th>\n",
       "      <th>actor_2_name</th>\n",
       "      <th>actor_1_facebook_likes</th>\n",
       "      <th>gross</th>\n",
       "      <th>...</th>\n",
       "      <th>language</th>\n",
       "      <th>country</th>\n",
       "      <th>content_rating</th>\n",
       "      <th>budget</th>\n",
       "      <th>title_year</th>\n",
       "      <th>actor_2_facebook_likes</th>\n",
       "      <th>imdb_score</th>\n",
       "      <th>aspect_ratio</th>\n",
       "      <th>movie_facebook_likes</th>\n",
       "      <th>score_previsto</th>\n",
       "    </tr>\n",
       "  </thead>\n",
       "  <tbody>\n",
       "    <tr>\n",
       "      <th>0</th>\n",
       "      <td>10</td>\n",
       "      <td>Color</td>\n",
       "      <td>Zack Snyder</td>\n",
       "      <td>673.0</td>\n",
       "      <td>183.0</td>\n",
       "      <td>0.0</td>\n",
       "      <td>2000.0</td>\n",
       "      <td>Lauren Cohan</td>\n",
       "      <td>15000.0</td>\n",
       "      <td>330249062.0</td>\n",
       "      <td>...</td>\n",
       "      <td>English</td>\n",
       "      <td>USA</td>\n",
       "      <td>PG-13</td>\n",
       "      <td>250000000.0</td>\n",
       "      <td>2016.0</td>\n",
       "      <td>4000.0</td>\n",
       "      <td>6.9</td>\n",
       "      <td>2.35</td>\n",
       "      <td>197000.0</td>\n",
       "      <td>6.64</td>\n",
       "    </tr>\n",
       "    <tr>\n",
       "      <th>1</th>\n",
       "      <td>27</td>\n",
       "      <td>Color</td>\n",
       "      <td>Anthony Russo</td>\n",
       "      <td>516.0</td>\n",
       "      <td>147.0</td>\n",
       "      <td>94.0</td>\n",
       "      <td>11000.0</td>\n",
       "      <td>Scarlett Johansson</td>\n",
       "      <td>21000.0</td>\n",
       "      <td>407197282.0</td>\n",
       "      <td>...</td>\n",
       "      <td>English</td>\n",
       "      <td>USA</td>\n",
       "      <td>PG-13</td>\n",
       "      <td>250000000.0</td>\n",
       "      <td>2016.0</td>\n",
       "      <td>19000.0</td>\n",
       "      <td>8.2</td>\n",
       "      <td>2.35</td>\n",
       "      <td>72000.0</td>\n",
       "      <td>6.63</td>\n",
       "    </tr>\n",
       "    <tr>\n",
       "      <th>2</th>\n",
       "      <td>57</td>\n",
       "      <td>Color</td>\n",
       "      <td>Justin Lin</td>\n",
       "      <td>322.0</td>\n",
       "      <td>122.0</td>\n",
       "      <td>681.0</td>\n",
       "      <td>105.0</td>\n",
       "      <td>Melissa Roxburgh</td>\n",
       "      <td>998.0</td>\n",
       "      <td>130468626.0</td>\n",
       "      <td>...</td>\n",
       "      <td>English</td>\n",
       "      <td>USA</td>\n",
       "      <td>PG-13</td>\n",
       "      <td>185000000.0</td>\n",
       "      <td>2016.0</td>\n",
       "      <td>119.0</td>\n",
       "      <td>7.5</td>\n",
       "      <td>2.35</td>\n",
       "      <td>30000.0</td>\n",
       "      <td>5.98</td>\n",
       "    </tr>\n",
       "    <tr>\n",
       "      <th>3</th>\n",
       "      <td>63</td>\n",
       "      <td>Color</td>\n",
       "      <td>David Yates</td>\n",
       "      <td>248.0</td>\n",
       "      <td>110.0</td>\n",
       "      <td>282.0</td>\n",
       "      <td>103.0</td>\n",
       "      <td>Alexander Skarsgård</td>\n",
       "      <td>11000.0</td>\n",
       "      <td>124051759.0</td>\n",
       "      <td>...</td>\n",
       "      <td>English</td>\n",
       "      <td>USA</td>\n",
       "      <td>PG-13</td>\n",
       "      <td>180000000.0</td>\n",
       "      <td>2016.0</td>\n",
       "      <td>10000.0</td>\n",
       "      <td>6.6</td>\n",
       "      <td>2.35</td>\n",
       "      <td>29000.0</td>\n",
       "      <td>5.93</td>\n",
       "    </tr>\n",
       "    <tr>\n",
       "      <th>4</th>\n",
       "      <td>65</td>\n",
       "      <td>Color</td>\n",
       "      <td>Bryan Singer</td>\n",
       "      <td>396.0</td>\n",
       "      <td>144.0</td>\n",
       "      <td>0.0</td>\n",
       "      <td>1000.0</td>\n",
       "      <td>Michael Fassbender</td>\n",
       "      <td>34000.0</td>\n",
       "      <td>154985087.0</td>\n",
       "      <td>...</td>\n",
       "      <td>English</td>\n",
       "      <td>USA</td>\n",
       "      <td>PG-13</td>\n",
       "      <td>178000000.0</td>\n",
       "      <td>2016.0</td>\n",
       "      <td>13000.0</td>\n",
       "      <td>7.3</td>\n",
       "      <td>2.35</td>\n",
       "      <td>54000.0</td>\n",
       "      <td>6.10</td>\n",
       "    </tr>\n",
       "  </tbody>\n",
       "</table>\n",
       "<p>5 rows × 30 columns</p>\n",
       "</div>"
      ],
      "text/plain": [
       "   Unnamed: 0  color  director_name  num_critic_for_reviews  duration  \\\n",
       "0          10  Color    Zack Snyder                   673.0     183.0   \n",
       "1          27  Color  Anthony Russo                   516.0     147.0   \n",
       "2          57  Color     Justin Lin                   322.0     122.0   \n",
       "3          63  Color    David Yates                   248.0     110.0   \n",
       "4          65  Color   Bryan Singer                   396.0     144.0   \n",
       "\n",
       "   director_facebook_likes  actor_3_facebook_likes         actor_2_name  \\\n",
       "0                      0.0                  2000.0         Lauren Cohan   \n",
       "1                     94.0                 11000.0   Scarlett Johansson   \n",
       "2                    681.0                   105.0     Melissa Roxburgh   \n",
       "3                    282.0                   103.0  Alexander Skarsgård   \n",
       "4                      0.0                  1000.0   Michael Fassbender   \n",
       "\n",
       "   actor_1_facebook_likes        gross       ...       language country  \\\n",
       "0                 15000.0  330249062.0       ...        English     USA   \n",
       "1                 21000.0  407197282.0       ...        English     USA   \n",
       "2                   998.0  130468626.0       ...        English     USA   \n",
       "3                 11000.0  124051759.0       ...        English     USA   \n",
       "4                 34000.0  154985087.0       ...        English     USA   \n",
       "\n",
       "  content_rating       budget  title_year actor_2_facebook_likes  imdb_score  \\\n",
       "0          PG-13  250000000.0      2016.0                 4000.0         6.9   \n",
       "1          PG-13  250000000.0      2016.0                19000.0         8.2   \n",
       "2          PG-13  185000000.0      2016.0                  119.0         7.5   \n",
       "3          PG-13  180000000.0      2016.0                10000.0         6.6   \n",
       "4          PG-13  178000000.0      2016.0                13000.0         7.3   \n",
       "\n",
       "  aspect_ratio movie_facebook_likes  score_previsto  \n",
       "0         2.35             197000.0            6.64  \n",
       "1         2.35              72000.0            6.63  \n",
       "2         2.35              30000.0            5.98  \n",
       "3         2.35              29000.0            5.93  \n",
       "4         2.35              54000.0            6.10  \n",
       "\n",
       "[5 rows x 30 columns]"
      ]
     },
     "execution_count": 51,
     "metadata": {},
     "output_type": "execute_result"
    }
   ],
   "source": [
    "# como podemos saber de qual filme se trata cada um dos score previstos?\n",
    "# o algoritmo não diz qual é o nome do filme, mas a ordem em que passamos os dados se mantém ..\n",
    "# então podemos adicionar uma coluna no nosso dataframe original com as predições!\n",
    "\n",
    "df2016_raw['score_previsto'] = yhat\n",
    "df2016_raw.head()"
   ]
  },
  {
   "cell_type": "markdown",
   "metadata": {},
   "source": [
    "# Respondendo a pergunta do nosso Desafio:"
   ]
  },
  {
   "cell_type": "code",
   "execution_count": 52,
   "metadata": {},
   "outputs": [
    {
     "name": "stderr",
     "output_type": "stream",
     "text": [
      "C:\\Users\\marce\\Anaconda3\\lib\\site-packages\\ipykernel_launcher.py:2: SettingWithCopyWarning: \n",
      "A value is trying to be set on a copy of a slice from a DataFrame.\n",
      "Try using .loc[row_indexer,col_indexer] = value instead\n",
      "\n",
      "See the caveats in the documentation: http://pandas.pydata.org/pandas-docs/stable/indexing.html#indexing-view-versus-copy\n",
      "  \n"
     ]
    }
   ],
   "source": [
    "result = df2016_raw[['movie_title','budget','score_previsto']]\n",
    "result['ratio'] = (result['budget']/1000000)/(result['score_previsto'])"
   ]
  },
  {
   "cell_type": "code",
   "execution_count": 53,
   "metadata": {},
   "outputs": [
    {
     "data": {
      "text/html": [
       "<div>\n",
       "<style scoped>\n",
       "    .dataframe tbody tr th:only-of-type {\n",
       "        vertical-align: middle;\n",
       "    }\n",
       "\n",
       "    .dataframe tbody tr th {\n",
       "        vertical-align: top;\n",
       "    }\n",
       "\n",
       "    .dataframe thead th {\n",
       "        text-align: right;\n",
       "    }\n",
       "</style>\n",
       "<table border=\"1\" class=\"dataframe\">\n",
       "  <thead>\n",
       "    <tr style=\"text-align: right;\">\n",
       "      <th></th>\n",
       "      <th>movie_title</th>\n",
       "      <th>budget</th>\n",
       "      <th>score_previsto</th>\n",
       "      <th>ratio</th>\n",
       "    </tr>\n",
       "  </thead>\n",
       "  <tbody>\n",
       "    <tr>\n",
       "      <th>1</th>\n",
       "      <td>Captain America: Civil War</td>\n",
       "      <td>250000000.0</td>\n",
       "      <td>6.63</td>\n",
       "      <td>37.707391</td>\n",
       "    </tr>\n",
       "    <tr>\n",
       "      <th>0</th>\n",
       "      <td>Batman v Superman: Dawn of Justice</td>\n",
       "      <td>250000000.0</td>\n",
       "      <td>6.64</td>\n",
       "      <td>37.650602</td>\n",
       "    </tr>\n",
       "    <tr>\n",
       "      <th>7</th>\n",
       "      <td>Independence Day: Resurgence</td>\n",
       "      <td>165000000.0</td>\n",
       "      <td>4.51</td>\n",
       "      <td>36.585366</td>\n",
       "    </tr>\n",
       "    <tr>\n",
       "      <th>12</th>\n",
       "      <td>Ghostbusters</td>\n",
       "      <td>144000000.0</td>\n",
       "      <td>4.03</td>\n",
       "      <td>35.732010</td>\n",
       "    </tr>\n",
       "    <tr>\n",
       "      <th>40</th>\n",
       "      <td>Ghostbusters</td>\n",
       "      <td>144000000.0</td>\n",
       "      <td>4.15</td>\n",
       "      <td>34.698795</td>\n",
       "    </tr>\n",
       "    <tr>\n",
       "      <th>2</th>\n",
       "      <td>Star Trek Beyond</td>\n",
       "      <td>185000000.0</td>\n",
       "      <td>5.98</td>\n",
       "      <td>30.936455</td>\n",
       "    </tr>\n",
       "    <tr>\n",
       "      <th>6</th>\n",
       "      <td>The Jungle Book</td>\n",
       "      <td>175000000.0</td>\n",
       "      <td>5.71</td>\n",
       "      <td>30.647986</td>\n",
       "    </tr>\n",
       "    <tr>\n",
       "      <th>45</th>\n",
       "      <td>The Jungle Book</td>\n",
       "      <td>175000000.0</td>\n",
       "      <td>5.71</td>\n",
       "      <td>30.647986</td>\n",
       "    </tr>\n",
       "    <tr>\n",
       "      <th>11</th>\n",
       "      <td>The Legend of Tarzan</td>\n",
       "      <td>180000000.0</td>\n",
       "      <td>5.93</td>\n",
       "      <td>30.354132</td>\n",
       "    </tr>\n",
       "    <tr>\n",
       "      <th>3</th>\n",
       "      <td>The Legend of Tarzan</td>\n",
       "      <td>180000000.0</td>\n",
       "      <td>5.93</td>\n",
       "      <td>30.354132</td>\n",
       "    </tr>\n",
       "  </tbody>\n",
       "</table>\n",
       "</div>"
      ],
      "text/plain": [
       "                            movie_title       budget  score_previsto  \\\n",
       "1           Captain America: Civil War   250000000.0            6.63   \n",
       "0   Batman v Superman: Dawn of Justice   250000000.0            6.64   \n",
       "7         Independence Day: Resurgence   165000000.0            4.51   \n",
       "12                        Ghostbusters   144000000.0            4.03   \n",
       "40                        Ghostbusters   144000000.0            4.15   \n",
       "2                     Star Trek Beyond   185000000.0            5.98   \n",
       "6                      The Jungle Book   175000000.0            5.71   \n",
       "45                     The Jungle Book   175000000.0            5.71   \n",
       "11                The Legend of Tarzan   180000000.0            5.93   \n",
       "3                 The Legend of Tarzan   180000000.0            5.93   \n",
       "\n",
       "        ratio  \n",
       "1   37.707391  \n",
       "0   37.650602  \n",
       "7   36.585366  \n",
       "12  35.732010  \n",
       "40  34.698795  \n",
       "2   30.936455  \n",
       "6   30.647986  \n",
       "45  30.647986  \n",
       "11  30.354132  \n",
       "3   30.354132  "
      ]
     },
     "execution_count": 53,
     "metadata": {},
     "output_type": "execute_result"
    }
   ],
   "source": [
    "# \"piores\" 10 filmes nas regras desse desafio, são os filmes que os scores custam mais caro.\n",
    "result.sort_values(by=['ratio'], ascending=False).head(10)"
   ]
  },
  {
   "cell_type": "code",
   "execution_count": 54,
   "metadata": {},
   "outputs": [
    {
     "data": {
      "text/html": [
       "<div>\n",
       "<style scoped>\n",
       "    .dataframe tbody tr th:only-of-type {\n",
       "        vertical-align: middle;\n",
       "    }\n",
       "\n",
       "    .dataframe tbody tr th {\n",
       "        vertical-align: top;\n",
       "    }\n",
       "\n",
       "    .dataframe thead th {\n",
       "        text-align: right;\n",
       "    }\n",
       "</style>\n",
       "<table border=\"1\" class=\"dataframe\">\n",
       "  <thead>\n",
       "    <tr style=\"text-align: right;\">\n",
       "      <th></th>\n",
       "      <th>movie_title</th>\n",
       "      <th>budget</th>\n",
       "      <th>score_previsto</th>\n",
       "      <th>ratio</th>\n",
       "    </tr>\n",
       "  </thead>\n",
       "  <tbody>\n",
       "    <tr>\n",
       "      <th>101</th>\n",
       "      <td>Fight to the Finish</td>\n",
       "      <td>150000.0</td>\n",
       "      <td>5.41</td>\n",
       "      <td>0.027726</td>\n",
       "    </tr>\n",
       "    <tr>\n",
       "      <th>104</th>\n",
       "      <td>The Little Ponderosa Zoo</td>\n",
       "      <td>500000.0</td>\n",
       "      <td>6.33</td>\n",
       "      <td>0.078989</td>\n",
       "    </tr>\n",
       "    <tr>\n",
       "      <th>102</th>\n",
       "      <td>Alleluia! The Devil's Carnival</td>\n",
       "      <td>500000.0</td>\n",
       "      <td>5.17</td>\n",
       "      <td>0.096712</td>\n",
       "    </tr>\n",
       "    <tr>\n",
       "      <th>103</th>\n",
       "      <td>Rodeo Girl</td>\n",
       "      <td>500000.0</td>\n",
       "      <td>4.98</td>\n",
       "      <td>0.100402</td>\n",
       "    </tr>\n",
       "    <tr>\n",
       "      <th>98</th>\n",
       "      <td>The Dog Lover</td>\n",
       "      <td>2000000.0</td>\n",
       "      <td>5.52</td>\n",
       "      <td>0.362319</td>\n",
       "    </tr>\n",
       "    <tr>\n",
       "      <th>89</th>\n",
       "      <td>Airlift</td>\n",
       "      <td>4400000.0</td>\n",
       "      <td>7.38</td>\n",
       "      <td>0.596206</td>\n",
       "    </tr>\n",
       "    <tr>\n",
       "      <th>93</th>\n",
       "      <td>Compadres</td>\n",
       "      <td>3000000.0</td>\n",
       "      <td>5.01</td>\n",
       "      <td>0.598802</td>\n",
       "    </tr>\n",
       "    <tr>\n",
       "      <th>94</th>\n",
       "      <td>Antibirth</td>\n",
       "      <td>3500000.0</td>\n",
       "      <td>5.09</td>\n",
       "      <td>0.687623</td>\n",
       "    </tr>\n",
       "    <tr>\n",
       "      <th>92</th>\n",
       "      <td>The Masked Saint</td>\n",
       "      <td>3500000.0</td>\n",
       "      <td>5.08</td>\n",
       "      <td>0.688976</td>\n",
       "    </tr>\n",
       "    <tr>\n",
       "      <th>90</th>\n",
       "      <td>The Veil</td>\n",
       "      <td>4000000.0</td>\n",
       "      <td>5.53</td>\n",
       "      <td>0.723327</td>\n",
       "    </tr>\n",
       "  </tbody>\n",
       "</table>\n",
       "</div>"
      ],
      "text/plain": [
       "                         movie_title     budget  score_previsto     ratio\n",
       "101             Fight to the Finish    150000.0            5.41  0.027726\n",
       "104        The Little Ponderosa Zoo    500000.0            6.33  0.078989\n",
       "102  Alleluia! The Devil's Carnival    500000.0            5.17  0.096712\n",
       "103                      Rodeo Girl    500000.0            4.98  0.100402\n",
       "98                    The Dog Lover   2000000.0            5.52  0.362319\n",
       "89                          Airlift   4400000.0            7.38  0.596206\n",
       "93                        Compadres   3000000.0            5.01  0.598802\n",
       "94                        Antibirth   3500000.0            5.09  0.687623\n",
       "92                 The Masked Saint   3500000.0            5.08  0.688976\n",
       "90                         The Veil   4000000.0            5.53  0.723327"
      ]
     },
     "execution_count": 54,
     "metadata": {},
     "output_type": "execute_result"
    }
   ],
   "source": [
    "# \"melhores\" 10 filmes nas regras desse desafio.\n",
    "result.sort_values(by=['ratio'], ascending=True).head(10)"
   ]
  },
  {
   "cell_type": "markdown",
   "metadata": {},
   "source": [
    "# Próximo passo, colocar o modelo em produção ..."
   ]
  },
  {
   "cell_type": "code",
   "execution_count": null,
   "metadata": {},
   "outputs": [],
   "source": []
  },
  {
   "cell_type": "code",
   "execution_count": null,
   "metadata": {},
   "outputs": [],
   "source": []
  },
  {
   "cell_type": "code",
   "execution_count": null,
   "metadata": {},
   "outputs": [],
   "source": []
  },
  {
   "cell_type": "code",
   "execution_count": null,
   "metadata": {},
   "outputs": [],
   "source": []
  }
 ],
 "metadata": {
  "kernelspec": {
   "display_name": "Python 3",
   "language": "python",
   "name": "python3"
  },
  "language_info": {
   "codemirror_mode": {
    "name": "ipython",
    "version": 3
   },
   "file_extension": ".py",
   "mimetype": "text/x-python",
   "name": "python",
   "nbconvert_exporter": "python",
   "pygments_lexer": "ipython3",
   "version": "3.7.1"
  }
 },
 "nbformat": 4,
 "nbformat_minor": 2
}
