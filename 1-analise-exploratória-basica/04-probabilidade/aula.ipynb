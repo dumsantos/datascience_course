{
 "cells": [
  {
   "cell_type": "markdown",
   "metadata": {},
   "source": [
    "# Probabilidade\n",
    "\n",
    "<br>\n",
    "<img src=\"img/probabilidade.png\">\n",
    "<br>\n",
    "\n",
    "*fonte: Mundo Educação*\n",
    "\n",
    "Probabilidade é o estudo das chances de obtenção de cada resultado de um experimento aleatório. A essas chances são atribuídos os números reais do intervalo entre 0 e 1. Resultados mais próximos de 1 têm mais chances de ocorrer. Além disso, a probabilidade também pode ser apresentada na forma percentual.\n",
    "\n",
    "### Experimento aleatório e ponto amostral\n",
    "\n",
    "Um experimento aleatório pode ser repetido inúmeras vezes e nas mesmas condições e, mesmo assim, apresenta resultados diferentes. Cada um desses resultados possíveis é chamado de ponto amostral. São exemplos de experimentos aleatórios:\n",
    "\n",
    "- Cara ou coroa\n",
    "\n",
    "Lançar uma moeda e observar se a face voltada para cima é cara ou coroa é um exemplo de experimento aleatório. Se a moeda não for viciada e for lançada sempre nas mesmas condições, poderemos ter como resultado tanto cara quanto coroa.\n",
    "\n",
    "- Lançamento de um dado\n",
    "\n",
    "Lançar um dado e observar qual é o número da face superior também é um experimento aleatório. Esse número pode ser 1, 2, 3, 4, 5 ou 6 e cada um desses resultados apresenta a mesma chance de ocorrer. Em cada lançamento, o resultado pode ser igual ao anterior ou diferente dele.\n",
    "\n",
    "Observe que, no lançamento da moeda, as chances de repetir o resultado anterior são muito maiores.\n",
    "\n",
    "- Retirar uma carta aleatória de um baralho\n",
    "\n",
    "Cada carta tem a mesma chance de ocorrência cada vez que o experimento é realizado, por isso, esse é também um experimento aleatório.\n",
    "\n",
    "### Espaço amostral\n",
    "\n",
    "O espaço amostral (Ω) é o conjunto formado por todos os resultados possíveis de um experimento aleatório. Em outras palavras, é o conjunto formado por todos os pontos amostrais de um experimento. Veja exemplos:\n",
    "\n",
    "- O espaço amostral do experimento “cara ou coroa” é o conjunto S = {Cara, Coroa}. Os pontos amostrais desse experimento são os mesmos elementos desse conjunto.\n",
    "\n",
    "- O espaço amostral do experimento “lançamento de um dado” é o conjunto S = {1, 2, 3, 4, 5, 6}. Os pontos amostrais desse experimento são 1, 2, 3, 4, 5 e 6.\n",
    "\n",
    "O espaço amostral também é chamado de Universo e pode ser representado pelas outras notações usadas nos conjuntos. Além disso, todas as operações entre conjuntos valem também para espaços amostrais.\n",
    "\n",
    "O número de elementos do espaço amostral, número de pontos amostrais do espaço amostral ou número de casos possíveis em um espaço amostral é representado da seguinte maneira: n(Ω).\n",
    "\n",
    "### Evento\n",
    "\n",
    "Um evento é qualquer subconjunto de um espaço amostral. Ele pode conter nenhum elemento (conjunto vazio) ou todos os elementos de um espaço amostral. O número de elementos do evento é representado da seguinte maneira: n(E), sendo E o evento em questão.\n",
    "\n",
    "São exemplos de eventos:\n",
    "\n",
    "- Sair cara em um lançamento de uma moeda\n",
    "\n",
    "O evento é sair cara e possui um único elemento. A representação dos eventos também é feita com notações de conjuntos:\n",
    "\n",
    "E = {cara}\n",
    "\n",
    "O seu número de elementos é n(E) = 1.\n",
    "\n",
    "- Sair um número par no lançamento de um dado.\n",
    "\n",
    "O evento é sair um número par:\n",
    "\n",
    "E = {2, 4, 6}\n",
    "\n",
    "O seu número de elementos é n(E) = 3.\n",
    "Não pare agora... Tem mais depois da publicidade ;)\n",
    "\n",
    "Os eventos que possuem apenas um elemento (ponto amostral) são chamados de simples. Quando o evento é igual ao espaço amostral, ele é chamado de evento certo e sua probabilidade de ocorrência é de 100%. Quando um evento é igual ao conjunto vazio, ele é chamado de evento impossível e possui 0% de chances de ocorrência.\n",
    "\n",
    "### Cálculo da probabilidade\n",
    "\n",
    "Seja E um evento qualquer no espaço amostral Ω. A probabilidade do evento A ocorrer é a razão entre o número de resultados favoráveis e o número de resultados possíveis. Em outras palavras, é o número de elementos do evento dividido pelo número de elementos do espaço amostral a que ele pertence.\n",
    "\n",
    "P(E) = n(E)/n(Ω)\n",
    "\n",
    "Observações:\n",
    "\n",
    "- O número de elementos do evento sempre é menor ou igual ao número de elementos do espaço amostral e maior ou igual a zero. Por isso, o resultado dessa divisão sempre está no intervalo 0 ≤ P(A) ≤ 1;\n",
    "\n",
    "- Quando é necessário usar porcentagem, devemos multiplicar o resultado dessa divisão por 100 ou usar regra de três;\n",
    "\n",
    "- A probabilidade de um evento não acontecer é determinada por:\n",
    "\n",
    "P(A-1) = 1 – P(A)\n",
    "\n",
    "### De maneira objetiva\n",
    "\n",
    "\"Probabilidade ... é, portanto, simplesmente uma fração cujo numerador é o número de casos favoráveis e cujo denominador é o número de todos os casos possíveis ... quando nada nos leva a esperar que qualquer um desses casos ocorra mais do que qualquer outro.\" Pierre-Simon Laplace, 1814.\n",
    "\n",
    "Vamos a alguns exemplos."
   ]
  },
  {
   "cell_type": "markdown",
   "metadata": {},
   "source": [
    "# Baralho de cartas\n",
    "\n",
    "<br>\n",
    "<img src=\"img/baralho_cartas.png\">\n",
    "<br>\n",
    "\n",
    "*fonte: Wikipedia*\n",
    "\n",
    "O principal baralho de 52 cartas, em uso atualmente, inclui 13 cartas de cada um dos quatro naipes franceses, paus (♣), ouros (♦), copas (♥) e espadas (♠), com cartas de figuras. Cada naipe inclui um ás, que descreve um único símbolo de seu naipe (muito grande, muitas vezes apenas o ás de espadas) um rei, uma rainha, e um valete, cada um representado com um símbolo de seu naipe, com valores de dois a dez, com cada cartão mostrando o número de símbolos de seu naipe. Para além destas 52 cartas, baralhos comerciais geralmente incluem dois coringas. Em muitos jogos, os coringas não são usados. Os coringas são geralmente distinguidos pela cor. "
   ]
  },
  {
   "cell_type": "markdown",
   "metadata": {},
   "source": [
    "### Qual a probabilidade de retirarmos duas cartas de paus (naipe) em um baralho (52 cartas) em 2 retiradas com reposição (apos a retirada da carta, devolvemos ao baralho e reembaralhamos)?"
   ]
  },
  {
   "cell_type": "code",
   "execution_count": 2,
   "metadata": {},
   "outputs": [
    {
     "data": {
      "text/plain": [
       "0.0625"
      ]
     },
     "execution_count": 2,
     "metadata": {},
     "output_type": "execute_result"
    }
   ],
   "source": [
    "# 52 cartas, 4 naipes, 13 cartas de cada naipe.\n",
    "# Probabilidade de retirar apenas uma carta de paus é a proporção de paus no baralho 13/52 = 1/4.\n",
    "# A probabilidade de retirar mais uma carta de paus do baralho, dado que foi reposta é 1/4 também.\n",
    "# Como esses eventos são independentes (-> P(A∩B) = P(A) * P(B) <-) devemos multiplicar as duas\n",
    "# probabilidades para ter a probabilidade final desses eventos acontecerem em sequência.\n",
    "(1/4)*(1/4) # ou\n",
    "(1/4)**2"
   ]
  },
  {
   "cell_type": "markdown",
   "metadata": {},
   "source": [
    "### E se não devolvessemos a primeira carta ao baralho?"
   ]
  },
  {
   "cell_type": "code",
   "execution_count": 3,
   "metadata": {},
   "outputs": [
    {
     "data": {
      "text/plain": [
       "0.058823529411764705"
      ]
     },
     "execution_count": 3,
     "metadata": {},
     "output_type": "execute_result"
    }
   ],
   "source": [
    "# a probabilidade de retirar a primeira carta de paus ainda é a mesma, 13/52. \n",
    "# mas dado que nosso espaço amostral muda em cada interação, quando formos retirar a segunda carta\n",
    "# não mais estará dísponvivel as mesmas cartas e devemos ajustar isso nas contas:\n",
    "\n",
    "probabilidade_primeiro_paus = (13/52)\n",
    "# dado que saiu o primeiro paus, temos\n",
    "paus_restantes = 13-1\n",
    "cartas_restantes = 52-1\n",
    "\n",
    "probabilidade_segundo_paus = paus_restantes/cartas_restantes\n",
    "\n",
    "# como queremos a probabilidade de sair dois paus seguidos e esses eventos ainda são independentes:\n",
    "probabilidade_primeiro_paus * probabilidade_segundo_paus"
   ]
  },
  {
   "cell_type": "markdown",
   "metadata": {},
   "source": [
    "# Dados\n",
    "\n",
    "<br>\n",
    "<img src=\"img/dado.png\">\n",
    "<br>\n",
    "\n",
    "A função do dado é gerar um resultado aleatório que fica restrito ao número de faces dele. Esse resultado, então, pode ser manipulado (caso seja um número) através de fórmulas caso o jogo exija. Por exemplo, um número entre 20 e 25 utilizando dados de seis lados exige a aplicação de uma fórmula matemática. Os dados são comumente utilizados em jogos de tabuleiro tradicionais e jogos de RPG.\n",
    "\n",
    "Uma pequena curiosidade quanto aos dados clássicos (fabricados de forma correta), de seis lados: a soma dos lados opostos resulta no número sete. Ou seja, se de um lado temos o número um automaticamente teríamos o número seis do outro lado. Isso ocorre também com o dois casando com o cinco, e o três com o quatro. Isso se aplica também a qualquer outro dado, a soma de dois lados opostos sempre é igual ao número de faces mais um. Assim, um D20 somaria 21 nos lados opostos, um D12 somaria 13, e assim por diante. "
   ]
  },
  {
   "cell_type": "markdown",
   "metadata": {},
   "source": [
    "## Três dados comuns e honestos serão lançados. A probabilidade de obter o número 6 mais de uma vez é?\n",
    "\n",
    "A probabilidade do número 6 ser obtido mais de uma vez significa que ele deve aparecer nos três dados OU em pelo menos dois.\n",
    "\n",
    "- A probabilidade de se obter \"6\" nos três dados é:\n",
    "```python\n",
    "1/6 × 1/6 × 1/6 = 1/216 \n",
    "```\n",
    "\n",
    "- A probabilidade de se obter \"6\" em pelo menos dois dados é:\n",
    "\n",
    "Obs: Deve-se considerar que podemos obter as seguintes combinações,\n",
    "\n",
    "dado1 = 6 e dado2 = 6 e dado3 ≠ 6 ou..\n",
    "dado1 = 6 e dado2 ≠ 6 e dado3 = 6 ou..\n",
    "dado1 ≠ 6 e dado2 = 6 e dado3 = 6;\n",
    "\n",
    "```python\n",
    "1/6 × 1/6 × 5/6 = 5/216\n",
    "1/6 × 1/6 × 5/6 = 5/216\n",
    "1/6 × 1/6 × 5/6 = 5/216\n",
    "```\n",
    "Somando estas probabilidades temos:\n",
    "\n",
    "\n",
    "```python\n",
    "15/216\n",
    "```\n",
    "\n",
    "Como pode aparecer duas OU três vezes, somamos as duas probabilidades:\n",
    "\n",
    "```python\n",
    "1/216 + 15/216 = 16/216\n",
    "```\n",
    "\n",
    "\n",
    "Leia mais em Brainly.com.br - https://brainly.com.br/tarefa/4343213#readmore\n",
    "\n",
    "Vamos testar este exemplo na prática, através de um simulador que capaz de realizar **n** lançamentos, e comparar os resultados com a probabilidade teórica calculada (16/216 = 0.074074)."
   ]
  },
  {
   "cell_type": "markdown",
   "metadata": {},
   "source": [
    "### Simulador para rolagem de três dados, obtendo o resultado 6 em pelo menos dois dados"
   ]
  },
  {
   "cell_type": "code",
   "execution_count": 56,
   "metadata": {},
   "outputs": [
    {
     "name": "stdout",
     "output_type": "stream",
     "text": [
      "CPU times: user 4.83 ms, sys: 74.8 ms, total: 79.6 ms\n",
      "Wall time: 79.4 ms\n"
     ]
    },
    {
     "data": {
      "image/png": "[encoded data removed]",
      "text/plain": [
       "<Figure size 432x288 with 1 Axes>"
      ]
     },
     "metadata": {},
     "output_type": "display_data"
    }
   ],
   "source": [
    "import numpy as np\n",
    "import pandas as pd\n",
    "import seaborn as sns\n",
    "%matplotlib inline\n",
    "\n",
    "# definimos a quantidade de ensaios.\n",
    "\n",
    "n = 100000\n",
    "quantidade_ensaios = n\n",
    "\n",
    "# definimos a quantidade de lançamentos por ensaio.\n",
    "lançamentos = 3\n",
    "\n",
    "# definimos a probabilidade de obter cada em cada lançamento.\n",
    "probabilidade_sucesso = 1/6\n",
    "\n",
    "# binomial retorna o número de sucessos de cada vez que se realizou um ensaio de 8 lançamentos.\n",
    "%time samples_binomial = np.random.binomial(n = lançamentos, p = probabilidade_sucesso, size = quantidade_ensaios)\n",
    "\n",
    "# construímos um gráfico.\n",
    "eixo_x = 'Número de acertos por ensaio de 8 lançamentos'\n",
    "sns.distplot(samples_binomial, axlabel = eixo_x, kde = False);"
   ]
  },
  {
   "cell_type": "code",
   "execution_count": 60,
   "metadata": {},
   "outputs": [
    {
     "data": {
      "text/plain": [
       "0    57993\n",
       "1    34518\n",
       "2     6984\n",
       "3      505\n",
       "dtype: int64"
      ]
     },
     "execution_count": 60,
     "metadata": {},
     "output_type": "execute_result"
    }
   ],
   "source": [
    "pd.value_counts(samples_binomial)"
   ]
  },
  {
   "cell_type": "code",
   "execution_count": 57,
   "metadata": {},
   "outputs": [
    {
     "data": {
      "text/plain": [
       "0.07489"
      ]
     },
     "execution_count": 57,
     "metadata": {},
     "output_type": "execute_result"
    }
   ],
   "source": [
    "simulator = (pd.value_counts(samples_binomial)[2] + pd.value_counts(samples_binomial)[3])/n\n",
    "simulator"
   ]
  },
  {
   "cell_type": "markdown",
   "metadata": {},
   "source": [
    "### Comparação do resultado do simulador com a probabilidade nominal"
   ]
  },
  {
   "cell_type": "code",
   "execution_count": 58,
   "metadata": {},
   "outputs": [
    {
     "data": {
      "text/plain": [
       "0.07407407407407407"
      ]
     },
     "execution_count": 58,
     "metadata": {},
     "output_type": "execute_result"
    }
   ],
   "source": [
    "probability = 16/216\n",
    "probability"
   ]
  },
  {
   "cell_type": "code",
   "execution_count": 59,
   "metadata": {},
   "outputs": [
    {
     "name": "stdout",
     "output_type": "stream",
     "text": [
      "A diferença do simulador para 100000 jogadas é 0.0008159259259259283\n"
     ]
    }
   ],
   "source": [
    "print('A diferença do simulador para',n,'jogadas é',simulator-probability)"
   ]
  },
  {
   "cell_type": "markdown",
   "metadata": {},
   "source": [
    "## Simulação da rolagem de dois dados com a distribuição dos resultados\n",
    "\n",
    "<br>\n",
    "<img src=\"img/prob_dois_dados.png\">\n",
    "<br>\n",
    "\n",
    "O programa representa o total da rolagem de dois dados por **n** vezes e exibe o total dso valores acumuladdos em um histograma através da função <span style=\"color:blue\"> **roll_pair( )**</span> que exibe o total das possibilidades dentro do intervalo de **n** vezes. Para a rolagem 1 e a rolagem 2, a função **random** escolherá um número inteiro aleatório de 1-6, e após isso o total da rolagem 1 será adicionado ao total da rolagem 2. Isto irá repetir **n** vezes e depois produzir um histograma, plotando os totais acumulados em uma distribuição.\n",
    "\n",
    "Sabemos que o valor médio da distribuição é 7 calculado como (2 + 3 + 4 + 5 + 6 + 7 + 8 + 9 + 10 + 11 + 12) / 12 ou 77/11 = 7.\n",
    "\n",
    "Podemos ver que a média da amostra não está extatamente no ponto médio, o que é esperado porque é uma estimativa da média populacional, ou amostra.\n",
    "\n",
    "O procedimento mias interessante aqui é aumentar o **n** e identificar que a média cada vez mais se aproxima da probabilidade teórica nominal. De acordo com o teorema do limite central, o histograma dessas médias amostrais será uma **Distribuição Normal** ou **Gaussiana**, de acordo com o *teorema do limite central*.\n",
    "\n",
    "O exemplo abaixo realiza este experimento e plota a distribuição resultante de médias amostrais.\n",
    "\n",
    "Para uma ferramente interativa online [clique aqui](https://www.openprocessing.org/sketch/124236/)"
   ]
  },
  {
   "cell_type": "code",
   "execution_count": 3,
   "metadata": {},
   "outputs": [],
   "source": [
    "import matplotlib.pyplot as plt\n",
    "import random\n",
    "%matplotlib inline\n",
    "\n",
    "plt.ion()\n",
    "\n",
    "def roll_pair():\n",
    "    total = []\n",
    "    n=1000\n",
    "    for choice in range(n):\n",
    "        roll1 = random.randint(1,6)\n",
    "        roll2 = random.randint(1,6)\n",
    "        total += [(roll1+roll2)]\n",
    "        \n",
    "    print (total)\n",
    "    \n",
    "    plt.hist(total)\n",
    "    plt.show()"
   ]
  },
  {
   "cell_type": "code",
   "execution_count": 4,
   "metadata": {
    "scrolled": false
   },
   "outputs": [
    {
     "name": "stdout",
     "output_type": "stream",
     "text": [
      "[3, 4, 2, 7, 6, 10, 12, 7, 8, 11, 8, 8, 9, 3, 9, 6, 10, 6, 8, 6, 5, 8, 4, 4, 10, 9, 5, 7, 11, 11, 11, 6, 2, 9, 11, 9, 9, 6, 9, 2, 6, 7, 8, 7, 10, 8, 9, 6, 3, 8, 10, 7, 9, 5, 7, 7, 7, 6, 7, 6, 7, 7, 7, 9, 6, 4, 6, 4, 8, 11, 6, 8, 6, 2, 7, 12, 8, 4, 4, 7, 6, 6, 6, 8, 11, 6, 7, 5, 5, 10, 7, 6, 2, 7, 7, 10, 8, 9, 6, 6, 9, 8, 4, 4, 8, 4, 9, 8, 3, 12, 12, 8, 6, 10, 10, 9, 7, 9, 11, 4, 5, 8, 4, 7, 11, 9, 10, 6, 7, 5, 8, 6, 9, 8, 2, 7, 9, 10, 8, 8, 7, 9, 6, 8, 10, 10, 4, 5, 3, 6, 7, 10, 9, 7, 5, 8, 9, 12, 4, 8, 5, 3, 9, 9, 7, 6, 7, 9, 4, 7, 7, 12, 6, 5, 8, 7, 8, 7, 4, 8, 12, 7, 11, 10, 7, 5, 7, 7, 12, 11, 10, 2, 8, 5, 7, 7, 7, 10, 12, 8, 10, 5, 10, 6, 6, 6, 8, 7, 9, 8, 3, 4, 4, 4, 10, 8, 6, 4, 3, 7, 6, 4, 7, 7, 3, 8, 12, 3, 12, 9, 11, 10, 10, 12, 7, 5, 2, 9, 8, 2, 8, 5, 6, 7, 4, 8, 4, 4, 5, 8, 3, 12, 7, 11, 11, 7, 6, 6, 8, 4, 8, 8, 10, 7, 8, 3, 7, 7, 5, 4, 9, 9, 6, 10, 7, 11, 8, 10, 6, 3, 9, 4, 3, 6, 9, 7, 7, 10, 7, 9, 8, 8, 4, 8, 6, 5, 5, 7, 11, 3, 5, 5, 8, 10, 3, 5, 5, 2, 7, 7, 6, 7, 8, 4, 8, 5, 6, 7, 2, 10, 2, 9, 5, 9, 7, 7, 6, 7, 4, 5, 9, 7, 8, 4, 8, 7, 8, 9, 9, 3, 7, 7, 4, 5, 4, 7, 2, 10, 9, 7, 7, 8, 3, 12, 12, 6, 8, 6, 10, 10, 5, 5, 11, 6, 10, 9, 10, 7, 8, 5, 4, 5, 10, 2, 8, 3, 5, 10, 8, 7, 7, 6, 6, 8, 11, 7, 7, 4, 3, 11, 11, 10, 8, 5, 10, 7, 6, 9, 7, 9, 11, 5, 7, 9, 11, 3, 2, 3, 7, 6, 8, 4, 8, 9, 8, 9, 3, 9, 4, 7, 5, 5, 10, 10, 10, 9, 10, 6, 7, 9, 8, 11, 6, 5, 7, 5, 6, 10, 8, 7, 4, 8, 10, 6, 7, 9, 5, 8, 11, 7, 8, 4, 7, 7, 8, 5, 9, 9, 3, 5, 8, 11, 6, 7, 8, 8, 8, 6, 10, 8, 6, 8, 8, 6, 7, 9, 8, 6, 11, 9, 9, 6, 3, 6, 12, 6, 8, 6, 6, 4, 5, 7, 8, 7, 4, 3, 5, 7, 7, 8, 5, 9, 9, 4, 8, 3, 4, 7, 6, 9, 5, 6, 6, 8, 6, 6, 6, 4, 10, 12, 5, 6, 6, 6, 7, 10, 6, 9, 8, 6, 7, 9, 5, 6, 6, 8, 8, 3, 9, 10, 8, 11, 10, 9, 6, 6, 7, 7, 8, 6, 4, 6, 6, 7, 10, 4, 6, 4, 11, 5, 12, 7, 9, 3, 5, 5, 12, 5, 11, 5, 8, 10, 7, 7, 7, 12, 5, 5, 7, 7, 4, 9, 9, 7, 2, 7, 5, 6, 10, 4, 11, 6, 7, 9, 3, 7, 7, 10, 8, 8, 3, 8, 4, 6, 4, 5, 11, 5, 8, 6, 4, 3, 11, 6, 5, 5, 11, 7, 4, 7, 11, 4, 7, 9, 5, 10, 8, 8, 11, 11, 3, 6, 9, 6, 10, 5, 8, 6, 3, 6, 8, 7, 9, 4, 8, 6, 8, 6, 9, 5, 4, 6, 8, 9, 11, 7, 11, 11, 7, 3, 4, 7, 10, 6, 8, 10, 8, 7, 8, 9, 7, 6, 3, 7, 4, 11, 7, 5, 4, 10, 10, 4, 5, 8, 4, 10, 10, 3, 7, 3, 7, 7, 9, 8, 7, 11, 6, 11, 6, 10, 10, 6, 7, 6, 7, 2, 5, 11, 4, 8, 9, 9, 11, 4, 8, 8, 7, 5, 6, 6, 9, 9, 2, 9, 3, 11, 5, 10, 6, 7, 7, 5, 4, 7, 8, 11, 8, 7, 5, 9, 5, 9, 4, 9, 6, 12, 9, 6, 8, 3, 6, 8, 7, 4, 8, 9, 7, 10, 7, 10, 8, 3, 8, 4, 8, 8, 6, 11, 8, 4, 8, 4, 10, 2, 4, 7, 9, 10, 4, 2, 9, 8, 8, 7, 4, 5, 6, 9, 12, 8, 4, 8, 2, 7, 12, 7, 8, 9, 5, 10, 11, 8, 6, 7, 3, 4, 4, 10, 5, 3, 5, 7, 7, 5, 9, 9, 3, 5, 5, 7, 6, 8, 12, 8, 10, 4, 8, 9, 6, 7, 2, 10, 3, 3, 10, 8, 7, 7, 8, 12, 4, 6, 5, 9, 11, 4, 6, 7, 3, 7, 8, 10, 3, 6, 7, 8, 10, 7, 3, 10, 6, 8, 6, 9, 9, 7, 6, 10, 8, 5, 2, 7, 11, 6, 7, 5, 7, 8, 4, 6, 10, 5, 4, 7, 6, 4, 10, 8, 7, 5, 3, 10, 7, 8, 2, 11, 6, 11, 9, 5, 8, 8, 11, 12, 2, 12, 6, 4, 4, 7, 9, 4, 6, 7, 2, 8, 6, 3, 9, 4, 10, 7, 7, 6, 9, 8, 4, 9, 6, 12, 9, 2, 8, 5, 7, 7, 3, 11, 6, 7, 4, 6, 11, 7, 6, 9, 9, 8, 4, 5, 7, 9, 4, 9, 9, 8, 9, 5, 3, 9, 3, 8, 6, 7, 7, 7, 10, 5, 9, 3, 7, 7, 9, 9, 7, 11, 7, 11, 5, 9, 8, 10, 5, 8, 8, 9, 6, 6, 8, 7, 6, 8, 12, 11, 8, 6, 5, 8, 11, 9]\n"
     ]
    },
    {
     "data": {
      "image/png": "[encoded data removed]",
      "text/plain": [
       "<Figure size 432x288 with 1 Axes>"
      ]
     },
     "metadata": {
      "needs_background": "light"
     },
     "output_type": "display_data"
    }
   ],
   "source": [
    "roll_pair()"
   ]
  },
  {
   "cell_type": "markdown",
   "metadata": {},
   "source": [
    "# AVANÇADO\n",
    "\n",
    "Para fixação dos conceitos de probabilidade, passamos problemas matemáticos clássicos envolvendo o cálculo das probabilidades para os resultados em **Python.** \n",
    "\n",
    "- (1) Paradoxo do aniversariante\n",
    "- (2) Paradoxo de Monty Hall - *Let's make a deal!*\n",
    "- (3) Calculando **π** com simulação de Monte-Carlo "
   ]
  },
  {
   "cell_type": "markdown",
   "metadata": {},
   "source": [
    "# (1) Paradoxo do aniversariante\n",
    "\n",
    "Qual a probabilidade de duas pessoas fazerem aniversário no mesmo dia em uma sala com **N** pessoas?\n",
    "\n",
    "*fonte: Wikipedia*\n",
    "\n",
    "Em teoria das probabilidades, o paradoxo do aniversário afirma que dado um grupo de 23 (ou mais) pessoas escolhidas aleatoriamente, a chance de que duas pessoas terão a mesma data de aniversário é de mais de 50%. Para 57 ou mais pessoas, a probabilidade é maior do que 99%, entretanto, ela não pode ser exatamente 100% exceto que se tenha pelo menos 367 pessoas. Calcular essa probabilidade (e as relacionadas a ela) é o problema do aniversário. A matemática por trás disso tem sido utilizada para executar o ataque do aniversário.\n",
    "\n",
    "O problema foi apresentado pela primeira vez pelo matemático polonês Richard von Mises. \n",
    "\n",
    "Para calcular aproximadamente a probabilidade de que em uma sala com n pessoas, pelo menos duas possuam o mesmo aniversário, desprezamos variações na distribuição, tais como anos bissextos, gêmeos, variações sazonais ou semanais, e assumimos que 365 possíveis aniversários são todos igualmente prováveis. Distribuições de aniversários na realidade não são uniformes uma vez que as datas não são equiprováveis.[1]\n",
    "\n",
    "É mais fácil calcular a probabilidade p(n) de que todos os n aniversários sejam diferentes. Se n > 365, pelo Princípio da Casa dos Pombos esta probabilidade é 0. Por outro lado, se n ≤ 365, ele é dado por \n",
    "\n",
    "<br>\n",
    "<img src=\"img/paradoxo_aniversario.png\">\n",
    "<br>\n",
    "\n",
    "porque a segunda pessoa não pode ter o mesmo aniversário do que o primeiro (364/365), o terceiro não pode ter o mesmo aniversário do que o segundo (363/365), etc.\n",
    "\n",
    "O evento de pelo menos duas pessoas entre n terem o mesmo aniversário é o complementar de todos n serem diferentes. Consequentemente, sua probabilidade p(n) é\n",
    "\n",
    "```python\n",
    "    p(n) = 1 − pc(n)\n",
    "```\n",
    "\n",
    "Esta probabilidade ultrapassa 1/2 para n = 23 (com valor aproximado de 50.7%). A seguinte tabela mostra a probabilidade para alguns valores de n (ignorando anos bissextos como descrito anteriormente): \n",
    "\n",
    "<br>\n",
    "<img src=\"img/paradoxo_aniversario_2.png\">\n",
    "<br>"
   ]
  },
  {
   "cell_type": "code",
   "execution_count": 61,
   "metadata": {},
   "outputs": [
    {
     "name": "stdout",
     "output_type": "stream",
     "text": [
      "Digite o número de pessoas: 357\n",
      "Digite o número de repetições: 1000\n",
      "Em 357 pessoas e 1000 testes deram-se 1000 vezes em que pelo menos duas pessoas fazem anos no mesmo dia\n",
      "percentagem(%): 100.00\n"
     ]
    }
   ],
   "source": [
    "import random\n",
    "\n",
    "num_p = int(input(\"Digite o número de pessoas: \"))\n",
    "num_loops = int(input(\"Digite o número de repetições: \")) # num de testes\n",
    "favoraveis = 0\n",
    "for _ in range(num_loops):\n",
    "    ani_dates = [random.randint(1, 366) for _ in range(num_p)] # sortear nova lista de datas (dias) de aniversario\n",
    "    if(any(ani_dates.count(i) > 1 for i in ani_dates)): # verificar se existe a mesma data (valor) mais do que uma vez na lista\n",
    "        favoraveis += 1\n",
    "\n",
    "probs_perc = (favoraveis/num_loops)*100\n",
    "print('Em {} pessoas e {} testes deram-se {} vezes em que pelo menos duas pessoas fazem anos no mesmo dia'.format(num_p, num_loops, favoraveis))\n",
    "print('percentagem(%):', \"%.2f\" %probs_perc)"
   ]
  },
  {
   "cell_type": "code",
   "execution_count": 19,
   "metadata": {},
   "outputs": [
    {
     "data": {
      "image/png": "[encoded data removed]",
      "text/plain": [
       "<Figure size 432x288 with 1 Axes>"
      ]
     },
     "metadata": {},
     "output_type": "display_data"
    }
   ],
   "source": [
    "import matplotlib.pyplot as plt\n",
    "%matplotlib inline\n",
    "\n",
    "def birthday_probs(x):\n",
    "    p = (1.0/365)**x\n",
    "    for i in range((366-x),366):\n",
    "        p *= i\n",
    "    return 1-p\n",
    "\n",
    "plt.plot([birthday_probs(i)*100 for i in range(366)])\n",
    "plt.xlabel(\"Num de pessoas\")\n",
    "plt.ylabel(\"Probabilidades de partilhar o dia do aniversário\")\n",
    "plt.ylim(ymin=0)\n",
    "plt.xlim(xmin=0, xmax=80)\n",
    "plt.show()"
   ]
  },
  {
   "cell_type": "markdown",
   "metadata": {},
   "source": [
    "# (2) Monty Hall\n",
    "\n",
    "O problema de Monty Hall, também conhecido por paradoxo de Monty Hall é um problema matemático e paradoxo que surgiu a partir de um concurso televisivo dos Estados Unidos chamado Let’s Make a Deal, exibido na década de 1970.\n",
    "\n",
    "O jogo consistia no seguinte: Monty Hall, o apresentador, apresentava três portas aos concorrentes. Atrás de uma delas estava um prêmio (um carro) e as outras duas dois bodes.\n",
    "\n",
    "    Na 1.ª etapa o concorrente escolhe uma das três portas (que ainda não é aberta);\n",
    "    Na 2.ª etapa, Monty abre uma das outras duas portas que o concorrente não escolheu, revelando que o carro não se encontra nessa porta e revelando um dos bodes;\n",
    "    Na 3.ª etapa Monty pergunta ao concorrente se quer decidir permanecer com a porta que escolheu no início do jogo ou se ele pretende mudar para a outra porta que ainda está fechada para então a abrir.\n",
    "\n",
    "Agora, com duas portas apenas para escolher — pois uma delas já se viu, na 2.ª etapa, que não tinha o prêmio — e sabendo que o carro está atrás de uma das restantes duas, o concorrente tem que tomar a decisão.\n",
    "\n",
    "\n",
    "Qual é a estratégia mais lógica? Ficar com a porta escolhida inicialmente ou mudar de porta? Com qual das duas portas ainda fechadas o concorrente tem mais probabilidades de ganhar? Por quê?\n",
    "\n",
    "<br>\n",
    "<img src=\"img/bode.png\" width=\"450\" />\n",
    "<br>"
   ]
  },
  {
   "cell_type": "code",
   "execution_count": 20,
   "metadata": {},
   "outputs": [
    {
     "name": "stdout",
     "output_type": "stream",
     "text": [
      "\n",
      "This is the Monty Hall problem.\n",
      "There are 3 doors in front of you, and there is a prize behind one of them.\n",
      "Once you select a door, I will open one of the two you had not selected which does not have a prize behind it.\n",
      "You will then have the opportunity to switch from the door you originally selected to an alternate door..\n",
      "\n",
      "Select door 'A', 'B', or 'C': A\n",
      "\n",
      "This problem relies on conditional probabilities.\n",
      "It is suggested that you switch doors, you will have a higher probability of winning of you do.\n",
      "The door I will now open is: 'C'\n",
      "Would you like to select the third door? Type 'Yes' or 'No': yes\n",
      "You decided to keep your initial door, 'A'\n",
      "Sorry, the prize was behind the alternate door, 'B'\n",
      "This is a check:\n",
      "Prize: 'B'\n",
      "Selection: 'A' \n",
      "Alternate: 'B' \n",
      "Door opened: 'C' \n"
     ]
    }
   ],
   "source": [
    "import random\n",
    "print(\"\"\"\n",
    "This is the Monty Hall problem.\n",
    "There are 3 doors in front of you, and there is a prize behind one of them.\n",
    "Once you select a door, I will open one of the two you had not selected which does not have a prize behind it.\n",
    "You will then have the opportunity to switch from the door you originally selected to an alternate door..\n",
    "\"\"\")\n",
    "\n",
    "A = \"A\"\n",
    "B = \"B\"\n",
    "C = \"C\"\n",
    "\n",
    "doors = [\"A\", \"B\", \"C\"]\n",
    "\n",
    "prize = random.choice(doors)\n",
    "\n",
    "selection = str(input(\"Select door 'A', 'B', or 'C': \"))\n",
    "\n",
    "print(\"\"\"\n",
    "This problem relies on conditional probabilities.\n",
    "It is suggested that you switch doors, you will have a higher probability of winning of you do.\"\"\")\n",
    "\n",
    "\n",
    "if selection == prize:\n",
    "    remaining = list(set(doors) - set(prize))\n",
    "    open_door = random.choice(list(set(doors) - set(random.choice(remaining))))\n",
    "    alternate = random.choice(list(set(doors) - set(open_door) - set(prize)))\n",
    "\n",
    "else:\n",
    "    open_door = random.choice(list(set(doors) - set(selection) - set(prize)))\n",
    "    alternate = random.choice(\n",
    "        list(set(doors) - set(open_door) - set(selection)))\n",
    "\n",
    "print(\"The door I will now open is: %r\" % open_door)\n",
    "\n",
    "second_chance = str(input(\"Would you like to select the third door? Type 'Yes' or 'No': \"))\n",
    "\n",
    "if second_chance == \"Yes\":\n",
    "    print(\"The door you will switch to is: %r \" % alternate)\n",
    "\n",
    "    if alternate == prize:\n",
    "        print(\"Congrats, you win! The prize was behind the alternate, %r\" % alternate)\n",
    "    else:\n",
    "        print (\"Sorry, the prize was behind the original door %r\" % prize)\n",
    "\n",
    "\n",
    "if second_chance != \"Yes\":\n",
    "    print(\"\"\"You decided to keep your initial door, %r\"\"\" % selection)\n",
    "    if selection != prize:\n",
    "        print(\"\"\"Sorry, the prize was behind the alternate door, %r\"\"\" % prize)\n",
    "    else:\n",
    "        print(\"Congrats, you win! The prize was behind your original selection, %r\" % selection)\n",
    "\n",
    "\n",
    "print(\"This is a check:\")\n",
    "\n",
    "print (\"Prize: %r\" % prize)\n",
    "print (\"Selection: %r \" % selection)\n",
    "print (\"Alternate: %r \" % alternate)\n",
    "print (\"Door opened: %r \" % open_door)"
   ]
  },
  {
   "cell_type": "markdown",
   "metadata": {},
   "source": [
    "## Comparando os resultados da simulação com a probabilidade nominal"
   ]
  },
  {
   "cell_type": "code",
   "execution_count": 21,
   "metadata": {},
   "outputs": [],
   "source": [
    "import argparse, random\n",
    "\n",
    "def simulate(num_doors, switch, verbose):\n",
    "    \"\"\"(int, bool): bool\n",
    "\n",
    "    Carry out the game for one contestant.  If 'switch' is True,\n",
    "    the contestant will switch their chosen door when offered the chance.\n",
    "    Returns a Boolean value telling whether the simulated contestant won.\n",
    "    \"\"\"\n",
    "\n",
    "    # Doors are numbered from 0 up to num_doors-1 (inclusive).\n",
    "\n",
    "    # Randomly choose the door hiding the prize.\n",
    "    winning_door = random.randint(0, num_doors-1)\n",
    "    if verbose:\n",
    "        print('Prize is behind door {}'.format(winning_door+1))\n",
    "\n",
    "    # The contestant picks a random door, too.\n",
    "    choice = random.randint(0, num_doors-1)\n",
    "    if verbose:\n",
    "        print('Contestant chooses door {}'.format(choice+1))\n",
    "\n",
    "    # The host opens all but two doors.\n",
    "    closed_doors = list(range(num_doors))\n",
    "    while len(closed_doors) > 2:\n",
    "        # Randomly choose a door to open.\n",
    "        door_to_remove = random.choice(closed_doors)\n",
    "\n",
    "        # The host will never open the winning door, or the door\n",
    "        # chosen by the contestant.\n",
    "        if door_to_remove == winning_door or door_to_remove == choice:\n",
    "            continue\n",
    "\n",
    "        # Remove the door from the list of closed doors.\n",
    "        closed_doors.remove(door_to_remove)\n",
    "        if verbose:\n",
    "            print('Host opens door {}'.format(door_to_remove+1))\n",
    "\n",
    "    # There are always two doors remaining.\n",
    "    assert len(closed_doors) == 2\n",
    "\n",
    "    # Does the contestant want to switch their choice?\n",
    "    if switch:\n",
    "        if verbose:\n",
    "            print('Contestant switches from door {} '.format(choice+1), end='')\n",
    "\n",
    "        # There are two closed doors left.  The contestant will never\n",
    "        # choose the same door, so we'll remove that door as a choice.\n",
    "        available_doors = list(closed_doors) # Make a copy of the list.\n",
    "        available_doors.remove(choice)\n",
    "\n",
    "        # Change choice to the only door available.\n",
    "        choice = available_doors.pop()\n",
    "        if verbose:\n",
    "            print('to {}'.format(choice+1))\n",
    "\n",
    "    # Did the contestant win?\n",
    "    won = (choice == winning_door)\n",
    "    if verbose:\n",
    "        if won:\n",
    "            print('Contestant WON', end='\\n\\n')\n",
    "        else:\n",
    "            print('Contestant LOST', end='\\n\\n')\n",
    "    return won\n",
    "\n",
    "\n",
    "def monty_hall(doors=3, trials=1000, verbose=False):\n",
    "\n",
    "    print('Simulating {} trials...'.format(trials))\n",
    "\n",
    "    # Carry out the trials\n",
    "    winning_non_switchers = 0\n",
    "    winning_switchers = 0\n",
    "    for i in range(trials):\n",
    "        # First, do a trial where the contestant never switches.\n",
    "        won = simulate(doors, switch=False, verbose=verbose)\n",
    "        if won:\n",
    "            winning_non_switchers += 1\n",
    "\n",
    "        # Next, try one where the contestant switches.\n",
    "        won = simulate(doors, switch=True, verbose=verbose)\n",
    "        if won:\n",
    "            winning_switchers += 1\n",
    "\n",
    "    print('    Switching won {0:5} times out of {1} ({2}% of the time)'.format(\n",
    "            winning_switchers, trials,\n",
    "            (winning_switchers / trials * 100 ) ))\n",
    "    print('Not switching won {0:5} times out of {1} ({2}% of the time)'.format(\n",
    "            winning_non_switchers, trials,\n",
    "            (winning_non_switchers / trials * 100 ) ))"
   ]
  },
  {
   "cell_type": "code",
   "execution_count": 22,
   "metadata": {},
   "outputs": [
    {
     "name": "stdout",
     "output_type": "stream",
     "text": [
      "Simulating 1000 trials...\n",
      "    Switching won   669 times out of 1000 (66.9% of the time)\n",
      "Not switching won   344 times out of 1000 (34.4% of the time)\n"
     ]
    }
   ],
   "source": [
    "monty_hall(3, 1000)"
   ]
  },
  {
   "cell_type": "markdown",
   "metadata": {},
   "source": [
    "# (3) Calculando π com Monte Carlo\n",
    "\n",
    "<br>\n",
    "<img src=\"img/pi.png\">\n",
    "<br>\n",
    "\n",
    "Na matemática, o número **π** é uma proporção numérica definida pela relação entre o perímetro de uma circunferência e seu diâmetro; por outras palavras, se uma circunferência tem perímetro **p** e diâmetro **d**, então \n",
    "\n",
    "```python\n",
    "π = p/d\n",
    "```\n",
    "\n",
    "É representado pela letra grega π. A letra grega π (lê-se: pi), foi adotada para o número a partir da palavra grega para perímetro, provavelmente por William Jones em 1706, e popularizada por Leonhard Euler alguns anos mais tarde. Outros nomes para esta constante são constante circular ou número de Ludolph. \n",
    "\n",
    "O valor de **π** pertence aos números irracionais. Para a maioria dos cálculos simples é comum aproximar **π** por 3,14. Uma boa parte das calculadoras científicas de 8 dígitos aproxima **π** por 3,1415926. Para calcular rotas de navegações interplanetárias a NASA utiliza **π ≈ 3,141592653589793** (com 15 casas decimais). Para calcular um círculo com 46 bilhões de anos-luz de raio em volta do universo observável seria suficiente uma aproximação de **π** com apenas 40 casas decimais para garantir precisão de 1 átomo de hidrogênio.\n",
    "\n",
    "Um engenheiro japonês e um estudante americano de Ciência da computação calcularam, usando um computador com doze núcleos físicos, cinco trilhões de dígitos, o equivalente a 6 terabytes de dados.\n",
    "\n",
    "### Método estatístico\n",
    "\n",
    "Um método interessante para o cálculo de **π** pode ser realizado através de Monte Carlo utilizando-se a estatística. Nesse método são sorteados aleatoriamente pontos num quadrado compreendido entre as coordenadas O=(0,0) e B=(1,1). Em seguida calcula-se a distância dos pontos sorteados cn=(xn,yn) até a origem O=(0,0). **π** pode ser aproximado através do número de pontos inscritos na circunferência de raio 1 em relação ao total de pontos sorteados no quadrado de lado 1."
   ]
  },
  {
   "cell_type": "code",
   "execution_count": 74,
   "metadata": {},
   "outputs": [],
   "source": [
    "import matplotlib.pyplot as plt\n",
    "import random\n",
    "\n",
    "inside = 0\n",
    "n = 10000\n",
    "\n",
    "x_inside = []\n",
    "y_inside = []\n",
    "x_outside = []\n",
    "y_outside = []\n",
    "\n",
    "for _ in range(n):\n",
    "    x = random.uniform(-1.0,1.0)\n",
    "    y = random.uniform(-1.0,1.0)\n",
    "    if x**2+y**2 <= 1:\n",
    "        inside += 1\n",
    "        x_inside.append(x)\n",
    "        y_inside.append(y)\n",
    "    else:\n",
    "        x_outside.append(x)\n",
    "        y_outside.append(y)"
   ]
  },
  {
   "cell_type": "code",
   "execution_count": 75,
   "metadata": {},
   "outputs": [
    {
     "name": "stdout",
     "output_type": "stream",
     "text": [
      "3.1216\n"
     ]
    }
   ],
   "source": [
    "pi = 4*inside/n\n",
    "print(pi)"
   ]
  },
  {
   "cell_type": "code",
   "execution_count": 76,
   "metadata": {},
   "outputs": [
    {
     "data": {
      "image/png": "[encoded data removed]",
      "text/plain": [
       "<Figure size 432x288 with 1 Axes>"
      ]
     },
     "metadata": {},
     "output_type": "display_data"
    }
   ],
   "source": [
    "import warnings\n",
    "warnings.filterwarnings(\"ignore\")\n",
    "\n",
    "fig, ax = plt.subplots()\n",
    "ax.set_aspect('equal')\n",
    "ax.scatter(x_inside, y_inside, color='b', marker='s')\n",
    "ax.scatter(x_outside, y_outside, color='r', marker='s')\n",
    "fig.show()"
   ]
  },
  {
   "cell_type": "code",
   "execution_count": null,
   "metadata": {},
   "outputs": [],
   "source": []
  }
 ],
 "metadata": {
  "kernelspec": {
   "display_name": "Python 3",
   "language": "python",
   "name": "python3"
  },
  "language_info": {
   "codemirror_mode": {
    "name": "ipython",
    "version": 3
   },
   "file_extension": ".py",
   "mimetype": "text/x-python",
   "name": "python",
   "nbconvert_exporter": "python",
   "pygments_lexer": "ipython3",
   "version": "3.6.8"
  }
 },
 "nbformat": 4,
 "nbformat_minor": 2
}
