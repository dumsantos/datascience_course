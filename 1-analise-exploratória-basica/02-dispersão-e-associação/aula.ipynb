{
 "cells": [
  {
   "cell_type": "markdown",
   "metadata": {
    "toc": true
   },
   "source": [
    "<h1>Estatistica Descritiva para EDA<span class=\"tocSkip\"></span></h1>\n",
    "<div class=\"toc\"><ul class=\"toc-item\"><li><span><a href=\"#Medidas-de-Dispersão\" data-toc-modified-id=\"Medidas-de-Dispersão-1\"><span class=\"toc-item-num\">1&nbsp;&nbsp;</span>Medidas de Dispersão</a></span><ul class=\"toc-item\"><li><span><a href=\"#Desvio-Padrão\" data-toc-modified-id=\"Desvio-Padrão-1.1\"><span class=\"toc-item-num\">1.1&nbsp;&nbsp;</span>Desvio Padrão</a></span></li><li><span><a href=\"#Variância\" data-toc-modified-id=\"Variância-1.2\"><span class=\"toc-item-num\">1.2&nbsp;&nbsp;</span>Variância</a></span></li></ul></li><li><span><a href=\"#Analisando-Dispersão-dos-dados-do-IBGE\" data-toc-modified-id=\"Analisando-Dispersão-dos-dados-do-IBGE-2\"><span class=\"toc-item-num\">2&nbsp;&nbsp;</span>Analisando Dispersão dos dados do IBGE</a></span><ul class=\"toc-item\"><li><span><a href=\"#Medidas-dispersão-para-a-variável-salário\" data-toc-modified-id=\"Medidas-dispersão-para-a-variável-salário-2.1\"><span class=\"toc-item-num\">2.1&nbsp;&nbsp;</span>Medidas dispersão para a variável salário</a></span></li><li><span><a href=\"#Medidas-dispersão-para-a-variável-idade\" data-toc-modified-id=\"Medidas-dispersão-para-a-variável-idade-2.2\"><span class=\"toc-item-num\">2.2&nbsp;&nbsp;</span>Medidas dispersão para a variável idade</a></span></li><li><span><a href=\"#Medidas-dispersão-para-a-variável-anos_estudo\" data-toc-modified-id=\"Medidas-dispersão-para-a-variável-anos_estudo-2.3\"><span class=\"toc-item-num\">2.3&nbsp;&nbsp;</span>Medidas dispersão para a variável anos_estudo</a></span></li><li><span><a href=\"#Exemplo-de-três-curvas-com-a-mesma-média-e-diferentes-dispersões\" data-toc-modified-id=\"Exemplo-de-três-curvas-com-a-mesma-média-e-diferentes-dispersões-2.4\"><span class=\"toc-item-num\">2.4&nbsp;&nbsp;</span>Exemplo de três curvas com a mesma média e diferentes dispersões</a></span></li></ul></li><li><span><a href=\"#Medidas-de-Associação\" data-toc-modified-id=\"Medidas-de-Associação-3\"><span class=\"toc-item-num\">3&nbsp;&nbsp;</span>Medidas de Associação</a></span><ul class=\"toc-item\"><li><span><a href=\"#Correlação\" data-toc-modified-id=\"Correlação-3.1\"><span class=\"toc-item-num\">3.1&nbsp;&nbsp;</span>Correlação</a></span><ul class=\"toc-item\"><li><span><a href=\"#Tipos-de-correlação\" data-toc-modified-id=\"Tipos-de-correlação-3.1.1\"><span class=\"toc-item-num\">3.1.1&nbsp;&nbsp;</span>Tipos de correlação</a></span><ul class=\"toc-item\"><li><span><a href=\"#Correlação-Linear-de-Pearson\" data-toc-modified-id=\"Correlação-Linear-de-Pearson-3.1.1.1\"><span class=\"toc-item-num\">3.1.1.1&nbsp;&nbsp;</span>Correlação Linear de Pearson</a></span></li><li><span><a href=\"#Correlação-de-Spearman\" data-toc-modified-id=\"Correlação-de-Spearman-3.1.1.2\"><span class=\"toc-item-num\">3.1.1.2&nbsp;&nbsp;</span>Correlação de Spearman</a></span></li><li><span><a href=\"#Correlação-de-Kendall\" data-toc-modified-id=\"Correlação-de-Kendall-3.1.1.3\"><span class=\"toc-item-num\">3.1.1.3&nbsp;&nbsp;</span>Correlação de Kendall</a></span></li></ul></li></ul></li><li><span><a href=\"#Covariância\" data-toc-modified-id=\"Covariância-3.2\"><span class=\"toc-item-num\">3.2&nbsp;&nbsp;</span>Covariância</a></span><ul class=\"toc-item\"><li><span><a href=\"#Exemplo-com-números-gerados\" data-toc-modified-id=\"Exemplo-com-números-gerados-3.2.1\"><span class=\"toc-item-num\">3.2.1&nbsp;&nbsp;</span>Exemplo com números gerados</a></span></li></ul></li></ul></li><li><span><a href=\"#Analisando-correlação-nos-dados-do-IBGE\" data-toc-modified-id=\"Analisando-correlação-nos-dados-do-IBGE-4\"><span class=\"toc-item-num\">4&nbsp;&nbsp;</span>Analisando correlação nos dados do IBGE</a></span></li><li><span><a href=\"#Calculando-a-correlação-de-Spearman\" data-toc-modified-id=\"Calculando-a-correlação-de-Spearman-5\"><span class=\"toc-item-num\">5&nbsp;&nbsp;</span>Calculando a correlação de Spearman</a></span></li></ul></div>"
   ]
  },
  {
   "cell_type": "markdown",
   "metadata": {},
   "source": [
    "<br>\n",
    "<img src=\"img/estatistica_descritiva.png\">\n",
    "<br>\n",
    "\n",
    "\n",
    "*fonte: Wikipedia*\n",
    "\n",
    "A estatística descritiva é um ramo da estatística que aplica várias técnicas para descrever e sumarizar um conjunto de dados. Diferencia-se da estatística inferencial, ou estatística indutiva, pelo objetivo: organizar, sumarizar dados ao invés de usar os dados em aprendizado sobre a população. Esse princípio torna a estatística descritiva uma disciplina independente.\n",
    "\n",
    "Algumas medidas que são normalmente usadas para descrever um conjunto de dados são medidas de tendência central e medidas de variabilidade ou dispersão. Medidas de tendência central incluem média,mediana e moda. Medidas de variabilidade incluem desvio padrão,variância, o valor máximo e mínimo, obliquidade e curtose. \n",
    "\n",
    "A estatística descritiva fornece resumos simples sobre a amostra e sobre as observações que foram feitas. Tal resumo pode ser quantitativo ou visual. Esses resumos tanto podem formar a base da descrição inicial dos dados, como parte de uma análise estatística mais extensa, ou eles podem ser suficientes por si mesmos.\n",
    "\n",
    "Por exemplo, a porcentagem de arremessos no basquetebol é uma descrição estatística que resume a performance de um jogador ou time. Esse número é a quantidade de arremessos bem sucedidos dividido pelo o número de arremessos. Por exemplo, um jogador que consegue porcentagem de 33% faz aproximadamente um arremesso bem sucedido em cada três arremessos. A porcentagem descreve ou resume múltiplos eventos discretos. Considere também a média da nota de várias provas. Esse número descreve a performance geral de um estudante em um curso.\n",
    "\n",
    "<br>\n",
    "<img src=\"https://i.redd.it/qtfg6a4v8eyy.png\">\n",
    "<br>\n",
    "\n",
    "O uso de descrição e resumo estatísticos tem uma história intensiva e, de fato, a simples tabulação de populações e dados económicos foram a primeira forma em que a estatística apareceu. Mais recentemente, uma colecção de técnicas de resumos apareceram com o título de análise exploratória de dados, um exemplo dessas técnicas é o diagrama de caixa.\n",
    "\n",
    "No mundo dos negócios, estatística descritiva fornece um resumo útil de muitos tipos de dados. \n",
    "\n",
    "Já vimos as principais medidas de centralidade:\n",
    "\n",
    "- Média\n",
    "- Mediana\n",
    "- Moda\n",
    "\n",
    "Agora vamos estudar as principais medidas de dispersão:\n",
    "\n",
    "- Desvio Padrão\n",
    "- Variância\n",
    "\n",
    "Em seguida veremos as principais medidas de associação:\n",
    "\n",
    "- Covariãncia\n",
    "- Correlação"
   ]
  },
  {
   "cell_type": "markdown",
   "metadata": {},
   "source": [
    "## Medidas de Dispersão\n",
    "\n",
    "<br>\n",
    "<img src=\"img/medidas_dispersao.png\">\n",
    "<br>\n",
    "\n",
    "*fonte: Wikipedia*\n",
    "\n",
    "Em Estatística, dispersão (também chamada de variabilidade ou espalhamento) mostra o quão esticada ou espremida uma distribuição (teórica ou que define uma amostra) é, e sua representação gráfica de distribuição apresenta estas características. Exemplos comuns de medidas de dispersão estatística são a variância, o desvio padrão e a amplitude interquartil.\n",
    "\n",
    "Dispersão é contrastada com posição ou tendência central, e juntas elas são as propriedades de distribuições mais usadas. "
   ]
  },
  {
   "cell_type": "markdown",
   "metadata": {},
   "source": [
    "### Desvio Padrão\n",
    "\n",
    "<br>\n",
    "<img src=\"img/desvio_padrao.png\">\n",
    "<br>\n",
    "\n",
    "*fonte: Wikipedia*\n",
    "\n",
    "Em probabilidade, o desvio padrão ou desvio padrão populacional (comumente representado pela letra grega σ) é uma medida de dispersão em torno da média populacional de uma variável aleatória. O termo possui também uma acepção específica no campo da estatística, na qual também é chamado de desvio padrão amostral (comumente representado pela letra latina s) e indica uma medida de dispersão dos dados em torno de média amostral. Um baixo desvio padrão indica que os pontos dos dados tendem a estar próximos da média ou do valor esperado. Um alto desvio padrão indica que os pontos dos dados estão espalhados por uma ampla gama de valores. O desvio padrão populacional ou amostral é a raiz quadrada da variância populacional ou amostral correspondente, de modo a ser uma medida de dispersão que seja um número não negativo e que use a mesma unidade de medida dos dados fornecidos.\n",
    "\n",
    "Além de expressar a variabilidade da população, o desvio padrão comumente é usado para medir a confiança em cálculos estatísticos e geralmente permite sintetizar os resultados de uma experiência repetida várias vezes. Por exemplo, a margem de erro de um conjunto de dados é determinada pelo cálculo do desvio padrão da média ou do desvio padrão populacional inverso da raiz quadrada do tamanho da amostra, se a mesma pesquisa for repetida várias vezes.\n",
    "\n",
    "Esta derivação do desvio padrão geralmente é chamada de erro padrão da estimativa ou erro padrão da média (em referência à média). O erro padrão da média é calculado a partir do desvio padrão das médias, as quais poderiam ser computadas a partir de uma população se um número infinito de amostras e uma média para cada amostra fossem considerados. A margem de erro de uma pesquisa é calculada a partir do erro padrão da média (produto do desvio padrão populacional e do inverso da raiz quadrada do tamanho da amostra), e cerca do dobro do erro padrão da média é a metade da largura de 95% do intervalo de confiança para a média (populacional).\n",
    "\n",
    "O desvio padrão é calculado em todas as áreas que usam probabilidade e estatística, em particular biologia, finanças, física e pesquisas em geral. Em ciência, os pesquisadores comumente reportam o desvio padrão dos dados experimentais. Em geral, apenas os efeitos mais de dois desvios padrões distantes do esperado são considerados estatisticamente significativos – por meio de erro aleatório normal ou variação nas medições podem-se distinguir os efeitos prováveis dos efeitos genuínos. Quando apenas uma amostra dos dados da população está disponível, o termo desvio padrão amostral pode referir-se tanto à quantidade mencionada acima quanto a uma quantidade modificada que seja uma estimativa não enviesada do desvio padrão populacional. Quando o desvio padrão populacional não é conhecido, o seu valor é aproximado por meio do desvio padrão amostral.\n",
    "\n",
    "O **Desvio Padrão** é a raiz quadrada da variância, para \"retornar\" a variável para sua escala original.\n",
    "\n",
    "$$ \\sigma = \\sqrt {\\frac{1}{N}\\sum\\limits_{i = 1}^N {\\left( {x_i - \\bar x} \\right)^2 }}  $$\n",
    "\n",
    "Uma vantagem do desvio padrão é que ele é expresso nas mesmas unidades que a distribuição. \n",
    "(Por outro lado, a variância tem outras unidades, já que está elevada ao quadrado.)"
   ]
  },
  {
   "cell_type": "markdown",
   "metadata": {},
   "source": [
    "### Variância\n",
    "\n",
    "<br>\n",
    "<img src=\"img/variancia.png\">\n",
    "<br>\n",
    "\n",
    "*fonte: Wikipedia*\n",
    "\n",
    "Na teoria da probabilidade e na estatística, a variância de uma variável aleatória ou processo estocástico é uma medida da sua dispersão estatística, indicando \"o quão longe\" em geral os seus valores se encontram do valor esperado.\n",
    "\n",
    "A variância de uma variável aleatória real é o seu segundo momento central e também o seu segundo cumulante (os cumulantes só diferem dos momentos centrais a partir do 4º grau, inclusive). Sendo o seu valor o quadrado do Desvio Padrão. \n",
    "\n",
    "A variância (ou segundo momento) tambem é definida como um valor numérico utilizado para descrever quanto variam os números de uma distribuição com relação à média deles. \n",
    "\n",
    "Por definição, a variância é o quadrado do Desvio Padrão:\n",
    "    \n",
    "$$ \\sigma{_x}^{2} = \\frac{1}{N}\\sum\\limits_{i = 1}^N {\\left( {x_i - \\bar x} \\right)^2 }  $$\n",
    "\n",
    "É a média da diferença elevada ao quadrado entre cada valor e a média. Em outras palavras ela mede o quanto os dados estão distantes de x_barra (média), quanto maior esse número, mais distante da média os valores estão, em média (dividido por n).\n",
    "\n"
   ]
  },
  {
   "cell_type": "markdown",
   "metadata": {},
   "source": [
    "### E na realidade como isso faz diferença na nossa vida?\n",
    "Vamos pegar um ônibus.\n",
    "<br>\n",
    "É isso que imaginamos...\n",
    "<br>\n",
    "<img src=\"https://image.shutterstock.com/image-photo/woman-on-passenger-seat-bus-260nw-743692555.jpg\">\n",
    "<br>\n",
    "Mas, nunca estamos sozinhos...\n",
    "<br>\n",
    "<img src=\"https://image.shutterstock.com/image-photo/group-tourists-preparing-get-on-260nw-743695567.jpg\">\n",
    "<br>\n",
    "E tudo bem, desque a variância das pessoas que estiverem conosco estejam dentro da curva normal utilizada para projetar os acentos do ônibus...\n",
    "<br>\n",
    "<img src=\"https://image.shutterstock.com/image-photo/guy-girl-on-bus-has-260nw-743693851.jpg\">\n",
    "<br>\n",
    "Se não...\n",
    "<br>\n",
    "<img src=\"https://static1.squarespace.com/static/583e5fa2e6f2e18631f2da34/t/59fb6148d6839abd5f9d84bc/1509646681673/andre.jpg\">\n",
    "<br>"
   ]
  },
  {
   "cell_type": "markdown",
   "metadata": {},
   "source": [
    "# Aplicando os conceitos em um exemplo real\n",
    "\n",
    "Vamos utilizar o mesmos dados já conhecidos para calcular e comparar as métricas aprendidas"
   ]
  },
  {
   "cell_type": "markdown",
   "metadata": {},
   "source": [
    "## Analisando Dispersão dos dados do IBGE\n",
    "\n"
   ]
  },
  {
   "cell_type": "markdown",
   "metadata": {},
   "source": [
    "### Medidas dispersão para a variável salário\n",
    "\n",
    "Evidentemente o desvio pacrão e a variância fazem sentido para as variáveis quatitativas ou qualitativas ordinais numéricas com várias categorias. Para nosso exemplo temos idade, anos de estudo e salário."
   ]
  },
  {
   "cell_type": "code",
   "execution_count": null,
   "metadata": {},
   "outputs": [],
   "source": [
    "%time\n",
    "\n",
    "import csv \n",
    "lista_com_salarios = []\n",
    "lista_com_idades = list()\n",
    "\n",
    "with open(r'data/data.csv', 'r') as data_csv:\n",
    "    data = csv.reader(data_csv)\n",
    "    \n",
    "    lista_exemplo = []\n",
    "    somatorio = 0\n",
    "    contador = 0\n",
    "    for i, line in enumerate(data):\n",
    "        if i>0:\n",
    "            try: # para evitar os campos nulos\n",
    "                lista_com_idades.append(float(line[2]))\n",
    "                lista_com_salarios.append(float(line[6]))\n",
    "                \n",
    "                somatorio +=  float(line[6]) # coluna 6 é a coluna de salario\n",
    "                contador += 1\n",
    "            except:\n",
    "                pass\n",
    "\n",
    "\n",
    "media = round(somatorio/contador,2)\n",
    "\n",
    "print(f'Média da coluna salario: {media}')"
   ]
  },
  {
   "cell_type": "markdown",
   "metadata": {},
   "source": [
    "Também poderíamos usar separação da leitura do arquivo com dois TRYs diferentes para diferenciação em caso de erro"
   ]
  },
  {
   "cell_type": "code",
   "execution_count": null,
   "metadata": {},
   "outputs": [],
   "source": [
    "%time\n",
    "\n",
    "import csv \n",
    "lista_com_salarios = []\n",
    "lista_com_idades = list()\n",
    "\n",
    "with open(r'data/data.csv', 'r') as data_csv:\n",
    "    data = csv.reader(data_csv)\n",
    "\n",
    "    for i, line in enumerate(data):\n",
    "        if i>0:\n",
    "            try:\n",
    "                lista_com_idades.append(float(line[2]))\n",
    "            except:\n",
    "                pass\n",
    "            \n",
    "            try:\n",
    "                lista_com_salarios.append(float(line[6]))\n",
    "            except:\n",
    "                pass\n",
    "\n",
    "media = round(somatorio/contador,2)\n",
    "\n",
    "print(f'Média da coluna salario: {media}')"
   ]
  },
  {
   "cell_type": "code",
   "execution_count": null,
   "metadata": {},
   "outputs": [],
   "source": [
    "line"
   ]
  },
  {
   "cell_type": "markdown",
   "metadata": {},
   "source": [
    "Fazer a formula com base no código acima e na função abaixo:\n",
    "\n",
    "$$ \\sigma{_x}^{2} = \\frac{1}{N}\\sum\\limits_{i = 1}^N {\\left( {x_i - \\bar x} \\right)^2 }  $$\n"
   ]
  },
  {
   "cell_type": "code",
   "execution_count": null,
   "metadata": {},
   "outputs": [],
   "source": [
    "def calcula_variancia(lista_valores):\n",
    "    '''\n",
    "    Escrever o código para calcular a variância\n",
    "    '''\n",
    "    \n",
    "    return variancia"
   ]
  },
  {
   "cell_type": "code",
   "execution_count": null,
   "metadata": {},
   "outputs": [],
   "source": [
    "calcula_variancia_e_desvio(lista_com_salarios)"
   ]
  },
  {
   "cell_type": "markdown",
   "metadata": {},
   "source": [
    "**Resposta esperada:**\n",
    "<br>media= 19706.790323432902\n",
    "<br>SQT= 376066147518181.8\n",
    "<br>(7854675373.202344, 88626.60646330957)\n",
    "\n",
    "**Dê dois cliques para ver o código da função...**\n",
    "\n",
    "<!--\n",
    "def calcula_variancia_e_desvio(lista_valores):\n",
    "    '''\n",
    "    Escrever o código para calcular a variância\n",
    "    '''\n",
    "    import math\n",
    "    \n",
    "    media = 0\n",
    "    soma = 0\n",
    "    \n",
    "    \n",
    "    for i in lista_valores:\n",
    "        \n",
    "        soma += i\n",
    "        \n",
    "    media = soma/len(lista_valores)\n",
    "    \n",
    "    print('media=', media)\n",
    "    SQT = 0\n",
    "    \n",
    "    for n in lista_valores:\n",
    "        SQT += (n-media)**2\n",
    "    \n",
    "    print('SQT=', SQT)\n",
    "    \n",
    "    variancia = SQT/len(lista_valores)\n",
    "    desvio_padrao = math.sqrt(variancia)\n",
    "    \n",
    "    return (variancia, desvio_padrao)\n",
    "-->\n",
    "\n",
    "**Código alternativo otimizado em Python**\n",
    "<!--\n",
    "def alternativa(lista):\n",
    "    \n",
    "    m = sum(lista) / len(lista)\n",
    "    variancia = sum((xi - m) ** 2 for xi in lista) / len(lista)\n",
    "    desvio_padrao = variancia**0.5\n",
    "    \n",
    "    return variancia, desvio_padrao\n",
    "-->"
   ]
  },
  {
   "cell_type": "code",
   "execution_count": null,
   "metadata": {},
   "outputs": [],
   "source": [
    "def alternativa(lista):\n",
    "    \n",
    "    #\n",
    "    #\n",
    "    #\n",
    "    \n",
    "    return variancia, desvio_padrao"
   ]
  },
  {
   "cell_type": "code",
   "execution_count": null,
   "metadata": {},
   "outputs": [],
   "source": [
    "alternativa(lista_com_salarios)"
   ]
  },
  {
   "cell_type": "code",
   "execution_count": null,
   "metadata": {},
   "outputs": [],
   "source": [
    "alternativa(lista_com_idades)"
   ]
  },
  {
   "cell_type": "markdown",
   "metadata": {},
   "source": [
    "#### Plotando o histograma com matplotlib"
   ]
  },
  {
   "cell_type": "code",
   "execution_count": null,
   "metadata": {},
   "outputs": [],
   "source": [
    "import matplotlib.pyplot as plt\n",
    "\n",
    "plt.hist(lista_com_salarios)\n",
    "plt.show()"
   ]
  },
  {
   "cell_type": "markdown",
   "metadata": {},
   "source": [
    "#### Escolhendo a quantidade de bins (o que é bins?)"
   ]
  },
  {
   "cell_type": "code",
   "execution_count": null,
   "metadata": {},
   "outputs": [],
   "source": [
    "plt.hist(lista_com_salarios, bins=50)\n",
    "plt.show()"
   ]
  },
  {
   "cell_type": "markdown",
   "metadata": {},
   "source": [
    "Escolhendo o range de valores"
   ]
  },
  {
   "cell_type": "code",
   "execution_count": null,
   "metadata": {},
   "outputs": [],
   "source": [
    "plt.hist(lista_com_salarios, bins=50, range=(-100, 75000))\n",
    "plt.show()"
   ]
  },
  {
   "cell_type": "markdown",
   "metadata": {},
   "source": [
    "## Histograma da lista com idades"
   ]
  },
  {
   "cell_type": "code",
   "execution_count": null,
   "metadata": {},
   "outputs": [],
   "source": []
  },
  {
   "cell_type": "markdown",
   "metadata": {},
   "source": [
    "Dê dois cliques para ver a resposta...\n",
    "\n",
    "<!--\n",
    "plt.hist(lista_com_idades, bins=50, range=(15,65))\n",
    "plt.show()\n",
    "-->"
   ]
  },
  {
   "cell_type": "markdown",
   "metadata": {},
   "source": [
    "## Fazendo a mesma análise para a variável anos de estudo"
   ]
  },
  {
   "cell_type": "code",
   "execution_count": null,
   "metadata": {},
   "outputs": [],
   "source": []
  },
  {
   "cell_type": "code",
   "execution_count": null,
   "metadata": {},
   "outputs": [],
   "source": []
  },
  {
   "cell_type": "code",
   "execution_count": null,
   "metadata": {},
   "outputs": [],
   "source": []
  },
  {
   "cell_type": "markdown",
   "metadata": {},
   "source": [
    "Dê dois cliques para ver as respostas...\n",
    "\n",
    "<!--\n",
    "%time\n",
    "\n",
    "import csv \n",
    "lista_anos_estudo = []\n",
    "\n",
    "with open(r'data/data.csv', 'r') as data_csv:\n",
    "    data = csv.reader(data_csv)\n",
    "\n",
    "    for i, line in enumerate(data):\n",
    "        if i>0:\n",
    "            try:\n",
    "                lista_anos_estudo.append(float(line[4]))\n",
    "            except:\n",
    "                pass\n",
    "-->\n",
    "<!--\n",
    "calcula_variancia_e_desvio(lista_anos_estudo)\n",
    "-->\n",
    "<!--\n",
    "alternativa(lista_anos_estudo)\n",
    "-->\n",
    "<!--\n",
    "plt.hist(lista_anos_estudo,bins = 10, range=(4,16))\n",
    "plt.show()\n",
    "-->"
   ]
  },
  {
   "cell_type": "markdown",
   "metadata": {},
   "source": [
    "### Exemplo de três curvas com a mesma média e diferentes dispersões"
   ]
  },
  {
   "cell_type": "code",
   "execution_count": null,
   "metadata": {},
   "outputs": [],
   "source": [
    "import scipy\n",
    "import scipy.stats as ss\n",
    "from scipy.stats import norm\n",
    "import numpy as np\n",
    "import matplotlib.pyplot as plt\n",
    "\n",
    "%matplotlib inline\n",
    "%config InlineBackend.figure_formats=['svg']\n",
    "\n",
    "x_axis = np.arange(-4, 4, 0.001)\n",
    "mean, std, std1, std2 = 0, 0.5, 1, 2\n",
    "\n",
    "plt.plot(x_axis, norm.pdf(x_axis,mean,std), label='std=0.5')\n",
    "plt.plot(x_axis, norm.pdf(x_axis,mean,std1), label='std=1')\n",
    "plt.plot(x_axis, norm.pdf(x_axis,mean,std2), label='std=2')\n",
    "plt.legend(loc='upper left')\n",
    "\n",
    "plt.show()"
   ]
  },
  {
   "cell_type": "code",
   "execution_count": null,
   "metadata": {},
   "outputs": [],
   "source": []
  },
  {
   "cell_type": "markdown",
   "metadata": {},
   "source": [
    "___"
   ]
  },
  {
   "cell_type": "markdown",
   "metadata": {},
   "source": [
    "## Medidas de Associação"
   ]
  },
  {
   "cell_type": "markdown",
   "metadata": {},
   "source": [
    "### Correlação\n",
    "\n",
    "<br>\n",
    "<img src=\"img/correlacao2.png\">\n",
    "<br>\n",
    "\n",
    "*fonte: Wikipedia*\n",
    "\n",
    "Em probabilidade e estatística, correlação, dependência ou associação é qualquer relação estatística (causal ou não causal) entre duas variáveis e correlação é qualquer relação dentro de uma ampla classe de relações estatísticas que envolva dependência entre duas variáveis. Por exemplo, a correlação entre a estatura dos pais e a estatura dos pais e dos filhos. Embora seja comumente denotada como a medida de relação entre duas variáveis aleatórias, correlação não implica causalidade. Em alguns casos, correlação não identifica dependência entre as variáveis. Em geral, há pares de variáveis que apresentam forte dependência estatística, mas que possuem correlação nula. Para este casos, são utilizadas outras medidas de dependência.\n",
    "\n",
    "<br>\n",
    "<img src=\"img/tylervigen.png\">\n",
    "<br>\n",
    "\n",
    "Informalmente correlação é sinônimo de dependência. Formalmente variáveis são dependentes se não satisfizerem a propriedade matemática da independência probabilística. Em termos técnicos, correlação refere–se a qualquer um dos vários tipos específicos de relação entre os valores médios. Existem diferentes coeficientes de correlação (ρ ou r) para medir o grau de correlação. Um dos coeficientes de correlação mais conhecidos é o coeficiente de correlação de Pearson, obtido pela divisão da covariância de duas variáveis pelo produto dos seus desvios padrão e sensível a uma relação linear entre duas variáveis. Entretanto, há outros coeficientes de correlação mais robustos que o coeficiente de correlação de Pearson. Isto é, mais sensíveis às relações não lineares.\n",
    "\n",
    "#### Tipos de correlação\n",
    "\n",
    "Linear:\n",
    "- Pearson\n",
    "\n",
    "Não-lineares:\n",
    "- Spearman\n",
    "- Kendall (tau)\n",
    "\n",
    "<br>\n",
    "<img src=\"img/correlacoes_comp.png\">\n",
    "<br>\n",
    "\n",
    "##### Correlação Linear de Pearson\n",
    "\n",
    "A correlação amostral trata da medida da direção e do grau com que as variáveis X {\\displaystyle X} {\\displaystyle X} e Y {\\displaystyle Y} {\\displaystyle Y} se associam linearmente em uma amostra. Karl Pearson desenvolveu o coeficiente amostral a partir de uma ideia semelhante, porém ligeiramente diferente da de Francis Galton. Então, o coeficiente amostral pode ser chamado de coeficiente produto–momento de Pearson, coeficiente de correlação de Pearson ou simplesmente coeficiente de correlação, que é a medida mais conhecida de dependência entre duas variáveis quantitativa.\n",
    "\n",
    "A correlação lineaar de Pearson é uma versão padronizada (dividida pelos desvios padrão) da covariância e sempre está entre 1 e -1, portanto pode ser comparada com variaveis que não tem necessáriamente a mesma escala.\n",
    "\n",
    "$$ \\rho = \\frac{{}\\sum_{i=1}^{n} (x_i - \\overline{x})(y_i - \\overline{y})}\n",
    "{\\sqrt{\\sum_{i=1}^{n} (x_i - \\overline{x})^2(y_i - \\overline{y})^2}}$$\n",
    "\n",
    "##### Correlação de Spearman\n",
    "\n",
    "A correlação de postos de Spearman é utilizada para a relação entre dados não–lineares. Quando os dados de uma amostra são ordenados de forma crescente, obtém–se uma condição de ordem para que cada elemento ordenado seja um posto.\n",
    "\n",
    "##### Correlação de Kendall\n",
    "\n",
    "A correlação de postos de Kendall, também conhecido como τ de Kendall, é uma medida a partir de uma amostra de dados ordenados como a correlação de postos de Spearman. A vantagem de τ de Kendall é a generalização para um coeficiente de correlação parcial. "
   ]
  },
  {
   "cell_type": "markdown",
   "metadata": {},
   "source": [
    "### Covariância\n",
    "\n",
    "<br>\n",
    "<img src=\"img/covariancia.png\">\n",
    "<br>\n",
    "\n",
    "*fonte: Wikipedia*\n",
    "\n",
    "Em teoria da probabilidade e na estatística, a covariância, ou variância conjunta, é uma medida do grau de interdependência (ou inter-relação) numérica entre duas variáveis aleatórias. Assim, variáveis independentes têm covariância zero.\n",
    "\n",
    "A covariância ou variância conjunta é um momento conjunto de primeira ordem das variáveis aleatórias X e Y, centrados nas respectivas médias. É a média do grau de interdependência ou inter-relação numérica linear entre elas. \n",
    "\n",
    "A covariância é por vezes chamada de medida de dependência linear entre as duas variáveis aleatórias. \n",
    "\n",
    "Dessa forma, a covariância é definida como uma variância entre duas variáveis distintas.\n",
    "\n",
    "$$ cov_{x,y} = \\sum_{i=1}^{n} (x_i - \\bar{x})(y_i - \\bar{y})\\quad \\text{(covariance)} $$\n",
    "\n",
    "$$\\sigma{_x}^{2} = \\sum_{i=1}^{n} (x_i - \\bar{x})^2\\quad \\text{(variance)}\t$$\n",
    "\n",
    "Vale a pena reforçar o que já foi mencionado acima, que a correlação é uma versão padronizada (dividida pelos desvios padrão) da covariância e sempre está entre 1 e -1, portanto pode ser comparada com variaveis que não tem necessáriamente a mesma escala."
   ]
  },
  {
   "cell_type": "markdown",
   "metadata": {},
   "source": [
    "#### Exemplo com números gerados\n",
    "\n",
    "Vamos criar duas variáveis aleatórias para utilização nesta parte de cálculo das medidas de associação através no numpy.random, e a partir do gráfico de dispersão (scatter plot) iremos trazer os códigos das funções de cálculo seguidas nos comandos da bilbioteca Scipy.Stats. "
   ]
  },
  {
   "cell_type": "code",
   "execution_count": null,
   "metadata": {},
   "outputs": [],
   "source": [
    "x1 = [1.3, 2.1, 3.4, 3.7, 5.4, 6.3, 7.2, 8.1, 9.9]\n",
    "x2 = [8.7, 8.5, 7.6, 6.1, 5.1, 5.7, 3.3, 3.8, 1.7]\n",
    "\n",
    "plt.scatter(x=x1,\n",
    "            y=x2)"
   ]
  },
  {
   "cell_type": "code",
   "execution_count": null,
   "metadata": {},
   "outputs": [],
   "source": [
    "xy = list(zip(list(x1),list(x2)))\n",
    "print(xy[:5])"
   ]
  },
  {
   "cell_type": "code",
   "execution_count": null,
   "metadata": {},
   "outputs": [],
   "source": [
    "metodo_nutella = scipy.stats.pearsonr(x1, x2)\n",
    "print(metodo_nutella[0])"
   ]
  },
  {
   "cell_type": "markdown",
   "metadata": {},
   "source": [
    "$$ \\rho = \\frac{{}\\sum_{i=1}^{n} (x_i - \\overline{x})(y_i - \\overline{y})}\n",
    "{\\sqrt{\\sum_{i=1}^{n} (x_i - \\overline{x})^2(y_i - \\overline{y})^2}}$$\n",
    "\n",
    "ou outras formas de representação:\n",
    "\n",
    "<center><img src ='https://wikimedia.org/api/rest_v1/media/math/render/svg/9a883e9f9f3f8abd5a139141e1c60212d53a8f09' /></center>"
   ]
  },
  {
   "cell_type": "code",
   "execution_count": null,
   "metadata": {},
   "outputs": [],
   "source": [
    "def corr_metodo_raiz(data):\n",
    "    n = len(data)\n",
    "    sumx = sum(i[0] for i in data)\n",
    "    sumy = sum(i[1] for i in data)\n",
    "    \n",
    "    sumxSq=sum([i[0]**2.0 for i in data])\n",
    "    sumySq=sum([i[1]**2.0 for i in data])\n",
    "    \n",
    "    pSum=sum([i[0]*i[1] for i in data])\n",
    "    \n",
    "    numerador=pSum-(sumx*sumy/n)\n",
    "    denominador=((sumxSq-pow(sumx,2)/n)*(sumySq-pow(sumy,2)/n))**.5\n",
    "    \n",
    "    if denominador==0:\n",
    "        r=0\n",
    "    else:\n",
    "        r=numerador/denominador\n",
    "        \n",
    "    return r"
   ]
  },
  {
   "cell_type": "code",
   "execution_count": null,
   "metadata": {},
   "outputs": [],
   "source": [
    "corr_metodo_raiz(xy)"
   ]
  },
  {
   "cell_type": "markdown",
   "metadata": {},
   "source": [
    "## Analisando correlação nos dados do IBGE\n"
   ]
  },
  {
   "cell_type": "code",
   "execution_count": null,
   "metadata": {},
   "outputs": [],
   "source": [
    "import numpy\n",
    "\n",
    "print(len(lista_com_idades), len(lista_com_salarios))\n",
    "print('\\n')\n",
    "print(lista_com_idades[:5])\n",
    "print(lista_com_salarios[:5])"
   ]
  },
  {
   "cell_type": "markdown",
   "metadata": {},
   "source": [
    "## Lendo e definindo uma lista de valores com idades e anos de estudo"
   ]
  },
  {
   "cell_type": "code",
   "execution_count": null,
   "metadata": {},
   "outputs": [],
   "source": [
    "idade_estudo = []\n",
    "\n",
    "with open(r'data/data.csv', 'r') as data_csv:\n",
    "    data = csv.reader(data_csv)\n",
    "    for i, line in enumerate(data):\n",
    "        observação = [] # cria uma lista em branco a cada iteração\n",
    "        if i>0:\n",
    "            try: # para evitar os campos nulos\n",
    "                observação.append(float(line[2]))\n",
    "                observação.append(float(line[4]))\n",
    "                idade_estudo.append(observação)\n",
    "            except:\n",
    "                pass\n",
    "            \n",
    "len(idade_estudo)"
   ]
  },
  {
   "cell_type": "code",
   "execution_count": null,
   "metadata": {},
   "outputs": [],
   "source": [
    "idade_estudo[:10]"
   ]
  },
  {
   "cell_type": "code",
   "execution_count": null,
   "metadata": {},
   "outputs": [],
   "source": [
    "%time\n",
    "corr_metodo_raiz(idade_estudo)"
   ]
  },
  {
   "cell_type": "code",
   "execution_count": null,
   "metadata": {},
   "outputs": [],
   "source": [
    "lista_com_idades = []\n",
    "lista_com_estudo = []\n",
    "\n",
    "for row in idade_estudo:\n",
    "    lista_com_idades.append(row[0])\n",
    "    lista_com_estudo.append(row[1])    "
   ]
  },
  {
   "cell_type": "code",
   "execution_count": null,
   "metadata": {},
   "outputs": [],
   "source": [
    "plt.scatter(x=lista_com_idades[:1000], y=lista_com_estudo[:1000])"
   ]
  },
  {
   "cell_type": "markdown",
   "metadata": {},
   "source": [
    "### Vamos fazer a correlação com Scipy.Stats"
   ]
  },
  {
   "cell_type": "code",
   "execution_count": null,
   "metadata": {},
   "outputs": [],
   "source": [
    "%time\n",
    "#\n",
    "#"
   ]
  },
  {
   "cell_type": "markdown",
   "metadata": {},
   "source": [
    "Dê dois cliques para resposta:\n",
    "<!--\n",
    "metodo_nutella = scipy.stats.pearsonr(lista_com_idades,lista_com_estudo)\n",
    "print(metodo_nutella[0])\n",
    "-->"
   ]
  },
  {
   "cell_type": "markdown",
   "metadata": {},
   "source": [
    "# Calculando a correlação de todas as variáveis"
   ]
  },
  {
   "cell_type": "code",
   "execution_count": null,
   "metadata": {},
   "outputs": [],
   "source": [
    "def funcao_calcula_correlacoes(dados):\n",
    "    \n",
    "    \n",
    "    \n",
    "    \n",
    "    print(var1, var2, corr)"
   ]
  },
  {
   "cell_type": "code",
   "execution_count": null,
   "metadata": {},
   "outputs": [],
   "source": []
  },
  {
   "cell_type": "code",
   "execution_count": null,
   "metadata": {},
   "outputs": [],
   "source": []
  },
  {
   "cell_type": "markdown",
   "metadata": {},
   "source": [
    "# Avançado"
   ]
  },
  {
   "cell_type": "markdown",
   "metadata": {},
   "source": [
    "## Calculando a correlação de Spearman"
   ]
  },
  {
   "cell_type": "code",
   "execution_count": null,
   "metadata": {},
   "outputs": [],
   "source": [
    "from scipy.stats import spearmanr\n",
    "\n",
    "corr, _ = spearmanr(lista_com_idades, lista_com_estudo)\n",
    "print(corr)"
   ]
  },
  {
   "cell_type": "markdown",
   "metadata": {},
   "source": [
    "## Calculando a correlação de Kendall por Scipy.Stats"
   ]
  },
  {
   "cell_type": "code",
   "execution_count": null,
   "metadata": {},
   "outputs": [],
   "source": [
    "from scipy.stats import kendalltau\n",
    "tau = kendalltau(lista_com_idades, lista_com_estudo)\n",
    "tau[0]"
   ]
  },
  {
   "cell_type": "markdown",
   "metadata": {},
   "source": [
    "___"
   ]
  },
  {
   "cell_type": "markdown",
   "metadata": {},
   "source": [
    "# Covariância"
   ]
  },
  {
   "cell_type": "code",
   "execution_count": null,
   "metadata": {},
   "outputs": [],
   "source": [
    "from numpy import cov\n",
    "\n",
    "cov(lista_com_idades, lista_com_estudo)"
   ]
  },
  {
   "cell_type": "code",
   "execution_count": null,
   "metadata": {},
   "outputs": [],
   "source": [
    "def cov_func(a, b):\n",
    "\n",
    "    if len(a) != len(b):\n",
    "        return\n",
    "\n",
    "    a_mean = np.mean(a)\n",
    "    b_mean = np.mean(b)\n",
    "\n",
    "    sum = 0\n",
    "\n",
    "    for i in range(0, len(a)):\n",
    "        sum += ((a[i] - a_mean) * (b[i] - b_mean))\n",
    "\n",
    "    return sum/(len(a)-1)"
   ]
  },
  {
   "cell_type": "code",
   "execution_count": null,
   "metadata": {},
   "outputs": [],
   "source": [
    "import numpy as np\n",
    "\n",
    "cov_func(lista_com_idades, lista_com_estudo)"
   ]
  },
  {
   "cell_type": "code",
   "execution_count": null,
   "metadata": {},
   "outputs": [],
   "source": [
    "import statistics\n",
    "std_idades = statistics.stdev(lista_com_idades)\n",
    "std_estudos = statistics.stdev(lista_com_estudo)"
   ]
  },
  {
   "cell_type": "code",
   "execution_count": null,
   "metadata": {},
   "outputs": [],
   "source": [
    "cov_func(lista_com_idades, lista_com_estudo)/(std_idades*std_estudos)"
   ]
  },
  {
   "cell_type": "code",
   "execution_count": null,
   "metadata": {},
   "outputs": [],
   "source": []
  }
 ],
 "metadata": {
  "hide_input": false,
  "kernelspec": {
   "display_name": "Python 3",
   "language": "python",
   "name": "python3"
  },
  "language_info": {
   "codemirror_mode": {
    "name": "ipython",
    "version": 3
   },
   "file_extension": ".py",
   "mimetype": "text/x-python",
   "name": "python",
   "nbconvert_exporter": "python",
   "pygments_lexer": "ipython3",
   "version": "3.6.8"
  },
  "toc": {
   "base_numbering": 1,
   "nav_menu": {},
   "number_sections": true,
   "sideBar": true,
   "skip_h1_title": true,
   "title_cell": "Estatistica Descritiva para EDA",
   "title_sidebar": "Contents",
   "toc_cell": true,
   "toc_position": {
    "height": "914.933px",
    "left": "41px",
    "top": "110.263px",
    "width": "248.117px"
   },
   "toc_section_display": true,
   "toc_window_display": true
  }
 },
 "nbformat": 4,
 "nbformat_minor": 2
}
