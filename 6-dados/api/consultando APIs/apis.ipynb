{
 "cells": [
  {
   "cell_type": "markdown",
   "metadata": {},
   "source": [
    "# API (Application Programming Interface)"
   ]
  },
  {
   "cell_type": "markdown",
   "metadata": {},
   "source": [
    "Antes de falarmos de API, precisamos entender como a internet funciona e porque devemos separar as partes de um software."
   ]
  },
  {
   "cell_type": "markdown",
   "metadata": {},
   "source": [
    "# Como funciona o protocolo HTTP\n",
    "\n",
    "A internet trafega através do protocolo **HTTP (*Hypertext Transfer Protocol*)**. O protocolo HTTP foi criado por **Tim Berners-Lee**, o criador da web, enquanto ele trabalhava na CERN em 1989 (sua equipe e ele também foram responsáveis pelo HTML).\n",
    "\n",
    "O HTTP possui duas entidades básicas: a **Request (pedido)** e a **Response (resposta)**\n",
    "\n",
    "Sempre que entramos em uma página, enviamos uma request para o servidor do site e esperamos uma response com o HTML da página."
   ]
  },
  {
   "cell_type": "markdown",
   "metadata": {},
   "source": [
    "Sempre que enviamos um ***Request (pedido)*** devemos especificar um método. A tabela abaixo cita os métodos mais comuns e explica brevemente o objetivo de cada um:\n",
    "\n",
    "| Método |        Objetivo       |\n",
    "|:------:|:---------------------:|\n",
    "| GET    | Obter informações     |\n",
    "| POST   | Salvar informações    |\n",
    "| PUT    | Atualizar informações |\n",
    "| DELETE | Deletar informações   |\n",
    "\n",
    "Todos eles são comumente utilizados por APIs.\n",
    "\n",
    "O método ***GET*** é o que seu navegador usa para baixar o HTML da página.\n",
    "\n",
    "O metódo ***POST*** também é muito utilizado sempre que você envia algum formulário em um site.\n",
    "\n",
    "Além do método, as requisições também possuem um **header**:\n",
    "\n",
    "O **Header (cabeçalho)** tem a função de dizer para o servidor diversos dados sobre quem fez a solicitação. Dessa forma, o servidor consegue até permitir que você veja mais informações dependendo do seu nível de acesso."
   ]
  },
  {
   "cell_type": "markdown",
   "metadata": {},
   "source": [
    "## PROTOCOLO DE COMUNICAÇÃO HTTP\n",
    "<img src=\"https://www.pubnub.com/wp-content/uploads/2014/11/HTTP-LONG-POLLING.png\">\n",
    "<br>\n",
    "Os clientes, nossos computadores, conseguem acessar páginas e aplicações na internet atravez deste protocolo, que responde as requisições com arquivos de acordo com seu nível de acesso e com o que foi solicitado.\n",
    "Se você acessar o site da Digital House por exemplo e pedir para inspecionar (no Chrome `Ctrl+Shift+i`) os dados de rede, vai ver todos as solicitações e respostas do seu navegador ao servidor.\n",
    "<br>\n",
    "O resultado será algo parecido com isso:\n",
    "<img src=\"https://developer.chrome.com/devtools/images/network-panel.png\">"
   ]
  },
  {
   "cell_type": "markdown",
   "metadata": {},
   "source": [
    "# Códigos de status\n",
    "A solicitação que acabamos de fazer tinha um código de status de 200. Os códigos de status são retornados com cada solicitação feita para um servidor da web. Códigos de status indicam informações sobre o que aconteceu com uma solicitação. Aqui estão alguns códigos que são relevantes para solicitações GET :\n",
    "\n",
    "- 200 - tudo correu bem, e o resultado foi devolvido (se houver)\n",
    "- 301- o servidor está redirecionando você para um terminal diferente. Isso pode acontecer quando uma empresa troca nomes de domínio ou um nome de terminal é alterado.\n",
    "- 401- o servidor acha que você não está autenticado. Isso acontece quando você não envia as credenciais corretas para acessar uma API (falaremos sobre autenticação em uma postagem posterior).\n",
    "- 400- o servidor acha que você fez um pedido incorreto. Isso pode acontecer quando você não envia os dados corretos, entre outras coisas.\n",
    "- 403 - o recurso que você está tentando acessar é proibido - você não tem as permissões certas para visualizá-lo.\n",
    "- 404 - o recurso que você tentou acessar não foi encontrado no servidor.\n",
    "\n",
    "Se tentarmos acessar um site ou endereço que não existe, receberemos o código acima."
   ]
  },
  {
   "cell_type": "code",
   "execution_count": null,
   "metadata": {},
   "outputs": [],
   "source": [
    "import requests\n",
    "\n",
    "response = requests.get(\"http://www.globo.com/cursos/data_science\")\n",
    "print(response.status_code)"
   ]
  },
  {
   "cell_type": "code",
   "execution_count": null,
   "metadata": {},
   "outputs": [],
   "source": [
    "response = requests.get(\"http://api.open-notify.org/iss-pass.json\")\n",
    "print(response.status_code)"
   ]
  },
  {
   "cell_type": "code",
   "execution_count": null,
   "metadata": {},
   "outputs": [],
   "source": [
    "# This is the latitude and longitude of New York City.\n",
    "parameters = {\"q\": 'data science'}\n",
    "\n",
    "# Make a get request with the parameters.\n",
    "response = requests.get(\"http://google.com/\", params=parameters)\n",
    "print(response.status_code)"
   ]
  },
  {
   "cell_type": "markdown",
   "metadata": {},
   "source": [
    "https://www.google.com/search?q=data+science"
   ]
  },
  {
   "cell_type": "markdown",
   "metadata": {},
   "source": [
    "___"
   ]
  },
  {
   "cell_type": "markdown",
   "metadata": {},
   "source": [
    "# O que é uma API?"
   ]
  },
  {
   "cell_type": "markdown",
   "metadata": {},
   "source": [
    "Podemos dizer que uma API é como se fosse uma página da web só que para computadores. Só eles conseguirem acessar, ler e interagir da maneira adequada com as APIs.\n",
    "\n",
    "Ao trabalhar com projetos que envolvem dados, é muito comum vocês utilizarão APIs tanto internas (fornecidas pelas próprias empresas em que vocês trabalham) quanto externas.\n",
    "\n",
    "APIs são uma das principais formas para se obter dados que devem ser analisados.\n",
    "\n",
    "<center>\n",
    "<img src=\"https://cdn-images-1.medium.com/max/1600/1*CkynRe-J1FVnUAk7JmOTdQ.gif\" alt=\"drawing\" width=\"600px\"></center>"
   ]
  },
  {
   "cell_type": "markdown",
   "metadata": {},
   "source": [
    "## Por que acessar uma API ao invez de um banco de dados diretamente?\n",
    "\n",
    "Porque o mundo está cheio de pessoas mal intencionadas e ao dar acesso direto ao banco de dados você está correndo risco de ter seus dados apagados, alterados ou que as pessoas tenham acesso a dados que deveriam ser confidênciais.\n",
    "\n",
    "É uma forma de separar, controlar e até multiplicar os acessos a sistemas de forma organizada.\n",
    "Imagine se cada cliente de um restaurante fosse fazer os pedidos direto ao Chef na cozinha, é provável que os pedidos saiam errados, fora de ordem ou o Chef fique estressado, por isso existe o garçom que faz o papel de levar os pedidos e trazer a comida organizando uma fila de pedidos.\n",
    "A API faz exatamente isso, controlando o que pedir e para quem pedir.\n",
    "\n",
    "<img src=\"https://cdn-images-1.medium.com/max/1600/1*Elr2TpvMI7xfSack20B6bA.png\">"
   ]
  },
  {
   "cell_type": "code",
   "execution_count": null,
   "metadata": {},
   "outputs": [],
   "source": [
    "from IPython.display import Audio,Image, YouTubeVideo\n",
    "id='s7wmiS2mSXY '\n",
    "\n",
    "YouTubeVideo(id=id,width=600,height=300)"
   ]
  },
  {
   "cell_type": "markdown",
   "metadata": {},
   "source": [
    "Mas por que usar uma API em vez de um conjunto de dados estático que você pode baixar? As APIs são úteis nos seguintes casos:\n",
    "\n",
    "- Os dados estão mudando rapidamente. Um exemplo disso são os dados do preço das ações. Não faz muito sentido regenerar um conjunto de dados e baixá-lo a cada minuto - isso demandará muita largura de banda e será bastante lento.\n",
    "- Você quer um pequeno pedaço de um conjunto muito maior de dados. Comentários do Reddit são um exemplo. E se você quiser apenas puxar seus próprios comentários no Reddit? Não faz muito sentido baixar todo o banco de dados Reddit, depois filtrar apenas seus próprios comentários.\n",
    "- Há computação repetida envolvida. Spotify tem uma API que pode dizer o gênero de uma peça musical. Você poderia, teoricamente, criar seu próprio classificador e usá-lo para categorizar a música, mas nunca terá tantos dados quanto o Spotify.\n",
    "\n",
    "Em casos como os acima, uma API é a solução certa.\n",
    "\n",
    "Agora, vamos consultar uma API simples para recuperar dados sobre a Estação Espacial Internacional (ISS). O uso de uma API nos poupará tempo e esforço ao fazermos todos os cálculos.\n",
    "Então, faremos uma solicitação GET para http://api.open-notify.org/iss-passum terminal que não existe, de acordo com a documentação da API ."
   ]
  },
  {
   "cell_type": "code",
   "execution_count": null,
   "metadata": {},
   "outputs": [],
   "source": [
    "response = requests.get(\"http://api.open-notify.org/iss-pass\")\n",
    "print(response.status_code)"
   ]
  },
  {
   "cell_type": "code",
   "execution_count": null,
   "metadata": {},
   "outputs": [],
   "source": [
    "response = requests.get(\"http://api.open-notify.org/iss-pass.json\")\n",
    "print(response.status_code)"
   ]
  },
  {
   "cell_type": "code",
   "execution_count": null,
   "metadata": {},
   "outputs": [],
   "source": [
    "# This is the latitude and longitude of New York City.\n",
    "parameters = {\"lat\": 40.71, \"lon\": -74}\n",
    "\n",
    "# Make a get request with the parameters.\n",
    "response = requests.get(\"http://api.open-notify.org/iss-pass.json\", params=parameters)\n",
    "print(response.status_code)"
   ]
  },
  {
   "cell_type": "code",
   "execution_count": null,
   "metadata": {},
   "outputs": [],
   "source": [
    "response.content"
   ]
  },
  {
   "cell_type": "markdown",
   "metadata": {},
   "source": [
    "___"
   ]
  },
  {
   "cell_type": "markdown",
   "metadata": {},
   "source": [
    "# JSON\n",
    "\n",
    "A estrutura de um json se parece muito com os dicionários em Python"
   ]
  },
  {
   "cell_type": "markdown",
   "metadata": {},
   "source": [
    "Como exemplo, ao acessarmos a API da Jsonplaceholder https://jsonplaceholder.typicode.com/posts/1, vemos o retorno abaixo, ao invés de uma página comum:\n",
    "\n",
    "```python\n",
    "{\n",
    "  \"userId\": 1,\n",
    "  \"id\": 1,\n",
    "  \"title\": \"sunt aut facere repellat provident occaecati excepturi optio reprehenderit\",\n",
    "  \"body\": \"quia et suscipit\\nsuscipit recusandae consequuntur expedita et cum\\nreprehenderit molestiae ut ut quas totam\\nnostrum rerum est autem sunt rem eveniet architecto\"\n",
    "}\n",
    "```\n",
    "\n",
    "Esse padrão de resposta é o que chamamos de JSON (*JavaScript Object Notation - Notação de Objetos JavaScript*), e este é o tipo de resposta mais comum entre as APIs.\n",
    "\n",
    "Ele foi feito para que máquinas entendam seus dados e os utilizem como quiser."
   ]
  },
  {
   "cell_type": "markdown",
   "metadata": {},
   "source": [
    "Outra característica das APIs REST é a **divisão dos recursos**. Por exemplo:\n",
    "\n",
    "https://jsonplaceholder.typicode.com/users/1\n",
    "\n",
    "Ao abrirmos esta URL estamos fazendo um GET para obtermos informações do usuário (/users) com código 1 (/1). Podemos trocar o código do usuário para buscar outros usuários.\n",
    "\n",
    "Também podemos pedir todos os usuários digitando:\n",
    "\n",
    "https://jsonplaceholder.typicode.com/users\n"
   ]
  },
  {
   "cell_type": "markdown",
   "metadata": {},
   "source": [
    "# Trabalhando com dados JSON\n",
    "Você deve ter notado que o conteúdo da resposta anterior era um string(embora tenha sido mostrado como um bytesobjeto, podemos facilmente converter o conteúdo em uma string usando response.content.decode(\"utf-8\")).\n",
    "\n",
    "As strings são a forma como passamos as informações para as APIs, mas é difícil obter as informações que queremos delas. Como sabemos como decodificar a string que recebemos e trabalhar com ela em Python? Como descobrimos altitudeo ISS a partir da resposta da string?\n",
    "\n",
    "Felizmente, existe um formato chamado JavaScript Object Notation (JSON). O JSON é uma maneira de codificar estruturas de dados, como listas e dicionários, para seqüências de caracteres que garantem que elas sejam facilmente legíveis por máquinas. JSON é o formato principal no qual os dados são passados ​​para as APIs, e a maioria dos servidores de API envia suas respostas no formato JSON.\n",
    "\n",
    "O Python tem um ótimo suporte a JSON, com o jsonpacote. O jsonpacote faz parte da biblioteca padrão, portanto, não precisamos instalar nada para usá-lo. Podemos converter listas e dicionários em JSON e converter strings em listas e dicionários . No caso dos nossos dados do ISS Pass, é um dicionário codificado para uma string no formato JSON.\n",
    "\n",
    "A biblioteca json possui dois métodos principais:\n",
    "\n",
    "- dumps - Utiliza um objeto Python e o converte em uma string.\n",
    "- loads - Leva uma string JSON e a converte em um objeto Python."
   ]
  },
  {
   "cell_type": "code",
   "execution_count": null,
   "metadata": {},
   "outputs": [],
   "source": [
    "response.json()"
   ]
  },
  {
   "cell_type": "markdown",
   "metadata": {},
   "source": [
    "# Parâmetros de consulta\n",
    "Você verá que, no último exemplo, recebemos um 400código de status, que indica uma solicitação incorreta. Se você observar a documentação da API do OpenNotify, veremos que o ponto de extremidade do ISS Pass requer dois parâmetros .\n",
    "\n",
    "O ponto de extremidade do ISS Pass retorna quando o ISS passará em seguida sobre um determinado local na Terra. Para calcular isso, precisamos passar as coordenadas do local para a API. Fazemos isso passando dois parâmetros - latitude e longitude.\n",
    "\n",
    "Podemos fazer isso adicionando um argumento opcional de palavra-chave params, a nosso pedido. Neste caso, existem dois parâmetros que precisamos passar:\n",
    "\n",
    "- lat - A latitude do local que queremos.\n",
    "- lon - A longitude do local que queremos.\n",
    "\n",
    "Podemos criar um dicionário com esses parâmetros e depois passá-los para a requests.getfunção.\n",
    "\n",
    "Nós também podemos fazer a mesma coisa diretamente, adicionando os parâmetros de consulta para a url, como este: http://api.open-notify.org/iss-pass.json?lat=40.71&lon=-74.\n",
    "\n",
    "É quase sempre preferível configurar os parâmetros como um dicionário, porque requestscuida de algumas coisas que surgem, como formatar corretamente os parâmetros da consulta.\n",
    "\n",
    "Faremos uma solicitação usando as coordenadas da cidade de São Paulo e veremos a resposta que recebermos.\n",
    "\n",
    "__São Paulo__<br>\n",
    "Latitude: -23.68<br>\n",
    "Longitude: -46.87"
   ]
  },
  {
   "cell_type": "code",
   "execution_count": null,
   "metadata": {},
   "outputs": [],
   "source": [
    "# Este comando busca os mesmos dados que o comando que usamos para buscar os dados de Nova York acima\n",
    "response = requests.get(\"http://api.open-notify.org/iss-pass.json?lat=-23.68&lon=-46.87\")\n",
    "response.json()"
   ]
  },
  {
   "cell_type": "markdown",
   "metadata": {},
   "source": [
    "# Uma mesma API pode conter diversas **ROTAS** ou endpoints diferentes \n",
    "\n",
    "Como o servidor faz para saber o que está sendo pedido na solicitação? Isso é especificado na URL (Uniform Resource Locator), uma espécie de caminho que indica onde um recurso pode ser encontrado.\n",
    "\n",
    "protocol: Indica o protocolo que será utilizado para acessar o HTTP, FTP, HTTPS\n",
    "host: Indica como encontrar na rede o servidor que tem o recurso.\n",
    "port: Indica em qual porta TCP/IP está escutando o servidor\n",
    "path: Indica o caminho para localizar o recurso dentro do servidor\n",
    "query: Indica qual é a consulta que está sendo realizada\n",
    "\n",
    "<img src=\"http://digitalad.com.br/DH/Picture1.png\">\n",
    "<br>\n",
    "\n",
    "Por exemplo, podemos usar a funcionalidade dessa API da ISS para descobrir todas as pessoas que estão em orbita."
   ]
  },
  {
   "cell_type": "code",
   "execution_count": null,
   "metadata": {},
   "outputs": [],
   "source": [
    "# Get the response from the API endpoint.\n",
    "response = requests.get(\"http://api.open-notify.org/astros.json\")\n",
    "data = response.json()\n",
    "\n",
    "# 9 people are currently in space.\n",
    "print(data[\"number\"])\n",
    "print(data)"
   ]
  },
  {
   "cell_type": "markdown",
   "metadata": {},
   "source": [
    "___"
   ]
  },
  {
   "cell_type": "markdown",
   "metadata": {},
   "source": [
    "# Exercício 1 - Extraindo Dados do CoinMarketCap via API\n",
    "\n",
    "Vamos usar o pacote requests para o acessar a API do CoinMarketCap.\n",
    "\n",
    "As instruções da API estão disponíveis em: https://coinmarketcap.com/api/\n",
    "\n",
    "Deveremos extrair os seguintes dados:\n",
    "\n",
    "- Nome da moeda\n",
    "- Preço atual CONVERTIDO EM REAIS\n",
    "- O valor de mercado total\n",
    "- O valor atual em circulação\n",
    "- Percentual de mudança nas últimas 24 horas\n",
    "- Também deveremos limitar para que a API traga apenas 5 moedas para trabalharmos\n",
    "\n",
    "Use a URL: https://api.coinmarketcap.com/v1/ticker/\n",
    "\n",
    "Documentação: https://coinmarketcap.com/api/documentation/v1/#operation/getV1GlobalmetricsQuotesLatest\n"
   ]
  },
  {
   "cell_type": "code",
   "execution_count": null,
   "metadata": {},
   "outputs": [],
   "source": [
    "#Coloque seu código aqui\n",
    "import pandas as pd\n",
    "import requests\n",
    "\n",
    "api = requests.get('https://api.coinmarketcap.com/v1/ticker/?convert=BRL&limit=5')\n",
    "\n",
    "json = api.json()\n",
    "json"
   ]
  },
  {
   "cell_type": "markdown",
   "metadata": {},
   "source": [
    "**Dê dois clieques para ver a resposta:**\n",
    "<!--\n",
    "import pandas as pd\n",
    "import requests\n",
    "\n",
    "api = requests.get('https://api.coinmarketcap.com/v1/ticker/?convert=BRL&limit=5')\n",
    "\n",
    "json = api.json()\n",
    "json\n",
    "-->"
   ]
  },
  {
   "cell_type": "code",
   "execution_count": null,
   "metadata": {},
   "outputs": [],
   "source": [
    "for moeda in json:\n",
    "    nome = moeda['name']\n",
    "    preco = moeda['price_brl']\n",
    "    valor_mercado = moeda['market_cap_brl']\n",
    "    em_circulacao = moeda['available_supply']\n",
    "    percentual_dia = moeda['percent_change_24h']\n",
    "    print('{0}: {1} ({2} / 24h)'.format(nome, preco, percentual_dia))\n",
    "    print('Em circulação: {0}'.format(em_circulacao))\n",
    "    print('Valor de mercado: {0}'.format(valor_mercado))\n",
    "    print('-------------')"
   ]
  },
  {
   "cell_type": "code",
   "execution_count": null,
   "metadata": {},
   "outputs": [],
   "source": [
    "pd.DataFrame(json)"
   ]
  },
  {
   "cell_type": "markdown",
   "metadata": {},
   "source": [
    "___"
   ]
  },
  {
   "cell_type": "markdown",
   "metadata": {},
   "source": [
    "# Exercicio 2\n",
    "\n",
    "Vamos utilizar a API do MercadoLivre para consultar anuncios."
   ]
  },
  {
   "cell_type": "code",
   "execution_count": null,
   "metadata": {},
   "outputs": [],
   "source": [
    "import sys\n",
    "import json\n",
    "import codecs\n",
    "import urllib.request\n",
    "import urllib.parse\n",
    "\n",
    "def usage():\n",
    "    print('Uso: {0} \"PRODUTO\"'.format(sys.argv[0]))\n",
    "    print('Busque um produto por vez')\n",
    "    sys.exit(1)\n",
    "\n",
    "\n",
    "def busca(item):\n",
    "    url = 'https://api.mercadolibre.com/sites/MLB/search?q={0}'.format(item)\n",
    "    opener = urllib.request.build_opener()\n",
    "    opener.addheaders = [\n",
    "        ('User-agent',\n",
    "         \"Mozilla/5.0 (Windows; U; Windows NT 6.1; rv:2.2) Gecko/20110201\")]\n",
    "\n",
    "    with opener.open(url) as fd:\n",
    "        content = fd.read()\n",
    "        encoding = fd.info().get_content_charset()\n",
    "        content = content.decode(encoding)\n",
    "\n",
    "    dic = json.loads(content)\n",
    "    \n",
    "    return dic"
   ]
  },
  {
   "cell_type": "code",
   "execution_count": null,
   "metadata": {},
   "outputs": [],
   "source": [
    "temp = busca('iphone')"
   ]
  },
  {
   "cell_type": "code",
   "execution_count": null,
   "metadata": {},
   "outputs": [],
   "source": [
    "temp"
   ]
  },
  {
   "cell_type": "markdown",
   "metadata": {},
   "source": [
    "Transforme o resultado da API em um Dataframe"
   ]
  },
  {
   "cell_type": "code",
   "execution_count": null,
   "metadata": {},
   "outputs": [],
   "source": [
    "#Coloque seu código aqui\n",
    "pd.DataFrame(temp['results'])"
   ]
  },
  {
   "cell_type": "markdown",
   "metadata": {},
   "source": [
    "**Dê dois clieques para ver a resposta:**\n",
    "<!--\n",
    "pd.DataFrame(temp['results'])\n",
    "-->"
   ]
  },
  {
   "cell_type": "markdown",
   "metadata": {},
   "source": [
    "Cheque o tamanho de cada campo que a API retornou"
   ]
  },
  {
   "cell_type": "code",
   "execution_count": null,
   "metadata": {},
   "outputs": [],
   "source": [
    "for campo1 in temp:\n",
    "    print(len(campo1))"
   ]
  },
  {
   "cell_type": "markdown",
   "metadata": {},
   "source": [
    "___"
   ]
  },
  {
   "cell_type": "markdown",
   "metadata": {},
   "source": [
    "# Exercicio 3\n",
    "\n",
    "Vamos utilizar a API da NBA para entender os principais jogadores das finais.\n",
    "\n",
    "https://github.com/swar/nba_api"
   ]
  },
  {
   "cell_type": "markdown",
   "metadata": {},
   "source": [
    "!pip install nba_api"
   ]
  },
  {
   "cell_type": "code",
   "execution_count": null,
   "metadata": {},
   "outputs": [],
   "source": [
    "%matplotlib inline\n",
    "import requests\n",
    "import matplotlib.pyplot as plt\n",
    "import pandas as pd\n",
    "import seaborn as sns\n",
    "import nba_api\n",
    "\n",
    "from nba_api.stats.static import players\n",
    "from nba_api.stats.static import teams\n",
    "from nba_api.stats.endpoints import leaguegamefinder\n",
    "from nba_api.stats.endpoints import shotchartdetail"
   ]
  },
  {
   "cell_type": "code",
   "execution_count": null,
   "metadata": {},
   "outputs": [],
   "source": [
    "# Get all teams.\n",
    "teams_df = pd.DataFrame(teams.get_teams())\n",
    "teams_df"
   ]
  },
  {
   "cell_type": "code",
   "execution_count": null,
   "metadata": {},
   "outputs": [],
   "source": [
    "# Get all active players.\n",
    "players_df = pd.DataFrame(players.get_active_players())\n",
    "players_df.head()"
   ]
  },
  {
   "cell_type": "code",
   "execution_count": null,
   "metadata": {},
   "outputs": [],
   "source": [
    "team1_id = teams_df[teams_df['nickname']=='Raptors']['id']\n",
    "team2_id = teams_df[teams_df['nickname']=='Warriors']['id']\n",
    "player1_id = players_df[players_df['full_name']=='Kawhi Leonard']['id']\n",
    "player2_id = players_df[players_df['full_name']=='Stephen Curry']['id']"
   ]
  },
  {
   "cell_type": "code",
   "execution_count": null,
   "metadata": {},
   "outputs": [],
   "source": [
    "gamefinder = leaguegamefinder.LeagueGameFinder(team_id_nullable=team1_id, vs_team_id_nullable=team2_id)\n",
    "games = gamefinder.get_data_frames()[0]\n",
    "games.head()"
   ]
  },
  {
   "cell_type": "code",
   "execution_count": null,
   "metadata": {},
   "outputs": [],
   "source": [
    "games.groupby('WL')[['WL']].count()"
   ]
  },
  {
   "cell_type": "code",
   "execution_count": null,
   "metadata": {},
   "outputs": [],
   "source": [
    "shots1 = shotchartdetail.ShotChartDetail(team_id=team1_id,player_id=player1_id,context_measure_simple='FGA', season_nullable='2018-19')\n",
    "shots1_df = shots1.get_data_frames()[0]\n",
    "shots2 = shotchartdetail.ShotChartDetail(team_id=team2_id,player_id=player2_id,context_measure_simple='FGA', season_nullable='2018-19')\n",
    "shots2_df = shots2.get_data_frames()[0]"
   ]
  },
  {
   "cell_type": "code",
   "execution_count": null,
   "metadata": {},
   "outputs": [],
   "source": [
    "# View the head of the DataFrame and all its columns\n",
    "from IPython.display import display\n",
    "with pd.option_context('display.max_columns', None):\n",
    "    display(shots1_df.head())\n",
    "    display(shots2_df.head())"
   ]
  },
  {
   "cell_type": "code",
   "execution_count": null,
   "metadata": {},
   "outputs": [],
   "source": [
    "sns.set_style(\"white\")\n",
    "sns.set_color_codes()\n",
    "plt.figure(figsize=(12,11))\n",
    "plt.scatter(shots1_df.LOC_X, shots1_df.LOC_Y)\n",
    "plt.show()\n",
    "plt.figure(figsize=(12,11))\n",
    "plt.scatter(shots2_df.LOC_X, shots2_df.LOC_Y)\n",
    "plt.show()"
   ]
  },
  {
   "cell_type": "code",
   "execution_count": null,
   "metadata": {},
   "outputs": [],
   "source": [
    "from matplotlib.patches import Circle, Rectangle, Arc\n",
    "\n",
    "def draw_court(ax=None, color='black', lw=2, outer_lines=False):\n",
    "    # If an axes object isn't provided to plot onto, just get current one\n",
    "    if ax is None:\n",
    "        ax = plt.gca()\n",
    "\n",
    "    # Create the various parts of an NBA basketball court\n",
    "\n",
    "    # Create the basketball hoop\n",
    "    # Diameter of a hoop is 18\" so it has a radius of 9\", which is a value\n",
    "    # 7.5 in our coordinate system\n",
    "    hoop = Circle((0, 0), radius=7.5, linewidth=lw, color=color, fill=False)\n",
    "\n",
    "    # Create backboard\n",
    "    backboard = Rectangle((-30, -7.5), 60, -1, linewidth=lw, color=color)\n",
    "\n",
    "    # The paint\n",
    "    # Create the outer box 0f the paint, width=16ft, height=19ft\n",
    "    outer_box = Rectangle((-80, -47.5), 160, 190, linewidth=lw, color=color,\n",
    "                          fill=False)\n",
    "    # Create the inner box of the paint, widt=12ft, height=19ft\n",
    "    inner_box = Rectangle((-60, -47.5), 120, 190, linewidth=lw, color=color,\n",
    "                          fill=False)\n",
    "\n",
    "    # Create free throw top arc\n",
    "    top_free_throw = Arc((0, 142.5), 120, 120, theta1=0, theta2=180,\n",
    "                         linewidth=lw, color=color, fill=False)\n",
    "    # Create free throw bottom arc\n",
    "    bottom_free_throw = Arc((0, 142.5), 120, 120, theta1=180, theta2=0,\n",
    "                            linewidth=lw, color=color, linestyle='dashed')\n",
    "    # Restricted Zone, it is an arc with 4ft radius from center of the hoop\n",
    "    restricted = Arc((0, 0), 80, 80, theta1=0, theta2=180, linewidth=lw,\n",
    "                     color=color)\n",
    "\n",
    "    # Three point line\n",
    "    # Create the side 3pt lines, they are 14ft long before they begin to arc\n",
    "    corner_three_a = Rectangle((-220, -47.5), 0, 140, linewidth=lw,\n",
    "                               color=color)\n",
    "    corner_three_b = Rectangle((220, -47.5), 0, 140, linewidth=lw, color=color)\n",
    "    # 3pt arc - center of arc will be the hoop, arc is 23'9\" away from hoop\n",
    "    # I just played around with the theta values until they lined up with the \n",
    "    # threes\n",
    "    three_arc = Arc((0, 0), 475, 475, theta1=22, theta2=158, linewidth=lw,\n",
    "                    color=color)\n",
    "\n",
    "    # Center Court\n",
    "    center_outer_arc = Arc((0, 422.5), 120, 120, theta1=180, theta2=0,\n",
    "                           linewidth=lw, color=color)\n",
    "    center_inner_arc = Arc((0, 422.5), 40, 40, theta1=180, theta2=0,\n",
    "                           linewidth=lw, color=color)\n",
    "\n",
    "    # List of the court elements to be plotted onto the axes\n",
    "    court_elements = [hoop, backboard, outer_box, inner_box, top_free_throw,\n",
    "                      bottom_free_throw, restricted, corner_three_a,\n",
    "                      corner_three_b, three_arc, center_outer_arc,\n",
    "                      center_inner_arc]\n",
    "\n",
    "    if outer_lines:\n",
    "        # Draw the half court line, baseline and side out bound lines\n",
    "        outer_lines = Rectangle((-250, -47.5), 500, 470, linewidth=lw,\n",
    "                                color=color, fill=False)\n",
    "        court_elements.append(outer_lines)\n",
    "\n",
    "    # Add the court elements onto the axes\n",
    "    for element in court_elements:\n",
    "        ax.add_patch(element)\n",
    "\n",
    "    return ax"
   ]
  },
  {
   "cell_type": "code",
   "execution_count": null,
   "metadata": {},
   "outputs": [],
   "source": [
    "plt.figure(figsize=(16,14))\n",
    "draw_court(outer_lines=True)\n",
    "plt.xlim(-300,300)\n",
    "plt.ylim(-100,500)\n",
    "plt.show()"
   ]
  },
  {
   "cell_type": "code",
   "execution_count": null,
   "metadata": {},
   "outputs": [],
   "source": [
    "plt.figure(figsize=(16,14))\n",
    "plt.scatter(shots1_df.LOC_X, shots1_df.LOC_Y)\n",
    "draw_court()\n",
    "# Adjust plot limits to just fit in half court\n",
    "plt.xlim(-250,250)\n",
    "# Descending values along th y axis from bottom to top\n",
    "# in order to place the hoop by the top of plot\n",
    "plt.ylim(422.5, -47.5)\n",
    "# get rid of axis tick labels\n",
    "# plt.tick_params(labelbottom=False, labelleft=False)\n",
    "plt.show()"
   ]
  },
  {
   "cell_type": "code",
   "execution_count": null,
   "metadata": {},
   "outputs": [],
   "source": [
    "plt.figure(figsize=(16,14))\n",
    "plt.scatter(shots2_df.LOC_X, shots2_df.LOC_Y)\n",
    "draw_court()\n",
    "# Adjust plot limits to just fit in half court\n",
    "plt.xlim(-250,250)\n",
    "# Descending values along th y axis from bottom to top\n",
    "# in order to place the hoop by the top of plot\n",
    "plt.ylim(422.5, -47.5)\n",
    "# get rid of axis tick labels\n",
    "# plt.tick_params(labelbottom=False, labelleft=False)\n",
    "plt.show()"
   ]
  },
  {
   "cell_type": "code",
   "execution_count": null,
   "metadata": {},
   "outputs": [],
   "source": [
    "# create our jointplot\n",
    "\n",
    "cmap=plt.cm.gist_heat_r\n",
    "joint_shot_chart = sns.jointplot(shots1_df.LOC_X, shots1_df.LOC_Y, stat_func=None,\n",
    "                                 kind='hex', space=0, color=cmap(.3), cmap=cmap)\n",
    "\n",
    "joint_shot_chart.fig.set_size_inches(16,14)\n",
    "\n",
    "# A joint plot has 3 Axes, the first one called ax_joint \n",
    "# is the one we want to draw our court onto \n",
    "ax = joint_shot_chart.ax_joint\n",
    "draw_court(ax)\n",
    "\n",
    "# Adjust the axis limits and orientation of the plot in order\n",
    "# to plot half court, with the hoop by the top of the plot\n",
    "ax.set_xlim(-250,250)\n",
    "ax.set_ylim(422.5, -47.5)\n",
    "\n",
    "# Get rid of axis labels and tick marks\n",
    "ax.set_xlabel('')\n",
    "ax.set_ylabel('')\n",
    "ax.tick_params(labelbottom=False, labelleft=False)\n",
    "\n",
    "# Add a title\n",
    "ax.set_title('FGA 2018-19 - Kawhi Leonard', y=1.2, fontsize=14)\n",
    "\n",
    "# Add Data Source and Author\n",
    "ax.text(-250,445,'FGA 2018-19 - Kawhi Leonard \\nData Source: stats.nba.com'\n",
    "        '\\nAuthor: Eduardo Santos', fontsize=12)\n",
    "\n",
    "\n",
    "plt.show()"
   ]
  },
  {
   "cell_type": "code",
   "execution_count": null,
   "metadata": {},
   "outputs": [],
   "source": [
    "# create our jointplot\n",
    "\n",
    "cmap=plt.cm.gist_heat_r\n",
    "joint_shot_chart = sns.jointplot(shots2_df.LOC_X, shots2_df.LOC_Y, stat_func=None,\n",
    "                                 kind='hex', space=0, color=cmap(.3), cmap=cmap)\n",
    "\n",
    "joint_shot_chart.fig.set_size_inches(16,14)\n",
    "\n",
    "# A joint plot has 3 Axes, the first one called ax_joint \n",
    "# is the one we want to draw our court onto \n",
    "ax = joint_shot_chart.ax_joint\n",
    "draw_court(ax)\n",
    "\n",
    "# Adjust the axis limits and orientation of the plot in order\n",
    "# to plot half court, with the hoop by the top of the plot\n",
    "ax.set_xlim(-250,250)\n",
    "ax.set_ylim(422.5, -47.5)\n",
    "\n",
    "# Get rid of axis labels and tick marks\n",
    "ax.set_xlabel('')\n",
    "ax.set_ylabel('')\n",
    "ax.tick_params(labelbottom=False, labelleft=False)\n",
    "\n",
    "# Add a title\n",
    "ax.set_title('FGA 2018-19 - Stephen Curry', y=1.2, fontsize=14)\n",
    "\n",
    "# Add Data Source and Author\n",
    "ax.text(-250,445,'FGA 2018-19 - Stephen Curry \\nData Source: stats.nba.com'\n",
    "        '\\nAuthor: Eduardo Santos', fontsize=12)\n",
    "\n",
    "\n",
    "plt.show()"
   ]
  },
  {
   "cell_type": "code",
   "execution_count": null,
   "metadata": {},
   "outputs": [],
   "source": [
    "from IPython.display import HTML, IFrame\n",
    "\n",
    "IFrame('https://embed.ted.com/talks/lang/pt-br/rajiv_maheswaran_the_math_behind_basketball_s_wildest_moves', width=854, height=480)"
   ]
  },
  {
   "cell_type": "markdown",
   "metadata": {},
   "source": [
    "___"
   ]
  },
  {
   "cell_type": "markdown",
   "metadata": {},
   "source": [
    "# Exercicio 4\n",
    "\n",
    "Consultando dados do IBGE pela plataforma SIDRA\n",
    "\n",
    "http://api.sidra.ibge.gov.br/home/ajuda\n",
    "    "
   ]
  },
  {
   "cell_type": "code",
   "execution_count": null,
   "metadata": {},
   "outputs": [],
   "source": []
  },
  {
   "cell_type": "code",
   "execution_count": null,
   "metadata": {},
   "outputs": [],
   "source": []
  },
  {
   "cell_type": "markdown",
   "metadata": {},
   "source": [
    "___"
   ]
  },
  {
   "cell_type": "markdown",
   "metadata": {},
   "source": [
    "# Exercicio 5\n",
    "\n",
    "Vamos pesquisar filmes na plataforma http://www.omdbapi.com/\n",
    "\n",
    "Cadastra-se para receber uma API-key para ter acesso a 1000 requests por dia."
   ]
  },
  {
   "cell_type": "code",
   "execution_count": null,
   "metadata": {},
   "outputs": [],
   "source": [
    "!curl \"http://www.omdbapi.com/?t=matrix&y=1999&apikey=2ec0dca4\""
   ]
  },
  {
   "cell_type": "code",
   "execution_count": null,
   "metadata": {},
   "outputs": [],
   "source": [
    "# senha marcos omdb: 57991bf7"
   ]
  },
  {
   "cell_type": "code",
   "execution_count": null,
   "metadata": {},
   "outputs": [],
   "source": [
    "import pandas as pd\n",
    "ids = pd.read_csv('imdb_list.csv')\n",
    "ids.head()"
   ]
  },
  {
   "cell_type": "code",
   "execution_count": null,
   "metadata": {},
   "outputs": [],
   "source": [
    "%%time\n",
    "result=[]\n",
    "for c, id in enumerate(['tt0133093', 'tt0993846']):\n",
    "    \n",
    "    api_base_url = 'http://www.omdbapi.com/?i=' + id + '&apikey=57991bf7'\n",
    "    api_response = requests.get(api_base_url)\n",
    "    response = json.loads(api_response.text)\n",
    "\n",
    "    if c == 0:\n",
    "        result = pd.DataFrame(response)\n",
    "    else:\n",
    "        temp = pd.DataFrame(response)\n",
    "        result = pd.concat([result, temp])\n",
    "\n",
    "result.shape"
   ]
  },
  {
   "cell_type": "code",
   "execution_count": null,
   "metadata": {},
   "outputs": [],
   "source": [
    "result"
   ]
  },
  {
   "cell_type": "code",
   "execution_count": null,
   "metadata": {},
   "outputs": [],
   "source": [
    "# for i, row in enumerate(ids['columns']):\n",
    "#     parametro = \n",
    "#     break"
   ]
  },
  {
   "cell_type": "code",
   "execution_count": null,
   "metadata": {},
   "outputs": [],
   "source": []
  },
  {
   "cell_type": "code",
   "execution_count": null,
   "metadata": {},
   "outputs": [],
   "source": [
    "ids['id'] = ids['columns'].str[-9:]\n",
    "ids.head()"
   ]
  },
  {
   "cell_type": "code",
   "execution_count": null,
   "metadata": {},
   "outputs": [],
   "source": [
    "%%time\n",
    "result=[]\n",
    "for c, id in enumerate(ids['id'].values):\n",
    "    \n",
    "    api_base_url = 'http://www.omdbapi.com/?i=' + id + '&apikey=57991bf7'\n",
    "    api_response = requests.get(api_base_url)\n",
    "    response = json.loads(api_response.text)\n",
    "\n",
    "    if c == 0:\n",
    "        result = pd.DataFrame(response)\n",
    "    else:\n",
    "        temp = pd.DataFrame(response)\n",
    "        result = pd.concat([result, temp])\n",
    "\n",
    "result.shape"
   ]
  },
  {
   "cell_type": "code",
   "execution_count": null,
   "metadata": {},
   "outputs": [],
   "source": [
    "result.shape"
   ]
  },
  {
   "cell_type": "code",
   "execution_count": null,
   "metadata": {},
   "outputs": [],
   "source": []
  },
  {
   "cell_type": "code",
   "execution_count": null,
   "metadata": {},
   "outputs": [],
   "source": [
    "id_example='tt0133093'\n",
    "api_base_url = 'http://www.omdbapi.com/?i=' + id_example + '&apikey=57991bf7'\n",
    "api_response = requests.get(api_base_url)\n",
    "response = json.loads(api_response.text)\n",
    "pd.DataFrame(response)"
   ]
  },
  {
   "cell_type": "code",
   "execution_count": null,
   "metadata": {},
   "outputs": [],
   "source": [
    "df1 = pd.DataFrame(response)\n",
    "\n",
    "df2\n",
    "\n",
    "pd.concat([df1,df2])\n"
   ]
  },
  {
   "cell_type": "code",
   "execution_count": null,
   "metadata": {},
   "outputs": [],
   "source": [
    "api_base_url = 'http://www.omdbapi.com/?i=tt0133093&apikey=57991bf7'\n",
    "api_response = requests.get(api_base_url)\n",
    "response = json.loads(api_response.text)\n",
    "response"
   ]
  },
  {
   "cell_type": "code",
   "execution_count": null,
   "metadata": {},
   "outputs": [],
   "source": [
    "api_base_url = 'https://dsimdbapi.herokuapp.com/?i=tt3896198'\n",
    "api_response = requests.get(api_base_url)\n",
    "response = json.loads(api_response.text)\n",
    "response"
   ]
  },
  {
   "cell_type": "markdown",
   "metadata": {},
   "source": [
    "___"
   ]
  },
  {
   "cell_type": "markdown",
   "metadata": {},
   "source": [
    "# Exercicio 6\n",
    "\n",
    "Consultando dados de geolocalização com api do google maps\n",
    "\n",
    "https://cloud.google.com/maps-platform/\n",
    "\n",
    "https://maps.googleapis.com/maps/api/geocode/json?address=MONROE+860+CABA+ARGENTINA\n",
    "\n"
   ]
  },
  {
   "cell_type": "code",
   "execution_count": null,
   "metadata": {},
   "outputs": [],
   "source": []
  },
  {
   "cell_type": "markdown",
   "metadata": {},
   "source": [
    "___"
   ]
  },
  {
   "cell_type": "markdown",
   "metadata": {},
   "source": [
    "# Próximos passos\n",
    "\n",
    "Há milhares de APIs e cada uma delas tem um jeito próprio de lidar, ou seja, de fazer nossas solicitações de dados e envio de dados.\n",
    "\n",
    "Uma das muitas vantagens das APIs é tornar as soluções encaixaveis e reutilizaveis em outros programas.\n",
    "\n",
    "Na nossa área de ciência de dados, não só utilizamos APIs para consultar dados mas muitas vezes para fornecer nossa aplicação de machine learning como um serviço.\n",
    "\n",
    "Eu pessoalmente gosto muito de entregar um serviço como uma API e recomendo que comecem a pensar nos serviços que vocês entregam de forma repetitiva da mesma forma.\n",
    "\n",
    "Uma das vezes que entreguei um projeto (sistema de recomendação de vinhos) utilizei a biblioteca em python `flask` para criar uma API com pouquissimas linhas de código.\n",
    "\n",
    "Uma dica legal para consultar apis é a plataforma: https://99apis.com/home"
   ]
  },
  {
   "cell_type": "code",
   "execution_count": null,
   "metadata": {},
   "outputs": [],
   "source": []
  }
 ],
 "metadata": {
  "kernelspec": {
   "display_name": "Python 3",
   "language": "python",
   "name": "python3"
  },
  "language_info": {
   "codemirror_mode": {
    "name": "ipython",
    "version": 3
   },
   "file_extension": ".py",
   "mimetype": "text/x-python",
   "name": "python",
   "nbconvert_exporter": "python",
   "pygments_lexer": "ipython3",
   "version": "3.7.3"
  }
 },
 "nbformat": 4,
 "nbformat_minor": 2
}
