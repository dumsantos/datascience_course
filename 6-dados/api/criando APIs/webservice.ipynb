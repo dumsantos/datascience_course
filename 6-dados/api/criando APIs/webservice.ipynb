{
 "cells": [
  {
   "cell_type": "markdown",
   "metadata": {},
   "source": [
    "# Flask para gerar uma API\n",
    "\n",
    "Tutorial de Flask: https://www.youtube.com/playlist?list=PLjSf4DcGBdiG52KoaYwfI1s5yRdtqeI-T"
   ]
  },
  {
   "cell_type": "markdown",
   "metadata": {},
   "source": [
    "Instando as bibliotecas necessárias"
   ]
  },
  {
   "cell_type": "markdown",
   "metadata": {},
   "source": [
    "!pip install flask-restful\n",
    "!pip install flask\n",
    "!pip install flask_jsonpify --user"
   ]
  },
  {
   "cell_type": "code",
   "execution_count": null,
   "metadata": {},
   "outputs": [],
   "source": [
    "import pickle\n",
    "import pandas as pd\n",
    "import numpy as np\n",
    "import time\n",
    "\n",
    "from flask import Flask, request\n",
    "from flask_restful import Api, Resource\n",
    "from flask import Flask\n",
    "from flask_jsonpify import jsonpify"
   ]
  },
  {
   "cell_type": "markdown",
   "metadata": {},
   "source": [
    "Valores para prever o valor da casa"
   ]
  },
  {
   "cell_type": "code",
   "execution_count": null,
   "metadata": {},
   "outputs": [],
   "source": [
    "# \"100-323-4124.4324-0.4242-5\".split(\"-\")"
   ]
  },
  {
   "cell_type": "code",
   "execution_count": null,
   "metadata": {},
   "outputs": [],
   "source": [
    "t = time.strftime('%x %X')\n",
    "t"
   ]
  },
  {
   "cell_type": "markdown",
   "metadata": {},
   "source": [
    "Função para escrever o arquivo de log de tudo o que está sendo feito"
   ]
  },
  {
   "cell_type": "code",
   "execution_count": null,
   "metadata": {},
   "outputs": [],
   "source": [
    "def escreve_log(path='log.log', text=''):\n",
    "    with open(path, 'a') as log:\n",
    "        t = time.strftime('%x %X')\n",
    "        log.write(t + str(text) + '\\n')"
   ]
  },
  {
   "cell_type": "markdown",
   "metadata": {},
   "source": [
    "Função para carregar o arquivo do modelo criado com o Pickle"
   ]
  },
  {
   "cell_type": "code",
   "execution_count": null,
   "metadata": {},
   "outputs": [],
   "source": [
    "def open_pkl(path=''):\n",
    "    escreve_log(text='comecou a carregar o pkl')\n",
    "    file = open(path, 'rb')\n",
    "    model = pickle.load(file)\n",
    "    file.close\n",
    "    escreve_log(text='terminou de carregar o pkl')\n",
    "    return model"
   ]
  },
  {
   "cell_type": "markdown",
   "metadata": {},
   "source": [
    "Classes de reposta para o acesso ao index (home) com tutorial e para acesso ao predict"
   ]
  },
  {
   "cell_type": "code",
   "execution_count": null,
   "metadata": {},
   "outputs": [],
   "source": [
    "class Index(Resource):\n",
    "    def get(self):\n",
    "        escreve_log(text='acessou o index')\n",
    "        return \"\"\"Modelo Preditivo\n",
    "        Este é o modelo para prever os valores de casa baseado nas seguintes caracteristicas\n",
    "        Para conseguir sua previsão acesse a url/predict/<features>, onde as features devem ser substituidas pelos valores númericos de cada feature separados com \"-\"\n",
    "        - LotArea\n",
    "        - YearBuilt\n",
    "        - OverallQual\n",
    "        - WoodDeckSF\n",
    "        - YrSold\"\"\"\n",
    "\n",
    "\n",
    "class Prediction(Resource):\n",
    "    def get(self, features):\n",
    "        \n",
    "        escreve_log(text='usuario iniciou uma prediction')\n",
    "        features = str(features).split(\"-\")\n",
    "        X = np.array(features).reshape(1,5)\n",
    "        escreve_log(text=f'valores:{X}' )\n",
    "        df = pd.DataFrame(X, columns=['LotArea','YearBuilt','OverallQual','WoodDeckSF','YrSold'])\n",
    "        model = open_pkl('model.pkl')\n",
    "        \n",
    "        yhat = model.predict(df)\n",
    "        escreve_log(text=f'predicao:{yhat}')\n",
    "        return jsonpify(yhat[0])"
   ]
  },
  {
   "cell_type": "markdown",
   "metadata": {},
   "source": [
    "Função que inicia a Aplicação Flask"
   ]
  },
  {
   "cell_type": "code",
   "execution_count": null,
   "metadata": {},
   "outputs": [],
   "source": [
    "def main():\n",
    "    app = Flask(__name__)\n",
    "    api = Api(app)\n",
    "    \n",
    "    api.add_resource(Index, '/')\n",
    "    api.add_resource(Prediction, '/predict/<features>')\n",
    "\n",
    "    app.run(port=1247, host='127.0.0.0')\n",
    "\n",
    "\n",
    "main()"
   ]
  },
  {
   "cell_type": "code",
   "execution_count": null,
   "metadata": {},
   "outputs": [],
   "source": []
  },
  {
   "cell_type": "code",
   "execution_count": null,
   "metadata": {},
   "outputs": [],
   "source": []
  }
 ],
 "metadata": {
  "kernelspec": {
   "display_name": "Python 3",
   "language": "python",
   "name": "python3"
  },
  "language_info": {
   "codemirror_mode": {
    "name": "ipython",
    "version": 3
   },
   "file_extension": ".py",
   "mimetype": "text/x-python",
   "name": "python",
   "nbconvert_exporter": "python",
   "pygments_lexer": "ipython3",
   "version": "3.7.3"
  }
 },
 "nbformat": 4,
 "nbformat_minor": 2
}
